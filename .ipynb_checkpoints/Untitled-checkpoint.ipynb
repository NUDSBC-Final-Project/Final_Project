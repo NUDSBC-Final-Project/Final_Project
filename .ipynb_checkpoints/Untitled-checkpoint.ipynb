{
 "cells": [
  {
   "cell_type": "code",
   "execution_count": 11,
   "metadata": {},
   "outputs": [],
   "source": [
    "import pandas as pd\n",
    "import numpy as np"
   ]
  },
  {
   "cell_type": "code",
   "execution_count": 12,
   "metadata": {},
   "outputs": [],
   "source": [
    "url_SNP = \"Resources/S&P500.csv\"\n",
    "url_MSFT = \"Resources/MSFT.csv\"\n",
    "url_BAC = \"Resources/BAC.csv\"\n",
    "url_BA = \"Resources/BA.csv\"\n",
    "url_PFE = \"Resources/PFE.csv\"\n",
    "url_X = \"Resources/X.csv\""
   ]
  },
  {
   "cell_type": "code",
   "execution_count": 23,
   "metadata": {},
   "outputs": [],
   "source": [
    "SNP_df = pd.read_csv(url_SNP)\n",
    "MSFT_df = pd.read_csv(url_MSFT)\n",
    "BAC_df = pd.read_csv(url_BAC)\n",
    "BA_df = pd.read_csv(url_BA)\n",
    "PFE_df = pd.read_csv(url_PFE)\n",
    "X_df = pd.read_csv(url_X)"
   ]
  },
  {
   "cell_type": "code",
   "execution_count": 32,
   "metadata": {},
   "outputs": [],
   "source": [
    "SNP_df[\"Positive/Negative\"] = np.where(SNP_df.eval(\"Open < Close\"), \"Positive\", \"Negative \")\n",
    "MSFT_df[\"Positive/Negative\"] = np.where(SNP_df.eval(\"Open < Close\"), \"Positive\", \"Negative \")\n",
    "BAC_df[\"Positive/Negative\"] = np.where(SNP_df.eval(\"Open < Close\"), \"Positive\", \"Negative \")\n",
    "BA_df[\"Positive/Negative\"] = np.where(SNP_df.eval(\"Open < Close\"), \"Positive\", \"Negative \")\n",
    "PFE_df[\"Positive/Negative\"] = np.where(SNP_df.eval(\"Open < Close\"), \"Positive\", \"Negative \")\n",
    "X_df[\"Positive/Negative\"] = np.where(SNP_df.eval(\"Open < Close\"), \"Positive\", \"Negative \")"
   ]
  },
  {
   "cell_type": "code",
   "execution_count": 39,
   "metadata": {},
   "outputs": [],
   "source": [
    "# SNP_df.head()\n",
    "# MSFT_df.head()\n",
    "# BAC_df.head()\n",
    "# BA_df.head()\n",
    "# PFE_df.head()\n",
    "# X_df.head()"
   ]
  },
  {
   "cell_type": "code",
   "execution_count": 40,
   "metadata": {},
   "outputs": [],
   "source": [
    "SNP_df.to_csv(\"Resources/S&P500.csv\")\n",
    "MSFT_df.to_csv(\"Resources/MSFT.csv\")\n",
    "BAC_df.to_csv(\"Resources/BAC.csv\")\n",
    "BA_df.to_csv(\"Resources/BA.csv\")\n",
    "PFE_df.to_csv(\"Resources/PFE.csv\")\n",
    "X_df.to_csv(\"Resources/X.csv\")"
   ]
  },
  {
   "cell_type": "code",
   "execution_count": null,
   "metadata": {},
   "outputs": [],
   "source": []
  }
 ],
 "metadata": {
  "kernelspec": {
   "display_name": "Python 3",
   "language": "python",
   "name": "python3"
  },
  "language_info": {
   "codemirror_mode": {
    "name": "ipython",
    "version": 3
   },
   "file_extension": ".py",
   "mimetype": "text/x-python",
   "name": "python",
   "nbconvert_exporter": "python",
   "pygments_lexer": "ipython3",
   "version": "3.7.3"
  }
 },
 "nbformat": 4,
 "nbformat_minor": 2
}
