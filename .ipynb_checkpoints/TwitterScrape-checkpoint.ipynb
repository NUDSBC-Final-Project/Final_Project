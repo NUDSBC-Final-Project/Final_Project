{
 "cells": [
  {
   "cell_type": "code",
   "execution_count": 114,
   "metadata": {},
   "outputs": [],
   "source": [
    "# Dependencies\n",
    "import os\n",
    "import pandas as pd\n",
    "from splinter import Browser\n",
    "from bs4 import BeautifulSoup as bs\n",
    "import numpy as np\n",
    "import re\n",
    "import time\n",
    "from selenium import webdriver\n"
   ]
  },
  {
   "cell_type": "code",
   "execution_count": 115,
   "metadata": {},
   "outputs": [],
   "source": [
    "driver = webdriver.Chrome()\n",
    "url = 'https://twitter.com/realDonaldTrump'"
   ]
  },
  {
   "cell_type": "code",
   "execution_count": 116,
   "metadata": {},
   "outputs": [],
   "source": [
    "driver.get(url)"
   ]
  },
  {
   "cell_type": "code",
   "execution_count": 117,
   "metadata": {},
   "outputs": [
    {
     "name": "stdout",
     "output_type": "stream",
     "text": [
      "3\n",
      "3\n",
      "Democrats try to impeach him, corporate media spends all day attacking him, and all President Trump does is keep on fueling the best surging economy in decades. It’s really amazing.\n",
      "8:28 AM · Feb 7, 2020\n",
      "---------------------------------------------------------------------------\n",
      "<class 'str'>\n",
      "8:28 AM Feb 7, 2020\n",
      "Congratulations to my friends and colleagues, \n",
      "10:14 AM · Feb 7, 2020\n",
      "---------------------------------------------------------------------------\n",
      "<class 'str'>\n",
      "10:14 AM Feb 7, 2020\n",
      "Boarding Air Force One \n",
      "9:59 AM · Feb 7, 2020\n",
      "---------------------------------------------------------------------------\n",
      "<class 'str'>\n",
      "9:59 AM Feb 7, 2020\n",
      "12\n",
      "12\n",
      "Crazy Nancy Pelosi’s Impeachment Hoax has lifted Republican Congressional Polls (she lost the House once before!), and my Polls, WAY UP, which was expected, but it has had a great effect on Republican Senate races, including North Carolina, Kentucky, Colorado and Arizona. Thanks!\n",
      "9:16 AM · Feb 8, 2020\n",
      "---------------------------------------------------------------------------\n",
      "<class 'str'>\n",
      "9:16 AM Feb 8, 2020\n",
      "Thank you Iowa for the RECORD vote we just received in the Primary. The Dems were 25% down (although their votes are all fried!).\n",
      "9:03 AM · Feb 8, 2020\n",
      "---------------------------------------------------------------------------\n",
      "<class 'str'>\n",
      "9:03 AM Feb 8, 2020\n",
      "Great poll in Iowa, where I just landed for a Big Rally! \n",
      "6:19 PM · Jan 30, 2020\n",
      "---------------------------------------------------------------------------\n",
      "<class 'str'>\n",
      "6:19 PM Jan 30, 2020\n",
      "....was given a horrendous report by his superior, the man he reported to, who publicly stated that Vindman had problems with judgement, adhering to the chain of command and leaking information. In other words, “OUT”.\n",
      "8:41 AM · Feb 8, 2020\n",
      "---------------------------------------------------------------------------\n",
      "<class 'str'>\n",
      "8:41 AM Feb 8, 2020\n",
      "Fake News \n",
      "8:41 AM · Feb 8, 2020\n",
      "---------------------------------------------------------------------------\n",
      "<class 'str'>\n",
      "8:41 AM Feb 8, 2020\n",
      "I was very surprised & disappointed that Senator Joe Manchin of West Virginia voted against me on the Democrat’s totally partisan Impeachment Hoax. No President has done more for the great people of West Virginia than me (Pensions), and that will....\n",
      "3:57 PM · Feb 7, 2020\n",
      "---------------------------------------------------------------------------\n",
      "<class 'str'>\n",
      "3:57 PM Feb 7, 2020\n",
      "....always continue. Every Republican Senator except Romney, many highly religious people, all very smart, voted against the Impeachment Hoax. \n",
      "3:57 PM · Feb 7, 2020\n",
      "---------------------------------------------------------------------------\n",
      "<class 'str'>\n",
      "3:57 PM Feb 7, 2020\n",
      "Despite nonstop efforts from Democrats and their media lap dogs to destroy Donald Trump and his efforts to rebuild America, he continues bring it for America... these numbers are incredible!!!\n",
      "4:38 PM · Feb 7, 2020\n",
      "---------------------------------------------------------------------------\n",
      "<class 'str'>\n",
      "4:38 PM Feb 7, 2020\n",
      "On the bright side, he may still be able to take the defense minister position in the Ukraine that he was offered a few times.\n",
      "4:39 PM · Feb 7, 2020\n",
      "---------------------------------------------------------------------------\n",
      "<class 'str'>\n",
      "4:39 PM Feb 7, 2020\n",
      "Reminder: democrats that are now lecturing us on foreign policy vehemently opposed President Trump’s  nomination of \n",
      "4:41 PM · Feb 7, 2020\n",
      "---------------------------------------------------------------------------\n",
      "<class 'str'>\n",
      "4:41 PM Feb 7, 2020\n",
      "After years building up other countries, we are finally rebuilding OUR Country. From our inner cities to our rural communities, the forgotten men and women of America are forgotten NO LONGER! \n",
      "5:26 PM · Feb 7, 2020\n",
      "---------------------------------------------------------------------------\n",
      "<class 'str'>\n",
      "5:26 PM Feb 7, 2020\n",
      "Today ⁦\n",
      "2:26 PM · Feb 7, 2020\n",
      "---------------------------------------------------------------------------\n",
      "<class 'str'>\n",
      "2:26 PM Feb 7, 2020\n",
      "13\n",
      "13\n",
      "WATCH: Former Obama national security advisor Gen. James Jones praises \n",
      "9:37 AM · Jan 14, 2020\n",
      "---------------------------------------------------------------------------\n",
      "<class 'str'>\n",
      "9:37 AM Jan 14, 2020\n",
      "Apparently Joe Biden thinks shouting his gibberish more loudly than usual will overcome that he had a dismal 4th place finish in Iowa after having the place to himself for 3 weeks as all the senators in the race were stuck in DC working on their hoax impeachment. \n",
      "8:21 PM · Feb 7, 2020\n",
      "---------------------------------------------------------------------------\n",
      "<class 'str'>\n",
      "8:21 PM Feb 7, 2020\n",
      "Joe’s lying as usual. \n",
      "8:22 PM · Feb 7, 2020\n",
      "---------------------------------------------------------------------------\n",
      "<class 'str'>\n",
      "8:22 PM Feb 7, 2020\n",
      "Mayor Pete says he can’t answer \n",
      "8:32 PM · Feb 7, 2020\n",
      "---------------------------------------------------------------------------\n",
      "<class 'str'>\n",
      "8:32 PM Feb 7, 2020\n",
      "The \n",
      "9:04 PM · Feb 7, 2020\n",
      "---------------------------------------------------------------------------\n",
      "<class 'str'>\n",
      "9:04 PM Feb 7, 2020\n",
      "Not good!\n",
      "6:23 AM · Feb 8, 2020\n",
      "---------------------------------------------------------------------------\n",
      "<class 'str'>\n",
      "6:23 AM Feb 8, 2020\n",
      "Bloomberg has a problem because of what he did with stop-and-frisk. It was a HORROR SHOW to be Black or Latino in New York for years. You were constantly stopped for NO reason – and Bloomberg defended it until 20 minutes ago. \n",
      "10:08 PM · Feb 7, 2020\n",
      "---------------------------------------------------------------------------\n",
      "<class 'str'>\n",
      "10:08 PM Feb 7, 2020\n",
      "Chris Christie: Pete Buttigieg was \"outright lying about his record,” and when called out he “looked like a deer in the headlights”\n",
      "9:57 PM · Feb 7, 2020\n",
      "---------------------------------------------------------------------------\n",
      "<class 'str'>\n",
      "9:57 PM Feb 7, 2020\n",
      "*He Won’t\n",
      "10:41 PM · Feb 7, 2020\n",
      "---------------------------------------------------------------------------\n",
      "<class 'str'>\n",
      "10:41 PM Feb 7, 2020\n",
      "While 2020 Democrats talk about helping the African American community, \n",
      "9:09 PM · Feb 7, 2020\n",
      "---------------------------------------------------------------------------\n",
      "<class 'str'>\n",
      "9:09 PM Feb 7, 2020\n",
      "Poverty Has Hit The Lowest Level In Two Decades Thanks To \n",
      "9:31 PM · Feb 7, 2020\n",
      "---------------------------------------------------------------------------\n",
      "<class 'str'>\n",
      "9:31 PM Feb 7, 2020\n",
      "The \n",
      "9:39 PM · Feb 7, 2020\n",
      "---------------------------------------------------------------------------\n",
      "<class 'str'>\n",
      "9:39 PM Feb 7, 2020\n",
      "What did Americans learn from tonight’s \n",
      "9:41 PM · Feb 7, 2020\n",
      "---------------------------------------------------------------------------\n",
      "<class 'str'>\n",
      "9:41 PM Feb 7, 2020\n",
      "12\n",
      "12\n",
      "Bloomberg has a problem because of what he did with stop-and-frisk. It was a HORROR SHOW to be Black or Latino in New York for years. You were constantly stopped for NO reason – and Bloomberg defended it until 20 minutes ago. \n",
      "10:08 PM · Feb 7, 2020\n",
      "---------------------------------------------------------------------------\n",
      "<class 'str'>\n",
      "10:08 PM Feb 7, 2020\n",
      "Chris Christie: Pete Buttigieg was \"outright lying about his record,” and when called out he “looked like a deer in the headlights”\n",
      "9:57 PM · Feb 7, 2020\n",
      "---------------------------------------------------------------------------\n",
      "<class 'str'>\n",
      "9:57 PM Feb 7, 2020\n",
      "*He Won’t\n",
      "10:41 PM · Feb 7, 2020\n",
      "---------------------------------------------------------------------------\n",
      "<class 'str'>\n",
      "10:41 PM Feb 7, 2020\n",
      "While 2020 Democrats talk about helping the African American community, \n",
      "9:09 PM · Feb 7, 2020\n",
      "---------------------------------------------------------------------------\n",
      "<class 'str'>\n",
      "9:09 PM Feb 7, 2020\n",
      "Poverty Has Hit The Lowest Level In Two Decades Thanks To \n",
      "9:31 PM · Feb 7, 2020\n",
      "---------------------------------------------------------------------------\n",
      "<class 'str'>\n",
      "9:31 PM Feb 7, 2020\n",
      "The \n",
      "9:39 PM · Feb 7, 2020\n",
      "---------------------------------------------------------------------------\n",
      "<class 'str'>\n",
      "9:39 PM Feb 7, 2020\n",
      "What did Americans learn from tonight’s \n",
      "9:41 PM · Feb 7, 2020\n",
      "---------------------------------------------------------------------------\n",
      "<class 'str'>\n",
      "9:41 PM Feb 7, 2020\n",
      "Can’t wait to join \n",
      "5:56 AM · Feb 8, 2020\n",
      "---------------------------------------------------------------------------\n",
      "<class 'str'>\n",
      "5:56 AM Feb 8, 2020\n",
      "WAIT FOT IT....\n",
      "8:23 AM · Feb 7, 2020\n",
      "---------------------------------------------------------------------------\n",
      "<class 'str'>\n",
      "8:23 AM Feb 7, 2020\n",
      "The Democrat Party has given up on counting votes in Iowa. Looks like it all got computer “fried”. Nobody knows who the real winner is. Maybe it’s Sleepy Joe, but it’s not looking that way. They lost millions & millions of dollars, all for NOTHING. But I WON Iowa big!\n"
     ]
    },
    {
     "name": "stdout",
     "output_type": "stream",
     "text": [
      "10:31 AM · Feb 7, 2020\n",
      "---------------------------------------------------------------------------\n",
      "<class 'str'>\n",
      "10:31 AM Feb 7, 2020\n",
      "I think they should blame RUSSIA, RUSSIA, RUSSIA again! If they can’t count votes properly, how are they going to run U.S. HealthCare?\n",
      "6:59 AM · Feb 7, 2020\n",
      "---------------------------------------------------------------------------\n",
      "<class 'str'>\n",
      "6:59 AM Feb 7, 2020\n",
      "America is winning!\n",
      "9:00 AM · Feb 7, 2020\n",
      "---------------------------------------------------------------------------\n",
      "<class 'str'>\n",
      "9:00 AM Feb 7, 2020\n",
      "12\n",
      "12\n",
      "After years building up other countries, we are finally rebuilding OUR Country. From our inner cities to our rural communities, the forgotten men and women of America are forgotten NO LONGER! \n",
      "5:26 PM · Feb 7, 2020\n",
      "---------------------------------------------------------------------------\n",
      "<class 'str'>\n",
      "5:26 PM Feb 7, 2020\n",
      "....always continue. Every Republican Senator except Romney, many highly religious people, all very smart, voted against the Impeachment Hoax. \n",
      "3:57 PM · Feb 7, 2020\n",
      "---------------------------------------------------------------------------\n",
      "<class 'str'>\n",
      "3:57 PM Feb 7, 2020\n",
      "I was very surprised & disappointed that Senator Joe Manchin of West Virginia voted against me on the Democrat’s totally partisan Impeachment Hoax. No President has done more for the great people of West Virginia than me (Pensions), and that will....\n",
      "3:57 PM · Feb 7, 2020\n",
      "---------------------------------------------------------------------------\n",
      "<class 'str'>\n",
      "3:57 PM Feb 7, 2020\n",
      "Great to be in Charlotte, North Carolina as we expand and grow this unprecedented economic momentum. Today, we launched a brand new nationwide campaign to revitalize under-served cities and towns across America – it’s called OPPORTUNITY NOW!\n",
      "2:00 PM · Feb 7, 2020\n",
      "---------------------------------------------------------------------------\n",
      "<class 'str'>\n",
      "2:00 PM Feb 7, 2020\n",
      "Another win just in. Nervous Nancy Pelosi and the Democrats in Congress sued me, thrown out. This one unanimous, in the D.C. Circuit.\n",
      "Witch Hunt!\n",
      "11:51 AM · Feb 7, 2020\n",
      "---------------------------------------------------------------------------\n",
      "<class 'str'>\n",
      "11:51 AM Feb 7, 2020\n",
      "President Trump's best week ever continues \n",
      "12:30 PM · Feb 6, 2020\n",
      "---------------------------------------------------------------------------\n",
      "<class 'str'>\n",
      "12:30 PM Feb 6, 2020\n",
      "Breaking: Mueller’s team was told by key witness in 2018 that Russia collusion evidence found in Ukraine was fabricated, memos show. \n",
      "1:16 PM · Feb 6, 2020\n",
      "---------------------------------------------------------------------------\n",
      "<class 'str'>\n",
      "1:16 PM Feb 6, 2020\n",
      "Morning in America \n",
      "7:58 AM · Feb 6, 2020\n",
      "---------------------------------------------------------------------------\n",
      "<class 'str'>\n",
      "7:58 AM Feb 6, 2020\n",
      "Whether he realizes it or not, Andrew Weissmann just admitted what we always knew:\n",
      "\n",
      "The purpose of the Mueller investigation was \"trying to get rid of\" President Trump and laying a perjury trap\n",
      "\n",
      "The President didn't fall for it, and the truth WON\n",
      "3:29 PM · Feb 6, 2020\n",
      "---------------------------------------------------------------------------\n",
      "<class 'str'>\n",
      "3:29 PM Feb 6, 2020\n",
      "\n",
      "5:40 PM · Feb 6, 2020\n",
      "---------------------------------------------------------------------------\n",
      "<class 'str'>\n",
      "5:40 PM Feb 6, 2020\n",
      "The hapless Dems are still in denial, & it’s hilarious to watch. They’re still claiming, despite ALL evidence to the contrary, that they accomplished something w/their hoax impeachment. They did accomplish something-they boosted the campaigns of the people who stood against them.\n",
      "6:27 PM · Feb 6, 2020\n",
      "---------------------------------------------------------------------------\n",
      "<class 'str'>\n",
      "6:27 PM Feb 6, 2020\n",
      "Vindman's behavior is a scandal. He should be removed from the \n",
      "8:36 PM · Nov 19, 2019\n",
      "---------------------------------------------------------------------------\n",
      "<class 'str'>\n",
      "8:36 PM Nov 19, 2019\n"
     ]
    }
   ],
   "source": [
    "tweets = []\n",
    "tweetdate = []\n",
    "\n",
    "for j in range(5):\n",
    "    tweet = driver.find_elements_by_xpath(\"//article/div/div[2]/div[2]/div[2]/span[1]\")\n",
    "    datetime_tweet = driver.find_elements_by_xpath(\"//article/div/div[2]/div[2]/div[2]/span/../../div/div/div/a\")\n",
    "    print(len(tweet))\n",
    "    print(len(datetime_tweet))\n",
    "    \n",
    "    \n",
    "    for i in range(len(tweet)):\n",
    "        print(tweet[i].text)\n",
    "        print(datetime_tweet[i].get_attribute('title'))\n",
    "        print('---------------------------------------------------------------------------')\n",
    "        \n",
    "        \n",
    "        date_string = ' '.join(datetime_tweet[i].get_attribute('title').split(' · '))\n",
    "        print(type(date_string))\n",
    "        print(date_string)\n",
    "        datetime_obj = datetime.strptime(date_string, '%H:%M %p %b %d, %Y')\n",
    "        \n",
    "        \n",
    "        \n",
    "        if datetime_obj > (datetime.now() - timedelta(1)):\n",
    "            tweetdate.append(datetime_obj)\n",
    "            tweets.append(tweet[i].text)\n",
    "            \n",
    "            \n",
    "    driver.execute_script(\"window.scrollTo(0, document.body.scrollHeight);\")\n",
    "    time.sleep(2)"
   ]
  },
  {
   "cell_type": "code",
   "execution_count": 64,
   "metadata": {},
   "outputs": [],
   "source": [
    "temp = str(tweetdate[1])"
   ]
  },
  {
   "cell_type": "code",
   "execution_count": 118,
   "metadata": {},
   "outputs": [
    {
     "data": {
      "text/plain": [
       "[datetime.datetime(2020, 2, 8, 9, 16),\n",
       " datetime.datetime(2020, 2, 8, 9, 3),\n",
       " datetime.datetime(2020, 2, 8, 8, 41),\n",
       " datetime.datetime(2020, 2, 8, 8, 41),\n",
       " datetime.datetime(2020, 2, 8, 6, 23),\n",
       " datetime.datetime(2020, 2, 8, 5, 56)]"
      ]
     },
     "execution_count": 118,
     "metadata": {},
     "output_type": "execute_result"
    }
   ],
   "source": [
    "tweetdate"
   ]
  },
  {
   "cell_type": "code",
   "execution_count": 90,
   "metadata": {},
   "outputs": [],
   "source": [
    "# datetime"
   ]
  },
  {
   "cell_type": "code",
   "execution_count": null,
   "metadata": {},
   "outputs": [],
   "source": []
  },
  {
   "cell_type": "code",
   "execution_count": 102,
   "metadata": {},
   "outputs": [
    {
     "data": {
      "text/html": [
       "<div>\n",
       "<style scoped>\n",
       "    .dataframe tbody tr th:only-of-type {\n",
       "        vertical-align: middle;\n",
       "    }\n",
       "\n",
       "    .dataframe tbody tr th {\n",
       "        vertical-align: top;\n",
       "    }\n",
       "\n",
       "    .dataframe thead th {\n",
       "        text-align: right;\n",
       "    }\n",
       "</style>\n",
       "<table border=\"1\" class=\"dataframe\">\n",
       "  <thead>\n",
       "    <tr style=\"text-align: right;\">\n",
       "      <th></th>\n",
       "      <th>tweets</th>\n",
       "    </tr>\n",
       "  </thead>\n",
       "  <tbody>\n",
       "    <tr>\n",
       "      <th>0</th>\n",
       "      <td>The only way to stop the crazed Radical Left, ...</td>\n",
       "    </tr>\n",
       "    <tr>\n",
       "      <th>1</th>\n",
       "      <td>Crazy Nancy Pelosi’s Impeachment Hoax has lift...</td>\n",
       "    </tr>\n",
       "    <tr>\n",
       "      <th>2</th>\n",
       "      <td>Thank you Iowa for the RECORD vote we just rec...</td>\n",
       "    </tr>\n",
       "    <tr>\n",
       "      <th>3</th>\n",
       "      <td>....was given a horrendous report by his super...</td>\n",
       "    </tr>\n",
       "    <tr>\n",
       "      <th>4</th>\n",
       "      <td>Fake News</td>\n",
       "    </tr>\n",
       "    <tr>\n",
       "      <th>5</th>\n",
       "      <td>Not good!</td>\n",
       "    </tr>\n",
       "    <tr>\n",
       "      <th>6</th>\n",
       "      <td>Can’t wait to join</td>\n",
       "    </tr>\n",
       "    <tr>\n",
       "      <th>7</th>\n",
       "      <td>Can’t wait to join</td>\n",
       "    </tr>\n",
       "  </tbody>\n",
       "</table>\n",
       "</div>"
      ],
      "text/plain": [
       "                                              tweets\n",
       "0  The only way to stop the crazed Radical Left, ...\n",
       "1  Crazy Nancy Pelosi’s Impeachment Hoax has lift...\n",
       "2  Thank you Iowa for the RECORD vote we just rec...\n",
       "3  ....was given a horrendous report by his super...\n",
       "4                                         Fake News \n",
       "5                                          Not good!\n",
       "6                                Can’t wait to join \n",
       "7                                Can’t wait to join "
      ]
     },
     "execution_count": 102,
     "metadata": {},
     "output_type": "execute_result"
    }
   ],
   "source": [
    "tweets_df = pd.DataFrame({'tweets': tweets})\n",
    "tweets_df"
   ]
  },
  {
   "cell_type": "code",
   "execution_count": 103,
   "metadata": {},
   "outputs": [],
   "source": [
    "from bs4 import BeautifulSoup as bs\n",
    "import splinter"
   ]
  },
  {
   "cell_type": "code",
   "execution_count": 124,
   "metadata": {},
   "outputs": [
    {
     "data": {
      "text/plain": [
       "'Crazy Nancy Pelosi’s Impeachment Hoax has lifted Republican Congressional Polls (she lost the House once before!), and my Polls, WAY UP, which was expected, but it has had a great effect on Republican Senate races, including North Carolina, Kentucky, Colorado and Arizona. Thanks! Thank you Iowa for the RECORD vote we just received in the Primary. The Dems were 25% down (although their votes are all fried!). ....was given a horrendous report by his superior, the man he reported to, who publicly stated that Vindman had problems with judgement, adhering to the chain of command and leaking information. In other words, “OUT”. Fake News  Not good! Can’t wait to join '"
      ]
     },
     "execution_count": 124,
     "metadata": {},
     "output_type": "execute_result"
    }
   ],
   "source": [
    "temptweet = []\n",
    "x = ' '.join(tweets)\n",
    "x\n",
    "# for tweet in tweets:\n",
    "#     tweetsofday = ''  \n",
    "#     tweetsofday = tweetsofday + str(tweet) + ' '\n",
    "    \n",
    "#     temptweet.append(tweetsofday)"
   ]
  },
  {
   "cell_type": "code",
   "execution_count": 122,
   "metadata": {},
   "outputs": [
    {
     "data": {
      "text/plain": [
       "['Crazy Nancy Pelosi’s Impeachment Hoax has lifted Republican Congressional Polls (she lost the House once before!), and my Polls, WAY UP, which was expected, but it has had a great effect on Republican Senate races, including North Carolina, Kentucky, Colorado and Arizona. Thanks! ',\n",
       " 'Thank you Iowa for the RECORD vote we just received in the Primary. The Dems were 25% down (although their votes are all fried!). ',\n",
       " '....was given a horrendous report by his superior, the man he reported to, who publicly stated that Vindman had problems with judgement, adhering to the chain of command and leaking information. In other words, “OUT”. ',\n",
       " 'Fake News  ',\n",
       " 'Not good! ',\n",
       " 'Can’t wait to join  ']"
      ]
     },
     "execution_count": 122,
     "metadata": {},
     "output_type": "execute_result"
    }
   ],
   "source": [
    "temptweet"
   ]
  },
  {
   "cell_type": "code",
   "execution_count": 107,
   "metadata": {},
   "outputs": [
    {
     "data": {
      "text/plain": [
       "<8x64 sparse matrix of type '<class 'numpy.float64'>'\n",
       "\twith 69 stored elements in Compressed Sparse Row format>"
      ]
     },
     "execution_count": 107,
     "metadata": {},
     "output_type": "execute_result"
    }
   ],
   "source": [
    "from sklearn.feature_extraction.text import TfidfVectorizer\n",
    "vectorizer = TfidfVectorizer(stop_words='english')\n",
    "newtweets = vectorizer.fit_transform(tweets)\n",
    "newtweets"
   ]
  },
  {
   "cell_type": "code",
   "execution_count": 94,
   "metadata": {},
   "outputs": [],
   "source": [
    "# cleaned_tweets = []\n",
    "\n",
    "# for index, row in tweets_df.iterrows():\n",
    "#     # Here we are filtering out all the words that contains link\n",
    "#     words_without_links = [word for word in row.tidy_tweets.split() if 'http' not in word]\n",
    "#     cleaned_tweets.append(' '.join(words_without_links))\n",
    "\n",
    "# tweets_df['tidy_tweets'] = cleaned_tweets"
   ]
  },
  {
   "cell_type": "code",
   "execution_count": 108,
   "metadata": {},
   "outputs": [],
   "source": [
    "# tweets_df"
   ]
  },
  {
   "cell_type": "code",
   "execution_count": null,
   "metadata": {},
   "outputs": [],
   "source": []
  },
  {
   "cell_type": "code",
   "execution_count": 109,
   "metadata": {},
   "outputs": [],
   "source": [
    "# tweets_df['absolute_tidy_tweets'] = tweets_df['tidy_tweets'].str.replace(\"[^a-zA-Z# ]\", \"\")\n",
    "# tweets_df.head(25)"
   ]
  },
  {
   "cell_type": "code",
   "execution_count": 110,
   "metadata": {},
   "outputs": [],
   "source": [
    "# # Replace image link with the word picture\n",
    "# tweets_df['absolute_tidy_tweets'] = tweets_df['absolute_tidy_tweets'].str.replace(\"pictwittercom\", \"\")\n",
    "# tweets_df.head(25)"
   ]
  },
  {
   "cell_type": "code",
   "execution_count": null,
   "metadata": {},
   "outputs": [],
   "source": []
  }
 ],
 "metadata": {
  "kernelspec": {
   "display_name": "Python 3",
   "language": "python",
   "name": "python3"
  },
  "language_info": {
   "codemirror_mode": {
    "name": "ipython",
    "version": 3
   },
   "file_extension": ".py",
   "mimetype": "text/x-python",
   "name": "python",
   "nbconvert_exporter": "python",
   "pygments_lexer": "ipython3",
   "version": "3.7.3"
  }
 },
 "nbformat": 4,
 "nbformat_minor": 2
}
