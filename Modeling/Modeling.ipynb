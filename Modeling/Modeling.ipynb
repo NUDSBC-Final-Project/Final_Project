{
 "cells": [
  {
   "cell_type": "code",
   "execution_count": 2,
   "metadata": {},
   "outputs": [],
   "source": [
    "%matplotlib inline\n",
    "import numpy as np\n",
    "import matplotlib.pyplot as plt\n",
    "import pandas as pd\n",
    "from sklearn.model_selection import train_test_split\n",
    "from sklearn.linear_model import LinearRegression\n",
    "from sklearn.metrics import mean_squared_error, r2_score"
   ]
  },
  {
   "cell_type": "code",
   "execution_count": 3,
   "metadata": {},
   "outputs": [],
   "source": [
    "A1G = pd.read_csv(\"../CSVs/A1G.F.csv\")"
   ]
  },
  {
   "cell_type": "code",
   "execution_count": 4,
   "metadata": {},
   "outputs": [],
   "source": [
    "BA = pd.read_csv(\"../Resources/BA.csv\")"
   ]
  },
  {
   "cell_type": "code",
   "execution_count": 5,
   "metadata": {},
   "outputs": [],
   "source": [
    "CSX = pd.read_csv(\"../CSVs/CSX.csv\")"
   ]
  },
  {
   "cell_type": "code",
   "execution_count": 6,
   "metadata": {},
   "outputs": [],
   "source": [
    "GM = pd.read_csv(\"../CSVs/GM.csv\")"
   ]
  },
  {
   "cell_type": "code",
   "execution_count": 7,
   "metadata": {},
   "outputs": [
    {
     "name": "stdout",
     "output_type": "stream",
     "text": [
      "A1G:\n",
      "       Date       Open       High        Low      Close  Adj Close  Volume\n",
      "0  1/2/2019  27.809999  28.650000  27.549999  28.650000  28.251038     4.0\n",
      "1  1/3/2019  27.570000  27.570000  25.969999  26.250000  25.884460     5.0\n",
      "2  1/4/2019  26.200001  27.059999  26.200001  27.059999  26.683180     0.0\n",
      "3  1/7/2019  27.959999  27.959999  27.900000  27.940001  27.550928   178.0\n",
      "4  1/8/2019  28.620001  29.010000  28.620001  28.879999  28.477835   100.0\n"
     ]
    }
   ],
   "source": [
    "A1G = A1G.dropna()\n",
    "print(f'A1G:')\n",
    "print(A1G.head())"
   ]
  },
  {
   "cell_type": "code",
   "execution_count": 8,
   "metadata": {},
   "outputs": [
    {
     "name": "stdout",
     "output_type": "stream",
     "text": [
      "BA:\n",
      "       Date        Open        High         Low       Close   Adj Close  \\\n",
      "1  1/3/2019  319.489990  319.739990  309.399994  310.899994  303.897919   \n",
      "2  1/4/2019  316.690002  328.440002  316.079987  327.079987  319.713531   \n",
      "3  1/7/2019  330.519989  330.690002  323.350006  328.109985  320.720306   \n",
      "4  1/8/2019  334.109985  341.250000  332.649994  340.529999  332.860657   \n",
      "5  1/9/2019  342.959991  347.200012  340.869995  343.829987  336.086273   \n",
      "\n",
      "    Volume        P/N  Daily_Change  Daily_%_Change  Future_Change  \n",
      "1  5705600  Negative     -12.910004       -3.986907      16.179993  \n",
      "2  4448800   Positive     16.179993        5.204244       1.029998  \n",
      "3  4030300   Positive      1.029998        0.314907      12.420014  \n",
      "4  4736500   Positive     12.420014        3.785320       3.299988  \n",
      "5  4213900   Positive      3.299988        0.969074       8.779998  \n"
     ]
    }
   ],
   "source": [
    "BA = BA.drop(BA.columns[0], axis = 1)\n",
    "BA = BA.dropna()\n",
    "print(f'BA:')\n",
    "print(BA.head())"
   ]
  },
  {
   "cell_type": "code",
   "execution_count": 9,
   "metadata": {},
   "outputs": [
    {
     "name": "stdout",
     "output_type": "stream",
     "text": [
      "CSX:\n",
      "         Date       Open       High        Low      Close  Adj Close   Volume\n",
      "0  2019-01-02  60.759998  62.250000  60.020000  61.950001  61.114838  5012900\n",
      "1  2019-01-03  61.360001  61.810001  60.360001  60.980000  60.157917  7842400\n",
      "2  2019-01-04  61.000000  62.830002  60.529999  62.790001  61.943512  6181200\n",
      "3  2019-01-07  62.430000  63.070000  61.349998  62.450001  61.608097  6262300\n",
      "4  2019-01-08  63.779999  64.180000  62.639999  63.349998  62.495960  5079300\n"
     ]
    }
   ],
   "source": [
    "CSX = CSX.dropna()\n",
    "print(f'CSX:')\n",
    "print(CSX.head())"
   ]
  },
  {
   "cell_type": "code",
   "execution_count": 10,
   "metadata": {},
   "outputs": [
    {
     "name": "stdout",
     "output_type": "stream",
     "text": [
      "GM\n",
      "         Date       Open       High        Low      Close  Adj Close    Volume\n",
      "0  2019-01-02  32.849998  33.810001  32.410000  33.639999  32.282429   7662300\n",
      "1  2019-01-03  33.340000  33.680000  32.200001  32.250000  30.948524  11618300\n",
      "2  2019-01-04  32.799999  33.570000  32.430000  33.330002  31.984938  10784000\n",
      "3  2019-01-07  33.709999  34.970001  33.480000  34.360001  32.973373  10722300\n",
      "4  2019-01-08  35.000000  35.680000  34.490002  34.810001  33.405216  10532900\n"
     ]
    }
   ],
   "source": [
    "GM = GM.dropna()\n",
    "print(f'GM')\n",
    "print(GM.head())"
   ]
  },
  {
   "cell_type": "code",
   "execution_count": 11,
   "metadata": {},
   "outputs": [
    {
     "name": "stdout",
     "output_type": "stream",
     "text": [
      "(272, 1) (272, 1)\n"
     ]
    }
   ],
   "source": [
    "A1G_X = A1G[\"Volume\"].values.reshape(-1, 1)\n",
    "A1G_y = A1G[\"Close\"].values.reshape(-1, 1)\n",
    "print(A1G_X.shape,A1G_y.shape)"
   ]
  },
  {
   "cell_type": "code",
   "execution_count": 12,
   "metadata": {},
   "outputs": [
    {
     "name": "stdout",
     "output_type": "stream",
     "text": [
      "(273, 1) (273, 1)\n"
     ]
    }
   ],
   "source": [
    "CSX_X = CSX[\"Volume\"].values.reshape(-1, 1)\n",
    "CSX_y = CSX[\"Close\"].values.reshape(-1, 1)\n",
    "print(CSX_X.shape,CSX_y.shape)"
   ]
  },
  {
   "cell_type": "code",
   "execution_count": 13,
   "metadata": {},
   "outputs": [
    {
     "name": "stdout",
     "output_type": "stream",
     "text": [
      "(250, 1) (250, 1)\n"
     ]
    }
   ],
   "source": [
    "BA_X = BA[\"Volume\"].values.reshape(-1, 1)\n",
    "BA_y = BA[\"Close\"].values.reshape(-1, 1)\n",
    "print(BA_X.shape,BA_y.shape)"
   ]
  },
  {
   "cell_type": "code",
   "execution_count": 14,
   "metadata": {},
   "outputs": [
    {
     "name": "stdout",
     "output_type": "stream",
     "text": [
      "(274, 1) (274, 1)\n"
     ]
    }
   ],
   "source": [
    "GM_X = GM['Volume'].values.reshape(-1,1)\n",
    "GM_y = GM['Close'].values.reshape(-1,1)\n",
    "print(GM_X.shape,GM_y.shape)"
   ]
  },
  {
   "cell_type": "code",
   "execution_count": 15,
   "metadata": {},
   "outputs": [
    {
     "data": {
      "text/plain": [
       "Text(0, 0.5, 'Closing Price')"
      ]
     },
     "execution_count": 15,
     "metadata": {},
     "output_type": "execute_result"
    },
    {
     "data": {
      "image/png": "[encoded data removed]",
      "text/plain": [
       "<Figure size 432x288 with 1 Axes>"
      ]
     },
     "metadata": {
      "needs_background": "light"
     },
     "output_type": "display_data"
    }
   ],
   "source": [
    "#checking the trends\n",
    "plt.scatter(BA_X, BA_y)\n",
    "plt.xlabel(\"Volume\")\n",
    "plt.ylabel(\"Closing Price\")"
   ]
  },
  {
   "cell_type": "code",
   "execution_count": 16,
   "metadata": {},
   "outputs": [
    {
     "data": {
      "text/plain": [
       "Text(0, 0.5, 'Closing Price')"
      ]
     },
     "execution_count": 16,
     "metadata": {},
     "output_type": "execute_result"
    },
    {
     "data": {
      "image/png": "[encoded data removed]",
      "text/plain": [
       "<Figure size 432x288 with 1 Axes>"
      ]
     },
     "metadata": {
      "needs_background": "light"
     },
     "output_type": "display_data"
    }
   ],
   "source": [
    "plt.scatter(A1G_X, A1G_y)\n",
    "plt.xlabel(\"Volume\")\n",
    "plt.ylabel(\"Closing Price\")"
   ]
  },
  {
   "cell_type": "code",
   "execution_count": 17,
   "metadata": {},
   "outputs": [
    {
     "data": {
      "text/plain": [
       "Text(0, 0.5, 'Closing Price')"
      ]
     },
     "execution_count": 17,
     "metadata": {},
     "output_type": "execute_result"
    },
    {
     "data": {
      "image/png": "[encoded data removed]",
      "text/plain": [
       "<Figure size 432x288 with 1 Axes>"
      ]
     },
     "metadata": {
      "needs_background": "light"
     },
     "output_type": "display_data"
    }
   ],
   "source": [
    "plt.scatter(CSX_X, CSX_y)\n",
    "plt.xlabel(\"Volume\")\n",
    "plt.ylabel(\"Closing Price\")"
   ]
  },
  {
   "cell_type": "code",
   "execution_count": 18,
   "metadata": {},
   "outputs": [
    {
     "data": {
      "text/plain": [
       "Text(0, 0.5, 'Closing Price')"
      ]
     },
     "execution_count": 18,
     "metadata": {},
     "output_type": "execute_result"
    },
    {
     "data": {
      "image/png": "[encoded data removed]",
      "text/plain": [
       "<Figure size 432x288 with 1 Axes>"
      ]
     },
     "metadata": {
      "needs_background": "light"
     },
     "output_type": "display_data"
    }
   ],
   "source": [
    "plt.scatter(GM_X,GM_y)\n",
    "plt.xlabel(\"Volume\")\n",
    "plt.ylabel(\"Closing Price\")"
   ]
  },
  {
   "cell_type": "code",
   "execution_count": 19,
   "metadata": {},
   "outputs": [],
   "source": [
    "X_train, X_test, y_train, y_test = train_test_split(GM_X, GM_y)\n",
    "myModel1 = LinearRegression()"
   ]
  },
  {
   "cell_type": "code",
   "execution_count": 20,
   "metadata": {},
   "outputs": [
    {
     "data": {
      "text/plain": [
       "LinearRegression(copy_X=True, fit_intercept=True, n_jobs=None, normalize=False)"
      ]
     },
     "execution_count": 20,
     "metadata": {},
     "output_type": "execute_result"
    }
   ],
   "source": [
    "myModel1.fit(X_train,y_train)"
   ]
  },
  {
   "cell_type": "code",
   "execution_count": 21,
   "metadata": {},
   "outputs": [
    {
     "name": "stdout",
     "output_type": "stream",
     "text": [
      "Mean Squared Error (MSE): 2.7010545004420523\n",
      "R-squared (R2 ): -0.07085969118309965\n"
     ]
    }
   ],
   "source": [
    "predicted = myModel1.predict(X_test)\n",
    "\n",
    "# Score the predictions with mse and r2\n",
    "mse = mean_squared_error(y_test, predicted)\n",
    "r2 = r2_score(y_test, predicted)\n",
    "\n",
    "print(f\"Mean Squared Error (MSE): {mse}\")\n",
    "print(f\"R-squared (R2 ): {r2}\")"
   ]
  },
  {
   "cell_type": "code",
   "execution_count": 22,
   "metadata": {},
   "outputs": [
    {
     "data": {
      "text/plain": [
       "-0.07085969118309965"
      ]
     },
     "execution_count": 22,
     "metadata": {},
     "output_type": "execute_result"
    }
   ],
   "source": [
    "myModel1.score(X_test, y_test)"
   ]
  },
  {
   "cell_type": "code",
   "execution_count": 23,
   "metadata": {},
   "outputs": [],
   "source": [
    "X_train, X_test, y_train, y_test = train_test_split(A1G_X, A1G_y)\n",
    "myModel2 = LinearRegression()"
   ]
  },
  {
   "cell_type": "code",
   "execution_count": 24,
   "metadata": {},
   "outputs": [
    {
     "data": {
      "text/plain": [
       "LinearRegression(copy_X=True, fit_intercept=True, n_jobs=None, normalize=False)"
      ]
     },
     "execution_count": 24,
     "metadata": {},
     "output_type": "execute_result"
    }
   ],
   "source": [
    "myModel2.fit(X_train,y_train)"
   ]
  },
  {
   "cell_type": "code",
   "execution_count": 25,
   "metadata": {},
   "outputs": [
    {
     "name": "stdout",
     "output_type": "stream",
     "text": [
      "Mean Squared Error (MSE): 7.680174883107344\n",
      "R-squared (R2 ): -0.012720087617545506\n"
     ]
    }
   ],
   "source": [
    "predicted = myModel2.predict(X_test)\n",
    "\n",
    "# Score the predictions with mse and r2\n",
    "mse = mean_squared_error(y_test, predicted)\n",
    "r2 = r2_score(y_test, predicted)\n",
    "\n",
    "print(f\"Mean Squared Error (MSE): {mse}\")\n",
    "print(f\"R-squared (R2 ): {r2}\")"
   ]
  },
  {
   "cell_type": "code",
   "execution_count": 26,
   "metadata": {},
   "outputs": [
    {
     "data": {
      "text/plain": [
       "-0.012720087617545506"
      ]
     },
     "execution_count": 26,
     "metadata": {},
     "output_type": "execute_result"
    }
   ],
   "source": [
    "myModel2.score(X_test, y_test)"
   ]
  },
  {
   "cell_type": "code",
   "execution_count": 27,
   "metadata": {},
   "outputs": [],
   "source": [
    "X_train, X_test, y_train, y_test = train_test_split(BA_X, BA_y)\n",
    "myModel3 = LinearRegression()"
   ]
  },
  {
   "cell_type": "code",
   "execution_count": 28,
   "metadata": {},
   "outputs": [
    {
     "data": {
      "text/plain": [
       "LinearRegression(copy_X=True, fit_intercept=True, n_jobs=None, normalize=False)"
      ]
     },
     "execution_count": 28,
     "metadata": {},
     "output_type": "execute_result"
    }
   ],
   "source": [
    "myModel3.fit(X_train,y_train)"
   ]
  },
  {
   "cell_type": "code",
   "execution_count": 29,
   "metadata": {},
   "outputs": [
    {
     "name": "stdout",
     "output_type": "stream",
     "text": [
      "Mean Squared Error (MSE): 522.1824626050881\n",
      "R-squared (R2 ): -0.0577611842323944\n"
     ]
    }
   ],
   "source": [
    "predicted = myModel3.predict(X_test)\n",
    "\n",
    "# Score the predictions with mse and r2\n",
    "mse = mean_squared_error(y_test, predicted)\n",
    "r2 = r2_score(y_test, predicted)\n",
    "\n",
    "print(f\"Mean Squared Error (MSE): {mse}\")\n",
    "print(f\"R-squared (R2 ): {r2}\")"
   ]
  },
  {
   "cell_type": "code",
   "execution_count": 30,
   "metadata": {},
   "outputs": [
    {
     "data": {
      "text/plain": [
       "-0.0577611842323944"
      ]
     },
     "execution_count": 30,
     "metadata": {},
     "output_type": "execute_result"
    }
   ],
   "source": [
    "myModel3.score(X_test, y_test)"
   ]
  },
  {
   "cell_type": "code",
   "execution_count": 31,
   "metadata": {},
   "outputs": [],
   "source": [
    "X_train, X_test, y_train, y_test = train_test_split(CSX_X, CSX_y)\n",
    "myModel4 = LinearRegression()"
   ]
  },
  {
   "cell_type": "code",
   "execution_count": 32,
   "metadata": {},
   "outputs": [
    {
     "data": {
      "text/plain": [
       "LinearRegression(copy_X=True, fit_intercept=True, n_jobs=None, normalize=False)"
      ]
     },
     "execution_count": 32,
     "metadata": {},
     "output_type": "execute_result"
    }
   ],
   "source": [
    "myModel4.fit(X_train,y_train)"
   ]
  },
  {
   "cell_type": "code",
   "execution_count": 33,
   "metadata": {},
   "outputs": [
    {
     "name": "stdout",
     "output_type": "stream",
     "text": [
      "Mean Squared Error (MSE): 17.207274288919745\n",
      "R-squared (R2 ): 0.022201006828479586\n"
     ]
    }
   ],
   "source": [
    "predicted = myModel4.predict(X_test)\n",
    "\n",
    "# Score the predictions with mse and r2\n",
    "mse = mean_squared_error(y_test, predicted)\n",
    "r2 = r2_score(y_test, predicted)\n",
    "\n",
    "print(f\"Mean Squared Error (MSE): {mse}\")\n",
    "print(f\"R-squared (R2 ): {r2}\")"
   ]
  },
  {
   "cell_type": "code",
   "execution_count": 34,
   "metadata": {},
   "outputs": [
    {
     "data": {
      "text/plain": [
       "0.022201006828479586"
      ]
     },
     "execution_count": 34,
     "metadata": {},
     "output_type": "execute_result"
    }
   ],
   "source": [
    "myModel4.score(X_test, y_test)"
   ]
  },
  {
   "cell_type": "markdown",
   "metadata": {},
   "source": [
    "Adding New Columns for A1G, CSX, GM"
   ]
  },
  {
   "cell_type": "code",
   "execution_count": 35,
   "metadata": {},
   "outputs": [
    {
     "name": "stdout",
     "output_type": "stream",
     "text": [
      "CSX:\n"
     ]
    },
    {
     "data": {
      "text/html": [
       "<div>\n",
       "<style scoped>\n",
       "    .dataframe tbody tr th:only-of-type {\n",
       "        vertical-align: middle;\n",
       "    }\n",
       "\n",
       "    .dataframe tbody tr th {\n",
       "        vertical-align: top;\n",
       "    }\n",
       "\n",
       "    .dataframe thead th {\n",
       "        text-align: right;\n",
       "    }\n",
       "</style>\n",
       "<table border=\"1\" class=\"dataframe\">\n",
       "  <thead>\n",
       "    <tr style=\"text-align: right;\">\n",
       "      <th></th>\n",
       "      <th>Date</th>\n",
       "      <th>Open</th>\n",
       "      <th>High</th>\n",
       "      <th>Low</th>\n",
       "      <th>Close</th>\n",
       "      <th>Adj Close</th>\n",
       "      <th>Volume</th>\n",
       "      <th>P/N</th>\n",
       "      <th>Daily_Change</th>\n",
       "      <th>Daily_%_Change</th>\n",
       "      <th>Future_Change</th>\n",
       "    </tr>\n",
       "  </thead>\n",
       "  <tbody>\n",
       "    <tr>\n",
       "      <td>0</td>\n",
       "      <td>2019-01-02</td>\n",
       "      <td>60.759998</td>\n",
       "      <td>62.250000</td>\n",
       "      <td>60.020000</td>\n",
       "      <td>61.950001</td>\n",
       "      <td>61.114838</td>\n",
       "      <td>5012900</td>\n",
       "      <td>Positive</td>\n",
       "      <td>NaN</td>\n",
       "      <td>NaN</td>\n",
       "      <td>-0.970001</td>\n",
       "    </tr>\n",
       "    <tr>\n",
       "      <td>1</td>\n",
       "      <td>2019-01-03</td>\n",
       "      <td>61.360001</td>\n",
       "      <td>61.810001</td>\n",
       "      <td>60.360001</td>\n",
       "      <td>60.980000</td>\n",
       "      <td>60.157917</td>\n",
       "      <td>7842400</td>\n",
       "      <td>Negative</td>\n",
       "      <td>-0.970001</td>\n",
       "      <td>-1.565780</td>\n",
       "      <td>1.810001</td>\n",
       "    </tr>\n",
       "    <tr>\n",
       "      <td>2</td>\n",
       "      <td>2019-01-04</td>\n",
       "      <td>61.000000</td>\n",
       "      <td>62.830002</td>\n",
       "      <td>60.529999</td>\n",
       "      <td>62.790001</td>\n",
       "      <td>61.943512</td>\n",
       "      <td>6181200</td>\n",
       "      <td>Positive</td>\n",
       "      <td>1.810001</td>\n",
       "      <td>2.968188</td>\n",
       "      <td>-0.340000</td>\n",
       "    </tr>\n",
       "    <tr>\n",
       "      <td>3</td>\n",
       "      <td>2019-01-07</td>\n",
       "      <td>62.430000</td>\n",
       "      <td>63.070000</td>\n",
       "      <td>61.349998</td>\n",
       "      <td>62.450001</td>\n",
       "      <td>61.608097</td>\n",
       "      <td>6262300</td>\n",
       "      <td>Positive</td>\n",
       "      <td>-0.340000</td>\n",
       "      <td>-0.541487</td>\n",
       "      <td>0.899997</td>\n",
       "    </tr>\n",
       "    <tr>\n",
       "      <td>4</td>\n",
       "      <td>2019-01-08</td>\n",
       "      <td>63.779999</td>\n",
       "      <td>64.180000</td>\n",
       "      <td>62.639999</td>\n",
       "      <td>63.349998</td>\n",
       "      <td>62.495960</td>\n",
       "      <td>5079300</td>\n",
       "      <td>Negative</td>\n",
       "      <td>0.899997</td>\n",
       "      <td>1.441148</td>\n",
       "      <td>0.630002</td>\n",
       "    </tr>\n",
       "  </tbody>\n",
       "</table>\n",
       "</div>"
      ],
      "text/plain": [
       "         Date       Open       High        Low      Close  Adj Close   Volume  \\\n",
       "0  2019-01-02  60.759998  62.250000  60.020000  61.950001  61.114838  5012900   \n",
       "1  2019-01-03  61.360001  61.810001  60.360001  60.980000  60.157917  7842400   \n",
       "2  2019-01-04  61.000000  62.830002  60.529999  62.790001  61.943512  6181200   \n",
       "3  2019-01-07  62.430000  63.070000  61.349998  62.450001  61.608097  6262300   \n",
       "4  2019-01-08  63.779999  64.180000  62.639999  63.349998  62.495960  5079300   \n",
       "\n",
       "         P/N  Daily_Change  Daily_%_Change  Future_Change  \n",
       "0   Positive           NaN             NaN      -0.970001  \n",
       "1  Negative      -0.970001       -1.565780       1.810001  \n",
       "2   Positive      1.810001        2.968188      -0.340000  \n",
       "3   Positive     -0.340000       -0.541487       0.899997  \n",
       "4  Negative       0.899997        1.441148       0.630002  "
      ]
     },
     "execution_count": 35,
     "metadata": {},
     "output_type": "execute_result"
    }
   ],
   "source": [
    "CSX[\"P/N\"] = np.where(CSX.eval(\"Open < Close\"), \"Positive\", \"Negative \")\n",
    "CSX['Daily_Change'] = CSX.Close.diff()\n",
    "CSX['Daily_%_Change'] = CSX.Close.pct_change() * 100\n",
    "CSX['Future_Change'] = CSX.Close.diff(periods=-1) * -1\n",
    "print('CSX:')\n",
    "CSX.head()\n"
   ]
  },
  {
   "cell_type": "code",
   "execution_count": 36,
   "metadata": {},
   "outputs": [
    {
     "name": "stdout",
     "output_type": "stream",
     "text": [
      "A1G:\n"
     ]
    },
    {
     "data": {
      "text/html": [
       "<div>\n",
       "<style scoped>\n",
       "    .dataframe tbody tr th:only-of-type {\n",
       "        vertical-align: middle;\n",
       "    }\n",
       "\n",
       "    .dataframe tbody tr th {\n",
       "        vertical-align: top;\n",
       "    }\n",
       "\n",
       "    .dataframe thead th {\n",
       "        text-align: right;\n",
       "    }\n",
       "</style>\n",
       "<table border=\"1\" class=\"dataframe\">\n",
       "  <thead>\n",
       "    <tr style=\"text-align: right;\">\n",
       "      <th></th>\n",
       "      <th>Date</th>\n",
       "      <th>Open</th>\n",
       "      <th>High</th>\n",
       "      <th>Low</th>\n",
       "      <th>Close</th>\n",
       "      <th>Adj Close</th>\n",
       "      <th>Volume</th>\n",
       "      <th>P/N</th>\n",
       "      <th>Daily_Change</th>\n",
       "      <th>Daily_%_Change</th>\n",
       "      <th>Future_Change</th>\n",
       "    </tr>\n",
       "  </thead>\n",
       "  <tbody>\n",
       "    <tr>\n",
       "      <td>0</td>\n",
       "      <td>1/2/2019</td>\n",
       "      <td>27.809999</td>\n",
       "      <td>28.650000</td>\n",
       "      <td>27.549999</td>\n",
       "      <td>28.650000</td>\n",
       "      <td>28.251038</td>\n",
       "      <td>4.0</td>\n",
       "      <td>Positive</td>\n",
       "      <td>NaN</td>\n",
       "      <td>NaN</td>\n",
       "      <td>-2.400000</td>\n",
       "    </tr>\n",
       "    <tr>\n",
       "      <td>1</td>\n",
       "      <td>1/3/2019</td>\n",
       "      <td>27.570000</td>\n",
       "      <td>27.570000</td>\n",
       "      <td>25.969999</td>\n",
       "      <td>26.250000</td>\n",
       "      <td>25.884460</td>\n",
       "      <td>5.0</td>\n",
       "      <td>Negative</td>\n",
       "      <td>-2.400000</td>\n",
       "      <td>-8.376963</td>\n",
       "      <td>0.809999</td>\n",
       "    </tr>\n",
       "    <tr>\n",
       "      <td>2</td>\n",
       "      <td>1/4/2019</td>\n",
       "      <td>26.200001</td>\n",
       "      <td>27.059999</td>\n",
       "      <td>26.200001</td>\n",
       "      <td>27.059999</td>\n",
       "      <td>26.683180</td>\n",
       "      <td>0.0</td>\n",
       "      <td>Positive</td>\n",
       "      <td>0.809999</td>\n",
       "      <td>3.085710</td>\n",
       "      <td>0.880002</td>\n",
       "    </tr>\n",
       "    <tr>\n",
       "      <td>3</td>\n",
       "      <td>1/7/2019</td>\n",
       "      <td>27.959999</td>\n",
       "      <td>27.959999</td>\n",
       "      <td>27.900000</td>\n",
       "      <td>27.940001</td>\n",
       "      <td>27.550928</td>\n",
       "      <td>178.0</td>\n",
       "      <td>Negative</td>\n",
       "      <td>0.880002</td>\n",
       "      <td>3.252040</td>\n",
       "      <td>0.939998</td>\n",
       "    </tr>\n",
       "    <tr>\n",
       "      <td>4</td>\n",
       "      <td>1/8/2019</td>\n",
       "      <td>28.620001</td>\n",
       "      <td>29.010000</td>\n",
       "      <td>28.620001</td>\n",
       "      <td>28.879999</td>\n",
       "      <td>28.477835</td>\n",
       "      <td>100.0</td>\n",
       "      <td>Positive</td>\n",
       "      <td>0.939998</td>\n",
       "      <td>3.364345</td>\n",
       "      <td>-0.479999</td>\n",
       "    </tr>\n",
       "  </tbody>\n",
       "</table>\n",
       "</div>"
      ],
      "text/plain": [
       "       Date       Open       High        Low      Close  Adj Close  Volume  \\\n",
       "0  1/2/2019  27.809999  28.650000  27.549999  28.650000  28.251038     4.0   \n",
       "1  1/3/2019  27.570000  27.570000  25.969999  26.250000  25.884460     5.0   \n",
       "2  1/4/2019  26.200001  27.059999  26.200001  27.059999  26.683180     0.0   \n",
       "3  1/7/2019  27.959999  27.959999  27.900000  27.940001  27.550928   178.0   \n",
       "4  1/8/2019  28.620001  29.010000  28.620001  28.879999  28.477835   100.0   \n",
       "\n",
       "         P/N  Daily_Change  Daily_%_Change  Future_Change  \n",
       "0   Positive           NaN             NaN      -2.400000  \n",
       "1  Negative      -2.400000       -8.376963       0.809999  \n",
       "2   Positive      0.809999        3.085710       0.880002  \n",
       "3  Negative       0.880002        3.252040       0.939998  \n",
       "4   Positive      0.939998        3.364345      -0.479999  "
      ]
     },
     "execution_count": 36,
     "metadata": {},
     "output_type": "execute_result"
    }
   ],
   "source": [
    "A1G[\"P/N\"] = np.where(A1G.eval(\"Open < Close\"), \"Positive\", \"Negative \")\n",
    "A1G['Daily_Change'] = A1G.Close.diff()\n",
    "A1G['Daily_%_Change'] = A1G.Close.pct_change() * 100\n",
    "A1G['Future_Change'] = A1G.Close.diff(periods=-1) * -1\n",
    "print('A1G:')\n",
    "A1G.head()\n"
   ]
  },
  {
   "cell_type": "code",
   "execution_count": 37,
   "metadata": {},
   "outputs": [
    {
     "name": "stdout",
     "output_type": "stream",
     "text": [
      "GM:\n"
     ]
    },
    {
     "data": {
      "text/html": [
       "<div>\n",
       "<style scoped>\n",
       "    .dataframe tbody tr th:only-of-type {\n",
       "        vertical-align: middle;\n",
       "    }\n",
       "\n",
       "    .dataframe tbody tr th {\n",
       "        vertical-align: top;\n",
       "    }\n",
       "\n",
       "    .dataframe thead th {\n",
       "        text-align: right;\n",
       "    }\n",
       "</style>\n",
       "<table border=\"1\" class=\"dataframe\">\n",
       "  <thead>\n",
       "    <tr style=\"text-align: right;\">\n",
       "      <th></th>\n",
       "      <th>Date</th>\n",
       "      <th>Open</th>\n",
       "      <th>High</th>\n",
       "      <th>Low</th>\n",
       "      <th>Close</th>\n",
       "      <th>Adj Close</th>\n",
       "      <th>Volume</th>\n",
       "      <th>P/N</th>\n",
       "      <th>Daily_Change</th>\n",
       "      <th>Daily_%_Change</th>\n",
       "      <th>Future_Change</th>\n",
       "    </tr>\n",
       "  </thead>\n",
       "  <tbody>\n",
       "    <tr>\n",
       "      <td>0</td>\n",
       "      <td>2019-01-02</td>\n",
       "      <td>32.849998</td>\n",
       "      <td>33.810001</td>\n",
       "      <td>32.410000</td>\n",
       "      <td>33.639999</td>\n",
       "      <td>32.282429</td>\n",
       "      <td>7662300</td>\n",
       "      <td>Positive</td>\n",
       "      <td>NaN</td>\n",
       "      <td>NaN</td>\n",
       "      <td>-1.389999</td>\n",
       "    </tr>\n",
       "    <tr>\n",
       "      <td>1</td>\n",
       "      <td>2019-01-03</td>\n",
       "      <td>33.340000</td>\n",
       "      <td>33.680000</td>\n",
       "      <td>32.200001</td>\n",
       "      <td>32.250000</td>\n",
       "      <td>30.948524</td>\n",
       "      <td>11618300</td>\n",
       "      <td>Negative</td>\n",
       "      <td>-1.389999</td>\n",
       "      <td>-4.131983</td>\n",
       "      <td>1.080002</td>\n",
       "    </tr>\n",
       "    <tr>\n",
       "      <td>2</td>\n",
       "      <td>2019-01-04</td>\n",
       "      <td>32.799999</td>\n",
       "      <td>33.570000</td>\n",
       "      <td>32.430000</td>\n",
       "      <td>33.330002</td>\n",
       "      <td>31.984938</td>\n",
       "      <td>10784000</td>\n",
       "      <td>Positive</td>\n",
       "      <td>1.080002</td>\n",
       "      <td>3.348843</td>\n",
       "      <td>1.029999</td>\n",
       "    </tr>\n",
       "    <tr>\n",
       "      <td>3</td>\n",
       "      <td>2019-01-07</td>\n",
       "      <td>33.709999</td>\n",
       "      <td>34.970001</td>\n",
       "      <td>33.480000</td>\n",
       "      <td>34.360001</td>\n",
       "      <td>32.973373</td>\n",
       "      <td>10722300</td>\n",
       "      <td>Positive</td>\n",
       "      <td>1.029999</td>\n",
       "      <td>3.090306</td>\n",
       "      <td>0.450000</td>\n",
       "    </tr>\n",
       "    <tr>\n",
       "      <td>4</td>\n",
       "      <td>2019-01-08</td>\n",
       "      <td>35.000000</td>\n",
       "      <td>35.680000</td>\n",
       "      <td>34.490002</td>\n",
       "      <td>34.810001</td>\n",
       "      <td>33.405216</td>\n",
       "      <td>10532900</td>\n",
       "      <td>Negative</td>\n",
       "      <td>0.450000</td>\n",
       "      <td>1.309662</td>\n",
       "      <td>0.369999</td>\n",
       "    </tr>\n",
       "  </tbody>\n",
       "</table>\n",
       "</div>"
      ],
      "text/plain": [
       "         Date       Open       High        Low      Close  Adj Close  \\\n",
       "0  2019-01-02  32.849998  33.810001  32.410000  33.639999  32.282429   \n",
       "1  2019-01-03  33.340000  33.680000  32.200001  32.250000  30.948524   \n",
       "2  2019-01-04  32.799999  33.570000  32.430000  33.330002  31.984938   \n",
       "3  2019-01-07  33.709999  34.970001  33.480000  34.360001  32.973373   \n",
       "4  2019-01-08  35.000000  35.680000  34.490002  34.810001  33.405216   \n",
       "\n",
       "     Volume        P/N  Daily_Change  Daily_%_Change  Future_Change  \n",
       "0   7662300   Positive           NaN             NaN      -1.389999  \n",
       "1  11618300  Negative      -1.389999       -4.131983       1.080002  \n",
       "2  10784000   Positive      1.080002        3.348843       1.029999  \n",
       "3  10722300   Positive      1.029999        3.090306       0.450000  \n",
       "4  10532900  Negative       0.450000        1.309662       0.369999  "
      ]
     },
     "execution_count": 37,
     "metadata": {},
     "output_type": "execute_result"
    }
   ],
   "source": [
    "GM[\"P/N\"] = np.where(GM.eval(\"Open < Close\"), \"Positive\", \"Negative \")\n",
    "GM['Daily_Change'] = GM.Close.diff()\n",
    "GM['Daily_%_Change'] = GM.Close.pct_change() * 100\n",
    "GM['Future_Change'] = GM.Close.diff(periods=-1) * -1\n",
    "print('GM:')\n",
    "GM.head()\n"
   ]
  },
  {
   "cell_type": "code",
   "execution_count": 40,
   "metadata": {},
   "outputs": [],
   "source": [
    "GM.to_csv(\"../CSVs/GMrevised.csv\", index = False)\n",
    "CSX.to_csv(\"../CSVs/CSXrevised.csv\", index = False)\n",
    "A1G.to_csv(\"../CSVs/A1Grevised.csv\", index = False)\n",
    "BA.to_csv(\"../CSVs/BArevised.csv\", index = False)"
   ]
  },
  {
   "cell_type": "code",
   "execution_count": null,
   "metadata": {},
   "outputs": [],
   "source": []
  }
 ],
 "metadata": {
  "kernelspec": {
   "display_name": "Python 3",
   "language": "python",
   "name": "python3"
  },
  "language_info": {
   "codemirror_mode": {
    "name": "ipython",
    "version": 3
   },
   "file_extension": ".py",
   "mimetype": "text/x-python",
   "name": "python",
   "nbconvert_exporter": "python",
   "pygments_lexer": "ipython3",
   "version": "3.7.3"
  }
 },
 "nbformat": 4,
 "nbformat_minor": 2
}
