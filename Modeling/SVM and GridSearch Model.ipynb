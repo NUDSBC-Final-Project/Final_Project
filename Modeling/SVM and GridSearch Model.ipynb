{
 "cells": [
  {
   "cell_type": "code",
   "execution_count": 1,
   "metadata": {},
   "outputs": [],
   "source": [
    "%matplotlib inline\n",
    "import numpy as np\n",
    "import matplotlib.pyplot as plt\n",
    "import pandas as pd\n",
    "import sklearn\n",
    "from sklearn.model_selection import train_test_split as split\n",
    "from sklearn.preprocessing import StandardScaler\n",
    "from tensorflow.keras.utils import to_categorical\n",
    "from tensorflow.keras.models import Sequential\n",
    "from tensorflow.keras.layers import Dense"
   ]
  },
  {
   "cell_type": "code",
   "execution_count": 2,
   "metadata": {},
   "outputs": [],
   "source": [
    "Tweets = pd.read_csv(\"../TweetSentiment.csv\")\n",
    "A1G = pd.read_csv(\"../CSVs/A1Grevised.csv\")\n",
    "GM = pd.read_csv(\"../CSVs/GMrevised.csv\")\n",
    "CSX = pd.read_csv(\"../CSVs/CSXrevised.csv\")\n",
    "BA = pd.read_csv(\"../CSVs/BArevised.csv\")"
   ]
  },
  {
   "cell_type": "code",
   "execution_count": 3,
   "metadata": {},
   "outputs": [
    {
     "data": {
      "text/html": [
       "<div>\n",
       "<style scoped>\n",
       "    .dataframe tbody tr th:only-of-type {\n",
       "        vertical-align: middle;\n",
       "    }\n",
       "\n",
       "    .dataframe tbody tr th {\n",
       "        vertical-align: top;\n",
       "    }\n",
       "\n",
       "    .dataframe thead th {\n",
       "        text-align: right;\n",
       "    }\n",
       "</style>\n",
       "<table border=\"1\" class=\"dataframe\">\n",
       "  <thead>\n",
       "    <tr style=\"text-align: right;\">\n",
       "      <th></th>\n",
       "      <th>tweetdate</th>\n",
       "      <th>compound</th>\n",
       "      <th>neg</th>\n",
       "      <th>neu</th>\n",
       "      <th>pos</th>\n",
       "    </tr>\n",
       "  </thead>\n",
       "  <tbody>\n",
       "    <tr>\n",
       "      <td>0</td>\n",
       "      <td>2018-01-01</td>\n",
       "      <td>0.271533</td>\n",
       "      <td>0.116333</td>\n",
       "      <td>0.681667</td>\n",
       "      <td>0.201667</td>\n",
       "    </tr>\n",
       "    <tr>\n",
       "      <td>1</td>\n",
       "      <td>2018-01-02</td>\n",
       "      <td>0.567400</td>\n",
       "      <td>0.080154</td>\n",
       "      <td>0.709692</td>\n",
       "      <td>0.210231</td>\n",
       "    </tr>\n",
       "    <tr>\n",
       "      <td>2</td>\n",
       "      <td>2018-01-03</td>\n",
       "      <td>0.113950</td>\n",
       "      <td>0.094750</td>\n",
       "      <td>0.782750</td>\n",
       "      <td>0.122500</td>\n",
       "    </tr>\n",
       "    <tr>\n",
       "      <td>3</td>\n",
       "      <td>2018-01-04</td>\n",
       "      <td>-0.029990</td>\n",
       "      <td>0.113300</td>\n",
       "      <td>0.779300</td>\n",
       "      <td>0.107300</td>\n",
       "    </tr>\n",
       "    <tr>\n",
       "      <td>4</td>\n",
       "      <td>2018-01-05</td>\n",
       "      <td>-0.083683</td>\n",
       "      <td>0.072833</td>\n",
       "      <td>0.851667</td>\n",
       "      <td>0.075833</td>\n",
       "    </tr>\n",
       "  </tbody>\n",
       "</table>\n",
       "</div>"
      ],
      "text/plain": [
       "    tweetdate  compound       neg       neu       pos\n",
       "0  2018-01-01  0.271533  0.116333  0.681667  0.201667\n",
       "1  2018-01-02  0.567400  0.080154  0.709692  0.210231\n",
       "2  2018-01-03  0.113950  0.094750  0.782750  0.122500\n",
       "3  2018-01-04 -0.029990  0.113300  0.779300  0.107300\n",
       "4  2018-01-05 -0.083683  0.072833  0.851667  0.075833"
      ]
     },
     "execution_count": 3,
     "metadata": {},
     "output_type": "execute_result"
    }
   ],
   "source": [
    "Tweets.head()"
   ]
  },
  {
   "cell_type": "code",
   "execution_count": 4,
   "metadata": {},
   "outputs": [
    {
     "data": {
      "text/html": [
       "<div>\n",
       "<style scoped>\n",
       "    .dataframe tbody tr th:only-of-type {\n",
       "        vertical-align: middle;\n",
       "    }\n",
       "\n",
       "    .dataframe tbody tr th {\n",
       "        vertical-align: top;\n",
       "    }\n",
       "\n",
       "    .dataframe thead th {\n",
       "        text-align: right;\n",
       "    }\n",
       "</style>\n",
       "<table border=\"1\" class=\"dataframe\">\n",
       "  <thead>\n",
       "    <tr style=\"text-align: right;\">\n",
       "      <th></th>\n",
       "      <th>Date</th>\n",
       "      <th>Open</th>\n",
       "      <th>High</th>\n",
       "      <th>Low</th>\n",
       "      <th>Close</th>\n",
       "      <th>Adj Close</th>\n",
       "      <th>Volume</th>\n",
       "      <th>P/N</th>\n",
       "      <th>Daily_Change</th>\n",
       "      <th>Daily_%_Change</th>\n",
       "      <th>Future_Change</th>\n",
       "    </tr>\n",
       "  </thead>\n",
       "  <tbody>\n",
       "    <tr>\n",
       "      <td>0</td>\n",
       "      <td>1/2/2019</td>\n",
       "      <td>27.809999</td>\n",
       "      <td>28.650000</td>\n",
       "      <td>27.549999</td>\n",
       "      <td>28.650000</td>\n",
       "      <td>28.251038</td>\n",
       "      <td>4.0</td>\n",
       "      <td>Positive</td>\n",
       "      <td>NaN</td>\n",
       "      <td>NaN</td>\n",
       "      <td>-2.400000</td>\n",
       "    </tr>\n",
       "    <tr>\n",
       "      <td>1</td>\n",
       "      <td>1/3/2019</td>\n",
       "      <td>27.570000</td>\n",
       "      <td>27.570000</td>\n",
       "      <td>25.969999</td>\n",
       "      <td>26.250000</td>\n",
       "      <td>25.884460</td>\n",
       "      <td>5.0</td>\n",
       "      <td>Negative</td>\n",
       "      <td>-2.400000</td>\n",
       "      <td>-8.376963</td>\n",
       "      <td>0.809999</td>\n",
       "    </tr>\n",
       "    <tr>\n",
       "      <td>2</td>\n",
       "      <td>1/4/2019</td>\n",
       "      <td>26.200001</td>\n",
       "      <td>27.059999</td>\n",
       "      <td>26.200001</td>\n",
       "      <td>27.059999</td>\n",
       "      <td>26.683180</td>\n",
       "      <td>0.0</td>\n",
       "      <td>Positive</td>\n",
       "      <td>0.809999</td>\n",
       "      <td>3.085710</td>\n",
       "      <td>0.880002</td>\n",
       "    </tr>\n",
       "    <tr>\n",
       "      <td>3</td>\n",
       "      <td>1/7/2019</td>\n",
       "      <td>27.959999</td>\n",
       "      <td>27.959999</td>\n",
       "      <td>27.900000</td>\n",
       "      <td>27.940001</td>\n",
       "      <td>27.550928</td>\n",
       "      <td>178.0</td>\n",
       "      <td>Negative</td>\n",
       "      <td>0.880002</td>\n",
       "      <td>3.252040</td>\n",
       "      <td>0.939998</td>\n",
       "    </tr>\n",
       "    <tr>\n",
       "      <td>4</td>\n",
       "      <td>1/8/2019</td>\n",
       "      <td>28.620001</td>\n",
       "      <td>29.010000</td>\n",
       "      <td>28.620001</td>\n",
       "      <td>28.879999</td>\n",
       "      <td>28.477835</td>\n",
       "      <td>100.0</td>\n",
       "      <td>Positive</td>\n",
       "      <td>0.939998</td>\n",
       "      <td>3.364345</td>\n",
       "      <td>-0.479999</td>\n",
       "    </tr>\n",
       "  </tbody>\n",
       "</table>\n",
       "</div>"
      ],
      "text/plain": [
       "       Date       Open       High        Low      Close  Adj Close  Volume  \\\n",
       "0  1/2/2019  27.809999  28.650000  27.549999  28.650000  28.251038     4.0   \n",
       "1  1/3/2019  27.570000  27.570000  25.969999  26.250000  25.884460     5.0   \n",
       "2  1/4/2019  26.200001  27.059999  26.200001  27.059999  26.683180     0.0   \n",
       "3  1/7/2019  27.959999  27.959999  27.900000  27.940001  27.550928   178.0   \n",
       "4  1/8/2019  28.620001  29.010000  28.620001  28.879999  28.477835   100.0   \n",
       "\n",
       "         P/N  Daily_Change  Daily_%_Change  Future_Change  \n",
       "0   Positive           NaN             NaN      -2.400000  \n",
       "1  Negative      -2.400000       -8.376963       0.809999  \n",
       "2   Positive      0.809999        3.085710       0.880002  \n",
       "3  Negative       0.880002        3.252040       0.939998  \n",
       "4   Positive      0.939998        3.364345      -0.479999  "
      ]
     },
     "execution_count": 4,
     "metadata": {},
     "output_type": "execute_result"
    }
   ],
   "source": [
    "A1G.head()"
   ]
  },
  {
   "cell_type": "code",
   "execution_count": 5,
   "metadata": {},
   "outputs": [
    {
     "data": {
      "text/html": [
       "<div>\n",
       "<style scoped>\n",
       "    .dataframe tbody tr th:only-of-type {\n",
       "        vertical-align: middle;\n",
       "    }\n",
       "\n",
       "    .dataframe tbody tr th {\n",
       "        vertical-align: top;\n",
       "    }\n",
       "\n",
       "    .dataframe thead th {\n",
       "        text-align: right;\n",
       "    }\n",
       "</style>\n",
       "<table border=\"1\" class=\"dataframe\">\n",
       "  <thead>\n",
       "    <tr style=\"text-align: right;\">\n",
       "      <th></th>\n",
       "      <th>Date</th>\n",
       "      <th>Open</th>\n",
       "      <th>High</th>\n",
       "      <th>Low</th>\n",
       "      <th>Close</th>\n",
       "      <th>Adj Close</th>\n",
       "      <th>Volume</th>\n",
       "      <th>P/N</th>\n",
       "      <th>Daily_Change</th>\n",
       "      <th>Daily_%_Change</th>\n",
       "      <th>Future_Change</th>\n",
       "    </tr>\n",
       "  </thead>\n",
       "  <tbody>\n",
       "    <tr>\n",
       "      <td>0</td>\n",
       "      <td>2019-01-02</td>\n",
       "      <td>32.849998</td>\n",
       "      <td>33.810001</td>\n",
       "      <td>32.410000</td>\n",
       "      <td>33.639999</td>\n",
       "      <td>32.282429</td>\n",
       "      <td>7662300</td>\n",
       "      <td>Positive</td>\n",
       "      <td>NaN</td>\n",
       "      <td>NaN</td>\n",
       "      <td>-1.389999</td>\n",
       "    </tr>\n",
       "    <tr>\n",
       "      <td>1</td>\n",
       "      <td>2019-01-03</td>\n",
       "      <td>33.340000</td>\n",
       "      <td>33.680000</td>\n",
       "      <td>32.200001</td>\n",
       "      <td>32.250000</td>\n",
       "      <td>30.948524</td>\n",
       "      <td>11618300</td>\n",
       "      <td>Negative</td>\n",
       "      <td>-1.389999</td>\n",
       "      <td>-4.131983</td>\n",
       "      <td>1.080002</td>\n",
       "    </tr>\n",
       "    <tr>\n",
       "      <td>2</td>\n",
       "      <td>2019-01-04</td>\n",
       "      <td>32.799999</td>\n",
       "      <td>33.570000</td>\n",
       "      <td>32.430000</td>\n",
       "      <td>33.330002</td>\n",
       "      <td>31.984938</td>\n",
       "      <td>10784000</td>\n",
       "      <td>Positive</td>\n",
       "      <td>1.080002</td>\n",
       "      <td>3.348843</td>\n",
       "      <td>1.029999</td>\n",
       "    </tr>\n",
       "    <tr>\n",
       "      <td>3</td>\n",
       "      <td>2019-01-07</td>\n",
       "      <td>33.709999</td>\n",
       "      <td>34.970001</td>\n",
       "      <td>33.480000</td>\n",
       "      <td>34.360001</td>\n",
       "      <td>32.973373</td>\n",
       "      <td>10722300</td>\n",
       "      <td>Positive</td>\n",
       "      <td>1.029999</td>\n",
       "      <td>3.090306</td>\n",
       "      <td>0.450000</td>\n",
       "    </tr>\n",
       "    <tr>\n",
       "      <td>4</td>\n",
       "      <td>2019-01-08</td>\n",
       "      <td>35.000000</td>\n",
       "      <td>35.680000</td>\n",
       "      <td>34.490002</td>\n",
       "      <td>34.810001</td>\n",
       "      <td>33.405216</td>\n",
       "      <td>10532900</td>\n",
       "      <td>Negative</td>\n",
       "      <td>0.450000</td>\n",
       "      <td>1.309662</td>\n",
       "      <td>0.369999</td>\n",
       "    </tr>\n",
       "  </tbody>\n",
       "</table>\n",
       "</div>"
      ],
      "text/plain": [
       "         Date       Open       High        Low      Close  Adj Close  \\\n",
       "0  2019-01-02  32.849998  33.810001  32.410000  33.639999  32.282429   \n",
       "1  2019-01-03  33.340000  33.680000  32.200001  32.250000  30.948524   \n",
       "2  2019-01-04  32.799999  33.570000  32.430000  33.330002  31.984938   \n",
       "3  2019-01-07  33.709999  34.970001  33.480000  34.360001  32.973373   \n",
       "4  2019-01-08  35.000000  35.680000  34.490002  34.810001  33.405216   \n",
       "\n",
       "     Volume        P/N  Daily_Change  Daily_%_Change  Future_Change  \n",
       "0   7662300   Positive           NaN             NaN      -1.389999  \n",
       "1  11618300  Negative      -1.389999       -4.131983       1.080002  \n",
       "2  10784000   Positive      1.080002        3.348843       1.029999  \n",
       "3  10722300   Positive      1.029999        3.090306       0.450000  \n",
       "4  10532900  Negative       0.450000        1.309662       0.369999  "
      ]
     },
     "execution_count": 5,
     "metadata": {},
     "output_type": "execute_result"
    }
   ],
   "source": [
    "GM.head()"
   ]
  },
  {
   "cell_type": "code",
   "execution_count": 6,
   "metadata": {},
   "outputs": [
    {
     "data": {
      "text/html": [
       "<div>\n",
       "<style scoped>\n",
       "    .dataframe tbody tr th:only-of-type {\n",
       "        vertical-align: middle;\n",
       "    }\n",
       "\n",
       "    .dataframe tbody tr th {\n",
       "        vertical-align: top;\n",
       "    }\n",
       "\n",
       "    .dataframe thead th {\n",
       "        text-align: right;\n",
       "    }\n",
       "</style>\n",
       "<table border=\"1\" class=\"dataframe\">\n",
       "  <thead>\n",
       "    <tr style=\"text-align: right;\">\n",
       "      <th></th>\n",
       "      <th>Date</th>\n",
       "      <th>Open</th>\n",
       "      <th>High</th>\n",
       "      <th>Low</th>\n",
       "      <th>Close</th>\n",
       "      <th>Adj Close</th>\n",
       "      <th>Volume</th>\n",
       "      <th>P/N</th>\n",
       "      <th>Daily_Change</th>\n",
       "      <th>Daily_%_Change</th>\n",
       "      <th>Future_Change</th>\n",
       "    </tr>\n",
       "  </thead>\n",
       "  <tbody>\n",
       "    <tr>\n",
       "      <td>0</td>\n",
       "      <td>1/3/2019</td>\n",
       "      <td>319.489990</td>\n",
       "      <td>319.739990</td>\n",
       "      <td>309.399994</td>\n",
       "      <td>310.899994</td>\n",
       "      <td>303.897919</td>\n",
       "      <td>5705600</td>\n",
       "      <td>Negative</td>\n",
       "      <td>-12.910004</td>\n",
       "      <td>-3.986907</td>\n",
       "      <td>16.179993</td>\n",
       "    </tr>\n",
       "    <tr>\n",
       "      <td>1</td>\n",
       "      <td>1/4/2019</td>\n",
       "      <td>316.690002</td>\n",
       "      <td>328.440002</td>\n",
       "      <td>316.079987</td>\n",
       "      <td>327.079987</td>\n",
       "      <td>319.713531</td>\n",
       "      <td>4448800</td>\n",
       "      <td>Positive</td>\n",
       "      <td>16.179993</td>\n",
       "      <td>5.204244</td>\n",
       "      <td>1.029998</td>\n",
       "    </tr>\n",
       "    <tr>\n",
       "      <td>2</td>\n",
       "      <td>1/7/2019</td>\n",
       "      <td>330.519989</td>\n",
       "      <td>330.690002</td>\n",
       "      <td>323.350006</td>\n",
       "      <td>328.109985</td>\n",
       "      <td>320.720306</td>\n",
       "      <td>4030300</td>\n",
       "      <td>Positive</td>\n",
       "      <td>1.029998</td>\n",
       "      <td>0.314907</td>\n",
       "      <td>12.420014</td>\n",
       "    </tr>\n",
       "    <tr>\n",
       "      <td>3</td>\n",
       "      <td>1/8/2019</td>\n",
       "      <td>334.109985</td>\n",
       "      <td>341.250000</td>\n",
       "      <td>332.649994</td>\n",
       "      <td>340.529999</td>\n",
       "      <td>332.860657</td>\n",
       "      <td>4736500</td>\n",
       "      <td>Positive</td>\n",
       "      <td>12.420014</td>\n",
       "      <td>3.785320</td>\n",
       "      <td>3.299988</td>\n",
       "    </tr>\n",
       "    <tr>\n",
       "      <td>4</td>\n",
       "      <td>1/9/2019</td>\n",
       "      <td>342.959991</td>\n",
       "      <td>347.200012</td>\n",
       "      <td>340.869995</td>\n",
       "      <td>343.829987</td>\n",
       "      <td>336.086273</td>\n",
       "      <td>4213900</td>\n",
       "      <td>Positive</td>\n",
       "      <td>3.299988</td>\n",
       "      <td>0.969074</td>\n",
       "      <td>8.779998</td>\n",
       "    </tr>\n",
       "  </tbody>\n",
       "</table>\n",
       "</div>"
      ],
      "text/plain": [
       "       Date        Open        High         Low       Close   Adj Close  \\\n",
       "0  1/3/2019  319.489990  319.739990  309.399994  310.899994  303.897919   \n",
       "1  1/4/2019  316.690002  328.440002  316.079987  327.079987  319.713531   \n",
       "2  1/7/2019  330.519989  330.690002  323.350006  328.109985  320.720306   \n",
       "3  1/8/2019  334.109985  341.250000  332.649994  340.529999  332.860657   \n",
       "4  1/9/2019  342.959991  347.200012  340.869995  343.829987  336.086273   \n",
       "\n",
       "    Volume        P/N  Daily_Change  Daily_%_Change  Future_Change  \n",
       "0  5705600  Negative     -12.910004       -3.986907      16.179993  \n",
       "1  4448800   Positive     16.179993        5.204244       1.029998  \n",
       "2  4030300   Positive      1.029998        0.314907      12.420014  \n",
       "3  4736500   Positive     12.420014        3.785320       3.299988  \n",
       "4  4213900   Positive      3.299988        0.969074       8.779998  "
      ]
     },
     "execution_count": 6,
     "metadata": {},
     "output_type": "execute_result"
    }
   ],
   "source": [
    "BA.head()"
   ]
  },
  {
   "cell_type": "code",
   "execution_count": 7,
   "metadata": {},
   "outputs": [
    {
     "data": {
      "text/html": [
       "<div>\n",
       "<style scoped>\n",
       "    .dataframe tbody tr th:only-of-type {\n",
       "        vertical-align: middle;\n",
       "    }\n",
       "\n",
       "    .dataframe tbody tr th {\n",
       "        vertical-align: top;\n",
       "    }\n",
       "\n",
       "    .dataframe thead th {\n",
       "        text-align: right;\n",
       "    }\n",
       "</style>\n",
       "<table border=\"1\" class=\"dataframe\">\n",
       "  <thead>\n",
       "    <tr style=\"text-align: right;\">\n",
       "      <th></th>\n",
       "      <th>Date</th>\n",
       "      <th>Open</th>\n",
       "      <th>High</th>\n",
       "      <th>Low</th>\n",
       "      <th>Close</th>\n",
       "      <th>Adj Close</th>\n",
       "      <th>Volume</th>\n",
       "      <th>P/N</th>\n",
       "      <th>Daily_Change</th>\n",
       "      <th>Daily_%_Change</th>\n",
       "      <th>Future_Change</th>\n",
       "    </tr>\n",
       "  </thead>\n",
       "  <tbody>\n",
       "    <tr>\n",
       "      <td>0</td>\n",
       "      <td>2019-01-02</td>\n",
       "      <td>60.759998</td>\n",
       "      <td>62.250000</td>\n",
       "      <td>60.020000</td>\n",
       "      <td>61.950001</td>\n",
       "      <td>61.114838</td>\n",
       "      <td>5012900</td>\n",
       "      <td>Positive</td>\n",
       "      <td>NaN</td>\n",
       "      <td>NaN</td>\n",
       "      <td>-0.970001</td>\n",
       "    </tr>\n",
       "    <tr>\n",
       "      <td>1</td>\n",
       "      <td>2019-01-03</td>\n",
       "      <td>61.360001</td>\n",
       "      <td>61.810001</td>\n",
       "      <td>60.360001</td>\n",
       "      <td>60.980000</td>\n",
       "      <td>60.157917</td>\n",
       "      <td>7842400</td>\n",
       "      <td>Negative</td>\n",
       "      <td>-0.970001</td>\n",
       "      <td>-1.565780</td>\n",
       "      <td>1.810001</td>\n",
       "    </tr>\n",
       "    <tr>\n",
       "      <td>2</td>\n",
       "      <td>2019-01-04</td>\n",
       "      <td>61.000000</td>\n",
       "      <td>62.830002</td>\n",
       "      <td>60.529999</td>\n",
       "      <td>62.790001</td>\n",
       "      <td>61.943512</td>\n",
       "      <td>6181200</td>\n",
       "      <td>Positive</td>\n",
       "      <td>1.810001</td>\n",
       "      <td>2.968188</td>\n",
       "      <td>-0.340000</td>\n",
       "    </tr>\n",
       "    <tr>\n",
       "      <td>3</td>\n",
       "      <td>2019-01-07</td>\n",
       "      <td>62.430000</td>\n",
       "      <td>63.070000</td>\n",
       "      <td>61.349998</td>\n",
       "      <td>62.450001</td>\n",
       "      <td>61.608097</td>\n",
       "      <td>6262300</td>\n",
       "      <td>Positive</td>\n",
       "      <td>-0.340000</td>\n",
       "      <td>-0.541487</td>\n",
       "      <td>0.899997</td>\n",
       "    </tr>\n",
       "    <tr>\n",
       "      <td>4</td>\n",
       "      <td>2019-01-08</td>\n",
       "      <td>63.779999</td>\n",
       "      <td>64.180000</td>\n",
       "      <td>62.639999</td>\n",
       "      <td>63.349998</td>\n",
       "      <td>62.495960</td>\n",
       "      <td>5079300</td>\n",
       "      <td>Negative</td>\n",
       "      <td>0.899997</td>\n",
       "      <td>1.441148</td>\n",
       "      <td>0.630002</td>\n",
       "    </tr>\n",
       "  </tbody>\n",
       "</table>\n",
       "</div>"
      ],
      "text/plain": [
       "         Date       Open       High        Low      Close  Adj Close   Volume  \\\n",
       "0  2019-01-02  60.759998  62.250000  60.020000  61.950001  61.114838  5012900   \n",
       "1  2019-01-03  61.360001  61.810001  60.360001  60.980000  60.157917  7842400   \n",
       "2  2019-01-04  61.000000  62.830002  60.529999  62.790001  61.943512  6181200   \n",
       "3  2019-01-07  62.430000  63.070000  61.349998  62.450001  61.608097  6262300   \n",
       "4  2019-01-08  63.779999  64.180000  62.639999  63.349998  62.495960  5079300   \n",
       "\n",
       "         P/N  Daily_Change  Daily_%_Change  Future_Change  \n",
       "0   Positive           NaN             NaN      -0.970001  \n",
       "1  Negative      -0.970001       -1.565780       1.810001  \n",
       "2   Positive      1.810001        2.968188      -0.340000  \n",
       "3   Positive     -0.340000       -0.541487       0.899997  \n",
       "4  Negative       0.899997        1.441148       0.630002  "
      ]
     },
     "execution_count": 7,
     "metadata": {},
     "output_type": "execute_result"
    }
   ],
   "source": [
    "CSX.head()"
   ]
  },
  {
   "cell_type": "markdown",
   "metadata": {},
   "source": [
    "Revising Date format"
   ]
  },
  {
   "cell_type": "code",
   "execution_count": 12,
   "metadata": {},
   "outputs": [],
   "source": [
    "Tweets['tweetdate'] = pd.to_datetime(Tweets['tweetdate']).dt.strftime('%m/%d/%Y')"
   ]
  },
  {
   "cell_type": "code",
   "execution_count": 13,
   "metadata": {},
   "outputs": [
    {
     "data": {
      "text/html": [
       "<div>\n",
       "<style scoped>\n",
       "    .dataframe tbody tr th:only-of-type {\n",
       "        vertical-align: middle;\n",
       "    }\n",
       "\n",
       "    .dataframe tbody tr th {\n",
       "        vertical-align: top;\n",
       "    }\n",
       "\n",
       "    .dataframe thead th {\n",
       "        text-align: right;\n",
       "    }\n",
       "</style>\n",
       "<table border=\"1\" class=\"dataframe\">\n",
       "  <thead>\n",
       "    <tr style=\"text-align: right;\">\n",
       "      <th></th>\n",
       "      <th>Date</th>\n",
       "      <th>compound</th>\n",
       "      <th>neg</th>\n",
       "      <th>neu</th>\n",
       "      <th>pos</th>\n",
       "    </tr>\n",
       "  </thead>\n",
       "  <tbody>\n",
       "    <tr>\n",
       "      <td>0</td>\n",
       "      <td>01/01/2018</td>\n",
       "      <td>0.271533</td>\n",
       "      <td>0.116333</td>\n",
       "      <td>0.681667</td>\n",
       "      <td>0.201667</td>\n",
       "    </tr>\n",
       "    <tr>\n",
       "      <td>1</td>\n",
       "      <td>01/02/2018</td>\n",
       "      <td>0.567400</td>\n",
       "      <td>0.080154</td>\n",
       "      <td>0.709692</td>\n",
       "      <td>0.210231</td>\n",
       "    </tr>\n",
       "    <tr>\n",
       "      <td>2</td>\n",
       "      <td>01/03/2018</td>\n",
       "      <td>0.113950</td>\n",
       "      <td>0.094750</td>\n",
       "      <td>0.782750</td>\n",
       "      <td>0.122500</td>\n",
       "    </tr>\n",
       "    <tr>\n",
       "      <td>3</td>\n",
       "      <td>01/04/2018</td>\n",
       "      <td>-0.029990</td>\n",
       "      <td>0.113300</td>\n",
       "      <td>0.779300</td>\n",
       "      <td>0.107300</td>\n",
       "    </tr>\n",
       "    <tr>\n",
       "      <td>4</td>\n",
       "      <td>01/05/2018</td>\n",
       "      <td>-0.083683</td>\n",
       "      <td>0.072833</td>\n",
       "      <td>0.851667</td>\n",
       "      <td>0.075833</td>\n",
       "    </tr>\n",
       "  </tbody>\n",
       "</table>\n",
       "</div>"
      ],
      "text/plain": [
       "         Date  compound       neg       neu       pos\n",
       "0  01/01/2018  0.271533  0.116333  0.681667  0.201667\n",
       "1  01/02/2018  0.567400  0.080154  0.709692  0.210231\n",
       "2  01/03/2018  0.113950  0.094750  0.782750  0.122500\n",
       "3  01/04/2018 -0.029990  0.113300  0.779300  0.107300\n",
       "4  01/05/2018 -0.083683  0.072833  0.851667  0.075833"
      ]
     },
     "execution_count": 13,
     "metadata": {},
     "output_type": "execute_result"
    }
   ],
   "source": [
    "Tweets.rename(columns = {'tweetdate':'Date'}, inplace = True)\n",
    "Tweets.head()"
   ]
  },
  {
   "cell_type": "code",
   "execution_count": 10,
   "metadata": {},
   "outputs": [],
   "source": [
    "GM['Date'] = pd.to_datetime(GM['Date']).dt.strftime('%m/%d/%Y')"
   ]
  },
  {
   "cell_type": "code",
   "execution_count": 11,
   "metadata": {},
   "outputs": [
    {
     "data": {
      "text/html": [
       "<div>\n",
       "<style scoped>\n",
       "    .dataframe tbody tr th:only-of-type {\n",
       "        vertical-align: middle;\n",
       "    }\n",
       "\n",
       "    .dataframe tbody tr th {\n",
       "        vertical-align: top;\n",
       "    }\n",
       "\n",
       "    .dataframe thead th {\n",
       "        text-align: right;\n",
       "    }\n",
       "</style>\n",
       "<table border=\"1\" class=\"dataframe\">\n",
       "  <thead>\n",
       "    <tr style=\"text-align: right;\">\n",
       "      <th></th>\n",
       "      <th>Date</th>\n",
       "      <th>Open</th>\n",
       "      <th>High</th>\n",
       "      <th>Low</th>\n",
       "      <th>Close</th>\n",
       "      <th>Adj Close</th>\n",
       "      <th>Volume</th>\n",
       "      <th>P/N</th>\n",
       "      <th>Daily_Change</th>\n",
       "      <th>Daily_%_Change</th>\n",
       "      <th>Future_Change</th>\n",
       "    </tr>\n",
       "  </thead>\n",
       "  <tbody>\n",
       "    <tr>\n",
       "      <td>0</td>\n",
       "      <td>01/02/2019</td>\n",
       "      <td>32.849998</td>\n",
       "      <td>33.810001</td>\n",
       "      <td>32.410000</td>\n",
       "      <td>33.639999</td>\n",
       "      <td>32.282429</td>\n",
       "      <td>7662300</td>\n",
       "      <td>Positive</td>\n",
       "      <td>NaN</td>\n",
       "      <td>NaN</td>\n",
       "      <td>-1.389999</td>\n",
       "    </tr>\n",
       "    <tr>\n",
       "      <td>1</td>\n",
       "      <td>01/03/2019</td>\n",
       "      <td>33.340000</td>\n",
       "      <td>33.680000</td>\n",
       "      <td>32.200001</td>\n",
       "      <td>32.250000</td>\n",
       "      <td>30.948524</td>\n",
       "      <td>11618300</td>\n",
       "      <td>Negative</td>\n",
       "      <td>-1.389999</td>\n",
       "      <td>-4.131983</td>\n",
       "      <td>1.080002</td>\n",
       "    </tr>\n",
       "    <tr>\n",
       "      <td>2</td>\n",
       "      <td>01/04/2019</td>\n",
       "      <td>32.799999</td>\n",
       "      <td>33.570000</td>\n",
       "      <td>32.430000</td>\n",
       "      <td>33.330002</td>\n",
       "      <td>31.984938</td>\n",
       "      <td>10784000</td>\n",
       "      <td>Positive</td>\n",
       "      <td>1.080002</td>\n",
       "      <td>3.348843</td>\n",
       "      <td>1.029999</td>\n",
       "    </tr>\n",
       "    <tr>\n",
       "      <td>3</td>\n",
       "      <td>01/07/2019</td>\n",
       "      <td>33.709999</td>\n",
       "      <td>34.970001</td>\n",
       "      <td>33.480000</td>\n",
       "      <td>34.360001</td>\n",
       "      <td>32.973373</td>\n",
       "      <td>10722300</td>\n",
       "      <td>Positive</td>\n",
       "      <td>1.029999</td>\n",
       "      <td>3.090306</td>\n",
       "      <td>0.450000</td>\n",
       "    </tr>\n",
       "    <tr>\n",
       "      <td>4</td>\n",
       "      <td>01/08/2019</td>\n",
       "      <td>35.000000</td>\n",
       "      <td>35.680000</td>\n",
       "      <td>34.490002</td>\n",
       "      <td>34.810001</td>\n",
       "      <td>33.405216</td>\n",
       "      <td>10532900</td>\n",
       "      <td>Negative</td>\n",
       "      <td>0.450000</td>\n",
       "      <td>1.309662</td>\n",
       "      <td>0.369999</td>\n",
       "    </tr>\n",
       "  </tbody>\n",
       "</table>\n",
       "</div>"
      ],
      "text/plain": [
       "         Date       Open       High        Low      Close  Adj Close  \\\n",
       "0  01/02/2019  32.849998  33.810001  32.410000  33.639999  32.282429   \n",
       "1  01/03/2019  33.340000  33.680000  32.200001  32.250000  30.948524   \n",
       "2  01/04/2019  32.799999  33.570000  32.430000  33.330002  31.984938   \n",
       "3  01/07/2019  33.709999  34.970001  33.480000  34.360001  32.973373   \n",
       "4  01/08/2019  35.000000  35.680000  34.490002  34.810001  33.405216   \n",
       "\n",
       "     Volume        P/N  Daily_Change  Daily_%_Change  Future_Change  \n",
       "0   7662300   Positive           NaN             NaN      -1.389999  \n",
       "1  11618300  Negative      -1.389999       -4.131983       1.080002  \n",
       "2  10784000   Positive      1.080002        3.348843       1.029999  \n",
       "3  10722300   Positive      1.029999        3.090306       0.450000  \n",
       "4  10532900  Negative       0.450000        1.309662       0.369999  "
      ]
     },
     "execution_count": 11,
     "metadata": {},
     "output_type": "execute_result"
    }
   ],
   "source": [
    "GM.head()"
   ]
  },
  {
   "cell_type": "code",
   "execution_count": 14,
   "metadata": {},
   "outputs": [],
   "source": [
    "CSX['Date'] = pd.to_datetime(CSX['Date']).dt.strftime('%m/%d/%Y')"
   ]
  },
  {
   "cell_type": "code",
   "execution_count": 15,
   "metadata": {},
   "outputs": [
    {
     "data": {
      "text/html": [
       "<div>\n",
       "<style scoped>\n",
       "    .dataframe tbody tr th:only-of-type {\n",
       "        vertical-align: middle;\n",
       "    }\n",
       "\n",
       "    .dataframe tbody tr th {\n",
       "        vertical-align: top;\n",
       "    }\n",
       "\n",
       "    .dataframe thead th {\n",
       "        text-align: right;\n",
       "    }\n",
       "</style>\n",
       "<table border=\"1\" class=\"dataframe\">\n",
       "  <thead>\n",
       "    <tr style=\"text-align: right;\">\n",
       "      <th></th>\n",
       "      <th>Date</th>\n",
       "      <th>Open</th>\n",
       "      <th>High</th>\n",
       "      <th>Low</th>\n",
       "      <th>Close</th>\n",
       "      <th>Adj Close</th>\n",
       "      <th>Volume</th>\n",
       "      <th>P/N</th>\n",
       "      <th>Daily_Change</th>\n",
       "      <th>Daily_%_Change</th>\n",
       "      <th>Future_Change</th>\n",
       "    </tr>\n",
       "  </thead>\n",
       "  <tbody>\n",
       "    <tr>\n",
       "      <td>0</td>\n",
       "      <td>01/02/2019</td>\n",
       "      <td>60.759998</td>\n",
       "      <td>62.250000</td>\n",
       "      <td>60.020000</td>\n",
       "      <td>61.950001</td>\n",
       "      <td>61.114838</td>\n",
       "      <td>5012900</td>\n",
       "      <td>Positive</td>\n",
       "      <td>NaN</td>\n",
       "      <td>NaN</td>\n",
       "      <td>-0.970001</td>\n",
       "    </tr>\n",
       "    <tr>\n",
       "      <td>1</td>\n",
       "      <td>01/03/2019</td>\n",
       "      <td>61.360001</td>\n",
       "      <td>61.810001</td>\n",
       "      <td>60.360001</td>\n",
       "      <td>60.980000</td>\n",
       "      <td>60.157917</td>\n",
       "      <td>7842400</td>\n",
       "      <td>Negative</td>\n",
       "      <td>-0.970001</td>\n",
       "      <td>-1.565780</td>\n",
       "      <td>1.810001</td>\n",
       "    </tr>\n",
       "    <tr>\n",
       "      <td>2</td>\n",
       "      <td>01/04/2019</td>\n",
       "      <td>61.000000</td>\n",
       "      <td>62.830002</td>\n",
       "      <td>60.529999</td>\n",
       "      <td>62.790001</td>\n",
       "      <td>61.943512</td>\n",
       "      <td>6181200</td>\n",
       "      <td>Positive</td>\n",
       "      <td>1.810001</td>\n",
       "      <td>2.968188</td>\n",
       "      <td>-0.340000</td>\n",
       "    </tr>\n",
       "    <tr>\n",
       "      <td>3</td>\n",
       "      <td>01/07/2019</td>\n",
       "      <td>62.430000</td>\n",
       "      <td>63.070000</td>\n",
       "      <td>61.349998</td>\n",
       "      <td>62.450001</td>\n",
       "      <td>61.608097</td>\n",
       "      <td>6262300</td>\n",
       "      <td>Positive</td>\n",
       "      <td>-0.340000</td>\n",
       "      <td>-0.541487</td>\n",
       "      <td>0.899997</td>\n",
       "    </tr>\n",
       "    <tr>\n",
       "      <td>4</td>\n",
       "      <td>01/08/2019</td>\n",
       "      <td>63.779999</td>\n",
       "      <td>64.180000</td>\n",
       "      <td>62.639999</td>\n",
       "      <td>63.349998</td>\n",
       "      <td>62.495960</td>\n",
       "      <td>5079300</td>\n",
       "      <td>Negative</td>\n",
       "      <td>0.899997</td>\n",
       "      <td>1.441148</td>\n",
       "      <td>0.630002</td>\n",
       "    </tr>\n",
       "  </tbody>\n",
       "</table>\n",
       "</div>"
      ],
      "text/plain": [
       "         Date       Open       High        Low      Close  Adj Close   Volume  \\\n",
       "0  01/02/2019  60.759998  62.250000  60.020000  61.950001  61.114838  5012900   \n",
       "1  01/03/2019  61.360001  61.810001  60.360001  60.980000  60.157917  7842400   \n",
       "2  01/04/2019  61.000000  62.830002  60.529999  62.790001  61.943512  6181200   \n",
       "3  01/07/2019  62.430000  63.070000  61.349998  62.450001  61.608097  6262300   \n",
       "4  01/08/2019  63.779999  64.180000  62.639999  63.349998  62.495960  5079300   \n",
       "\n",
       "         P/N  Daily_Change  Daily_%_Change  Future_Change  \n",
       "0   Positive           NaN             NaN      -0.970001  \n",
       "1  Negative      -0.970001       -1.565780       1.810001  \n",
       "2   Positive      1.810001        2.968188      -0.340000  \n",
       "3   Positive     -0.340000       -0.541487       0.899997  \n",
       "4  Negative       0.899997        1.441148       0.630002  "
      ]
     },
     "execution_count": 15,
     "metadata": {},
     "output_type": "execute_result"
    }
   ],
   "source": [
    "CSX.head()"
   ]
  },
  {
   "cell_type": "markdown",
   "metadata": {},
   "source": [
    "### Joining Tweets and Stocks"
   ]
  },
  {
   "cell_type": "code",
   "execution_count": 16,
   "metadata": {},
   "outputs": [
    {
     "data": {
      "text/html": [
       "<div>\n",
       "<style scoped>\n",
       "    .dataframe tbody tr th:only-of-type {\n",
       "        vertical-align: middle;\n",
       "    }\n",
       "\n",
       "    .dataframe tbody tr th {\n",
       "        vertical-align: top;\n",
       "    }\n",
       "\n",
       "    .dataframe thead th {\n",
       "        text-align: right;\n",
       "    }\n",
       "</style>\n",
       "<table border=\"1\" class=\"dataframe\">\n",
       "  <thead>\n",
       "    <tr style=\"text-align: right;\">\n",
       "      <th></th>\n",
       "      <th>Date</th>\n",
       "      <th>Open</th>\n",
       "      <th>High</th>\n",
       "      <th>Low</th>\n",
       "      <th>Close</th>\n",
       "      <th>Adj Close</th>\n",
       "      <th>Volume</th>\n",
       "      <th>P/N</th>\n",
       "      <th>Daily_Change</th>\n",
       "      <th>Daily_%_Change</th>\n",
       "      <th>Future_Change</th>\n",
       "      <th>compound</th>\n",
       "      <th>neg</th>\n",
       "      <th>neu</th>\n",
       "      <th>pos</th>\n",
       "    </tr>\n",
       "  </thead>\n",
       "  <tbody>\n",
       "    <tr>\n",
       "      <td>0</td>\n",
       "      <td>10/10/2019</td>\n",
       "      <td>24.469999</td>\n",
       "      <td>24.469999</td>\n",
       "      <td>24.190001</td>\n",
       "      <td>24.190001</td>\n",
       "      <td>24.101749</td>\n",
       "      <td>0.0</td>\n",
       "      <td>Negative</td>\n",
       "      <td>-0.254999</td>\n",
       "      <td>-1.043154</td>\n",
       "      <td>0.875000</td>\n",
       "      <td>-0.126158</td>\n",
       "      <td>0.106833</td>\n",
       "      <td>0.799542</td>\n",
       "      <td>0.093708</td>\n",
       "    </tr>\n",
       "    <tr>\n",
       "      <td>1</td>\n",
       "      <td>10/11/2019</td>\n",
       "      <td>24.655001</td>\n",
       "      <td>25.120001</td>\n",
       "      <td>24.655001</td>\n",
       "      <td>25.065001</td>\n",
       "      <td>24.973557</td>\n",
       "      <td>0.0</td>\n",
       "      <td>Positive</td>\n",
       "      <td>0.875000</td>\n",
       "      <td>3.617197</td>\n",
       "      <td>-0.315001</td>\n",
       "      <td>0.200773</td>\n",
       "      <td>0.080096</td>\n",
       "      <td>0.742519</td>\n",
       "      <td>0.177327</td>\n",
       "    </tr>\n",
       "    <tr>\n",
       "      <td>2</td>\n",
       "      <td>10/14/2019</td>\n",
       "      <td>24.680000</td>\n",
       "      <td>24.980000</td>\n",
       "      <td>24.680000</td>\n",
       "      <td>24.750000</td>\n",
       "      <td>24.659704</td>\n",
       "      <td>20.0</td>\n",
       "      <td>Positive</td>\n",
       "      <td>-0.315001</td>\n",
       "      <td>-1.256736</td>\n",
       "      <td>0.559999</td>\n",
       "      <td>0.048056</td>\n",
       "      <td>0.066882</td>\n",
       "      <td>0.822324</td>\n",
       "      <td>0.110794</td>\n",
       "    </tr>\n",
       "    <tr>\n",
       "      <td>3</td>\n",
       "      <td>10/15/2019</td>\n",
       "      <td>25.000000</td>\n",
       "      <td>25.309999</td>\n",
       "      <td>24.950001</td>\n",
       "      <td>25.309999</td>\n",
       "      <td>25.217661</td>\n",
       "      <td>100.0</td>\n",
       "      <td>Positive</td>\n",
       "      <td>0.559999</td>\n",
       "      <td>2.262622</td>\n",
       "      <td>0.340001</td>\n",
       "      <td>0.001340</td>\n",
       "      <td>0.100667</td>\n",
       "      <td>0.741000</td>\n",
       "      <td>0.158400</td>\n",
       "    </tr>\n",
       "    <tr>\n",
       "      <td>4</td>\n",
       "      <td>10/16/2019</td>\n",
       "      <td>25.520000</td>\n",
       "      <td>25.815001</td>\n",
       "      <td>25.520000</td>\n",
       "      <td>25.650000</td>\n",
       "      <td>25.556421</td>\n",
       "      <td>193.0</td>\n",
       "      <td>Positive</td>\n",
       "      <td>0.340001</td>\n",
       "      <td>1.343347</td>\n",
       "      <td>-0.315001</td>\n",
       "      <td>0.097252</td>\n",
       "      <td>0.115600</td>\n",
       "      <td>0.696520</td>\n",
       "      <td>0.187960</td>\n",
       "    </tr>\n",
       "  </tbody>\n",
       "</table>\n",
       "</div>"
      ],
      "text/plain": [
       "         Date       Open       High        Low      Close  Adj Close  Volume  \\\n",
       "0  10/10/2019  24.469999  24.469999  24.190001  24.190001  24.101749     0.0   \n",
       "1  10/11/2019  24.655001  25.120001  24.655001  25.065001  24.973557     0.0   \n",
       "2  10/14/2019  24.680000  24.980000  24.680000  24.750000  24.659704    20.0   \n",
       "3  10/15/2019  25.000000  25.309999  24.950001  25.309999  25.217661   100.0   \n",
       "4  10/16/2019  25.520000  25.815001  25.520000  25.650000  25.556421   193.0   \n",
       "\n",
       "         P/N  Daily_Change  Daily_%_Change  Future_Change  compound       neg  \\\n",
       "0  Negative      -0.254999       -1.043154       0.875000 -0.126158  0.106833   \n",
       "1   Positive      0.875000        3.617197      -0.315001  0.200773  0.080096   \n",
       "2   Positive     -0.315001       -1.256736       0.559999  0.048056  0.066882   \n",
       "3   Positive      0.559999        2.262622       0.340001  0.001340  0.100667   \n",
       "4   Positive      0.340001        1.343347      -0.315001  0.097252  0.115600   \n",
       "\n",
       "        neu       pos  \n",
       "0  0.799542  0.093708  \n",
       "1  0.742519  0.177327  \n",
       "2  0.822324  0.110794  \n",
       "3  0.741000  0.158400  \n",
       "4  0.696520  0.187960  "
      ]
     },
     "execution_count": 16,
     "metadata": {},
     "output_type": "execute_result"
    }
   ],
   "source": [
    "A1G = A1G.merge(Tweets,how = 'inner', on = 'Date')\n",
    "A1G.head()"
   ]
  },
  {
   "cell_type": "code",
   "execution_count": 17,
   "metadata": {},
   "outputs": [
    {
     "data": {
      "text/html": [
       "<div>\n",
       "<style scoped>\n",
       "    .dataframe tbody tr th:only-of-type {\n",
       "        vertical-align: middle;\n",
       "    }\n",
       "\n",
       "    .dataframe tbody tr th {\n",
       "        vertical-align: top;\n",
       "    }\n",
       "\n",
       "    .dataframe thead th {\n",
       "        text-align: right;\n",
       "    }\n",
       "</style>\n",
       "<table border=\"1\" class=\"dataframe\">\n",
       "  <thead>\n",
       "    <tr style=\"text-align: right;\">\n",
       "      <th></th>\n",
       "      <th>Date</th>\n",
       "      <th>Open</th>\n",
       "      <th>High</th>\n",
       "      <th>Low</th>\n",
       "      <th>Close</th>\n",
       "      <th>Adj Close</th>\n",
       "      <th>Volume</th>\n",
       "      <th>P/N</th>\n",
       "      <th>Daily_Change</th>\n",
       "      <th>Daily_%_Change</th>\n",
       "      <th>Future_Change</th>\n",
       "      <th>compound</th>\n",
       "      <th>neg</th>\n",
       "      <th>neu</th>\n",
       "      <th>pos</th>\n",
       "    </tr>\n",
       "  </thead>\n",
       "  <tbody>\n",
       "    <tr>\n",
       "      <td>0</td>\n",
       "      <td>10/10/2019</td>\n",
       "      <td>373.700012</td>\n",
       "      <td>374.540009</td>\n",
       "      <td>370.329987</td>\n",
       "      <td>371.000000</td>\n",
       "      <td>368.847473</td>\n",
       "      <td>2723700</td>\n",
       "      <td>Positive</td>\n",
       "      <td>-3.959991</td>\n",
       "      <td>-1.056110</td>\n",
       "      <td>3.920013</td>\n",
       "      <td>-0.126158</td>\n",
       "      <td>0.106833</td>\n",
       "      <td>0.799542</td>\n",
       "      <td>0.093708</td>\n",
       "    </tr>\n",
       "    <tr>\n",
       "      <td>1</td>\n",
       "      <td>10/11/2019</td>\n",
       "      <td>373.000000</td>\n",
       "      <td>376.940002</td>\n",
       "      <td>370.079987</td>\n",
       "      <td>374.920013</td>\n",
       "      <td>372.744751</td>\n",
       "      <td>3935400</td>\n",
       "      <td>Positive</td>\n",
       "      <td>3.920013</td>\n",
       "      <td>1.056607</td>\n",
       "      <td>-1.740020</td>\n",
       "      <td>0.200773</td>\n",
       "      <td>0.080096</td>\n",
       "      <td>0.742519</td>\n",
       "      <td>0.177327</td>\n",
       "    </tr>\n",
       "    <tr>\n",
       "      <td>2</td>\n",
       "      <td>10/14/2019</td>\n",
       "      <td>374.250000</td>\n",
       "      <td>378.700012</td>\n",
       "      <td>372.679993</td>\n",
       "      <td>373.179993</td>\n",
       "      <td>371.014801</td>\n",
       "      <td>2124500</td>\n",
       "      <td>Positive</td>\n",
       "      <td>-1.740020</td>\n",
       "      <td>-0.464104</td>\n",
       "      <td>-2.220002</td>\n",
       "      <td>0.048056</td>\n",
       "      <td>0.066882</td>\n",
       "      <td>0.822324</td>\n",
       "      <td>0.110794</td>\n",
       "    </tr>\n",
       "    <tr>\n",
       "      <td>3</td>\n",
       "      <td>10/15/2019</td>\n",
       "      <td>372.579987</td>\n",
       "      <td>373.529999</td>\n",
       "      <td>370.529999</td>\n",
       "      <td>370.959991</td>\n",
       "      <td>368.807678</td>\n",
       "      <td>2836600</td>\n",
       "      <td>Positive</td>\n",
       "      <td>-2.220002</td>\n",
       "      <td>-0.594888</td>\n",
       "      <td>1.470002</td>\n",
       "      <td>0.001340</td>\n",
       "      <td>0.100667</td>\n",
       "      <td>0.741000</td>\n",
       "      <td>0.158400</td>\n",
       "    </tr>\n",
       "    <tr>\n",
       "      <td>4</td>\n",
       "      <td>10/16/2019</td>\n",
       "      <td>370.220001</td>\n",
       "      <td>377.420013</td>\n",
       "      <td>369.239990</td>\n",
       "      <td>372.429993</td>\n",
       "      <td>370.269165</td>\n",
       "      <td>3657100</td>\n",
       "      <td>Positive</td>\n",
       "      <td>1.470002</td>\n",
       "      <td>0.396270</td>\n",
       "      <td>-3.369995</td>\n",
       "      <td>0.097252</td>\n",
       "      <td>0.115600</td>\n",
       "      <td>0.696520</td>\n",
       "      <td>0.187960</td>\n",
       "    </tr>\n",
       "  </tbody>\n",
       "</table>\n",
       "</div>"
      ],
      "text/plain": [
       "         Date        Open        High         Low       Close   Adj Close  \\\n",
       "0  10/10/2019  373.700012  374.540009  370.329987  371.000000  368.847473   \n",
       "1  10/11/2019  373.000000  376.940002  370.079987  374.920013  372.744751   \n",
       "2  10/14/2019  374.250000  378.700012  372.679993  373.179993  371.014801   \n",
       "3  10/15/2019  372.579987  373.529999  370.529999  370.959991  368.807678   \n",
       "4  10/16/2019  370.220001  377.420013  369.239990  372.429993  370.269165   \n",
       "\n",
       "    Volume       P/N  Daily_Change  Daily_%_Change  Future_Change  compound  \\\n",
       "0  2723700  Positive     -3.959991       -1.056110       3.920013 -0.126158   \n",
       "1  3935400  Positive      3.920013        1.056607      -1.740020  0.200773   \n",
       "2  2124500  Positive     -1.740020       -0.464104      -2.220002  0.048056   \n",
       "3  2836600  Positive     -2.220002       -0.594888       1.470002  0.001340   \n",
       "4  3657100  Positive      1.470002        0.396270      -3.369995  0.097252   \n",
       "\n",
       "        neg       neu       pos  \n",
       "0  0.106833  0.799542  0.093708  \n",
       "1  0.080096  0.742519  0.177327  \n",
       "2  0.066882  0.822324  0.110794  \n",
       "3  0.100667  0.741000  0.158400  \n",
       "4  0.115600  0.696520  0.187960  "
      ]
     },
     "execution_count": 17,
     "metadata": {},
     "output_type": "execute_result"
    }
   ],
   "source": [
    "BA = BA.merge(Tweets,how = 'inner', on = 'Date')\n",
    "BA.head()"
   ]
  },
  {
   "cell_type": "code",
   "execution_count": 18,
   "metadata": {},
   "outputs": [
    {
     "data": {
      "text/html": [
       "<div>\n",
       "<style scoped>\n",
       "    .dataframe tbody tr th:only-of-type {\n",
       "        vertical-align: middle;\n",
       "    }\n",
       "\n",
       "    .dataframe tbody tr th {\n",
       "        vertical-align: top;\n",
       "    }\n",
       "\n",
       "    .dataframe thead th {\n",
       "        text-align: right;\n",
       "    }\n",
       "</style>\n",
       "<table border=\"1\" class=\"dataframe\">\n",
       "  <thead>\n",
       "    <tr style=\"text-align: right;\">\n",
       "      <th></th>\n",
       "      <th>Date</th>\n",
       "      <th>Open</th>\n",
       "      <th>High</th>\n",
       "      <th>Low</th>\n",
       "      <th>Close</th>\n",
       "      <th>Adj Close</th>\n",
       "      <th>Volume</th>\n",
       "      <th>P/N</th>\n",
       "      <th>Daily_Change</th>\n",
       "      <th>Daily_%_Change</th>\n",
       "      <th>Future_Change</th>\n",
       "      <th>compound</th>\n",
       "      <th>neg</th>\n",
       "      <th>neu</th>\n",
       "      <th>pos</th>\n",
       "    </tr>\n",
       "  </thead>\n",
       "  <tbody>\n",
       "    <tr>\n",
       "      <td>0</td>\n",
       "      <td>01/02/2019</td>\n",
       "      <td>60.759998</td>\n",
       "      <td>62.250000</td>\n",
       "      <td>60.020000</td>\n",
       "      <td>61.950001</td>\n",
       "      <td>61.114838</td>\n",
       "      <td>5012900</td>\n",
       "      <td>Positive</td>\n",
       "      <td>NaN</td>\n",
       "      <td>NaN</td>\n",
       "      <td>-0.970001</td>\n",
       "      <td>0.332267</td>\n",
       "      <td>0.053667</td>\n",
       "      <td>0.755333</td>\n",
       "      <td>0.191000</td>\n",
       "    </tr>\n",
       "    <tr>\n",
       "      <td>1</td>\n",
       "      <td>01/03/2019</td>\n",
       "      <td>61.360001</td>\n",
       "      <td>61.810001</td>\n",
       "      <td>60.360001</td>\n",
       "      <td>60.980000</td>\n",
       "      <td>60.157917</td>\n",
       "      <td>7842400</td>\n",
       "      <td>Negative</td>\n",
       "      <td>-0.970001</td>\n",
       "      <td>-1.565780</td>\n",
       "      <td>1.810001</td>\n",
       "      <td>0.307300</td>\n",
       "      <td>0.051000</td>\n",
       "      <td>0.788333</td>\n",
       "      <td>0.160778</td>\n",
       "    </tr>\n",
       "    <tr>\n",
       "      <td>2</td>\n",
       "      <td>01/04/2019</td>\n",
       "      <td>61.000000</td>\n",
       "      <td>62.830002</td>\n",
       "      <td>60.529999</td>\n",
       "      <td>62.790001</td>\n",
       "      <td>61.943512</td>\n",
       "      <td>6181200</td>\n",
       "      <td>Positive</td>\n",
       "      <td>1.810001</td>\n",
       "      <td>2.968188</td>\n",
       "      <td>-0.340000</td>\n",
       "      <td>0.431943</td>\n",
       "      <td>0.033571</td>\n",
       "      <td>0.783000</td>\n",
       "      <td>0.183429</td>\n",
       "    </tr>\n",
       "    <tr>\n",
       "      <td>3</td>\n",
       "      <td>01/07/2019</td>\n",
       "      <td>62.430000</td>\n",
       "      <td>63.070000</td>\n",
       "      <td>61.349998</td>\n",
       "      <td>62.450001</td>\n",
       "      <td>61.608097</td>\n",
       "      <td>6262300</td>\n",
       "      <td>Positive</td>\n",
       "      <td>-0.340000</td>\n",
       "      <td>-0.541487</td>\n",
       "      <td>0.899997</td>\n",
       "      <td>-0.290933</td>\n",
       "      <td>0.150833</td>\n",
       "      <td>0.731667</td>\n",
       "      <td>0.117500</td>\n",
       "    </tr>\n",
       "    <tr>\n",
       "      <td>4</td>\n",
       "      <td>01/08/2019</td>\n",
       "      <td>63.779999</td>\n",
       "      <td>64.180000</td>\n",
       "      <td>62.639999</td>\n",
       "      <td>63.349998</td>\n",
       "      <td>62.495960</td>\n",
       "      <td>5079300</td>\n",
       "      <td>Negative</td>\n",
       "      <td>0.899997</td>\n",
       "      <td>1.441148</td>\n",
       "      <td>0.630002</td>\n",
       "      <td>0.764440</td>\n",
       "      <td>0.054200</td>\n",
       "      <td>0.646600</td>\n",
       "      <td>0.299000</td>\n",
       "    </tr>\n",
       "  </tbody>\n",
       "</table>\n",
       "</div>"
      ],
      "text/plain": [
       "         Date       Open       High        Low      Close  Adj Close   Volume  \\\n",
       "0  01/02/2019  60.759998  62.250000  60.020000  61.950001  61.114838  5012900   \n",
       "1  01/03/2019  61.360001  61.810001  60.360001  60.980000  60.157917  7842400   \n",
       "2  01/04/2019  61.000000  62.830002  60.529999  62.790001  61.943512  6181200   \n",
       "3  01/07/2019  62.430000  63.070000  61.349998  62.450001  61.608097  6262300   \n",
       "4  01/08/2019  63.779999  64.180000  62.639999  63.349998  62.495960  5079300   \n",
       "\n",
       "         P/N  Daily_Change  Daily_%_Change  Future_Change  compound       neg  \\\n",
       "0   Positive           NaN             NaN      -0.970001  0.332267  0.053667   \n",
       "1  Negative      -0.970001       -1.565780       1.810001  0.307300  0.051000   \n",
       "2   Positive      1.810001        2.968188      -0.340000  0.431943  0.033571   \n",
       "3   Positive     -0.340000       -0.541487       0.899997 -0.290933  0.150833   \n",
       "4  Negative       0.899997        1.441148       0.630002  0.764440  0.054200   \n",
       "\n",
       "        neu       pos  \n",
       "0  0.755333  0.191000  \n",
       "1  0.788333  0.160778  \n",
       "2  0.783000  0.183429  \n",
       "3  0.731667  0.117500  \n",
       "4  0.646600  0.299000  "
      ]
     },
     "execution_count": 18,
     "metadata": {},
     "output_type": "execute_result"
    }
   ],
   "source": [
    "CSX = CSX.merge(Tweets,how = 'inner', on = 'Date')\n",
    "CSX.head()"
   ]
  },
  {
   "cell_type": "code",
   "execution_count": 19,
   "metadata": {},
   "outputs": [
    {
     "data": {
      "text/html": [
       "<div>\n",
       "<style scoped>\n",
       "    .dataframe tbody tr th:only-of-type {\n",
       "        vertical-align: middle;\n",
       "    }\n",
       "\n",
       "    .dataframe tbody tr th {\n",
       "        vertical-align: top;\n",
       "    }\n",
       "\n",
       "    .dataframe thead th {\n",
       "        text-align: right;\n",
       "    }\n",
       "</style>\n",
       "<table border=\"1\" class=\"dataframe\">\n",
       "  <thead>\n",
       "    <tr style=\"text-align: right;\">\n",
       "      <th></th>\n",
       "      <th>Date</th>\n",
       "      <th>Open</th>\n",
       "      <th>High</th>\n",
       "      <th>Low</th>\n",
       "      <th>Close</th>\n",
       "      <th>Adj Close</th>\n",
       "      <th>Volume</th>\n",
       "      <th>P/N</th>\n",
       "      <th>Daily_Change</th>\n",
       "      <th>Daily_%_Change</th>\n",
       "      <th>Future_Change</th>\n",
       "      <th>compound</th>\n",
       "      <th>neg</th>\n",
       "      <th>neu</th>\n",
       "      <th>pos</th>\n",
       "    </tr>\n",
       "  </thead>\n",
       "  <tbody>\n",
       "    <tr>\n",
       "      <td>0</td>\n",
       "      <td>01/02/2019</td>\n",
       "      <td>32.849998</td>\n",
       "      <td>33.810001</td>\n",
       "      <td>32.410000</td>\n",
       "      <td>33.639999</td>\n",
       "      <td>32.282429</td>\n",
       "      <td>7662300</td>\n",
       "      <td>Positive</td>\n",
       "      <td>NaN</td>\n",
       "      <td>NaN</td>\n",
       "      <td>-1.389999</td>\n",
       "      <td>0.332267</td>\n",
       "      <td>0.053667</td>\n",
       "      <td>0.755333</td>\n",
       "      <td>0.191000</td>\n",
       "    </tr>\n",
       "    <tr>\n",
       "      <td>1</td>\n",
       "      <td>01/03/2019</td>\n",
       "      <td>33.340000</td>\n",
       "      <td>33.680000</td>\n",
       "      <td>32.200001</td>\n",
       "      <td>32.250000</td>\n",
       "      <td>30.948524</td>\n",
       "      <td>11618300</td>\n",
       "      <td>Negative</td>\n",
       "      <td>-1.389999</td>\n",
       "      <td>-4.131983</td>\n",
       "      <td>1.080002</td>\n",
       "      <td>0.307300</td>\n",
       "      <td>0.051000</td>\n",
       "      <td>0.788333</td>\n",
       "      <td>0.160778</td>\n",
       "    </tr>\n",
       "    <tr>\n",
       "      <td>2</td>\n",
       "      <td>01/04/2019</td>\n",
       "      <td>32.799999</td>\n",
       "      <td>33.570000</td>\n",
       "      <td>32.430000</td>\n",
       "      <td>33.330002</td>\n",
       "      <td>31.984938</td>\n",
       "      <td>10784000</td>\n",
       "      <td>Positive</td>\n",
       "      <td>1.080002</td>\n",
       "      <td>3.348843</td>\n",
       "      <td>1.029999</td>\n",
       "      <td>0.431943</td>\n",
       "      <td>0.033571</td>\n",
       "      <td>0.783000</td>\n",
       "      <td>0.183429</td>\n",
       "    </tr>\n",
       "    <tr>\n",
       "      <td>3</td>\n",
       "      <td>01/07/2019</td>\n",
       "      <td>33.709999</td>\n",
       "      <td>34.970001</td>\n",
       "      <td>33.480000</td>\n",
       "      <td>34.360001</td>\n",
       "      <td>32.973373</td>\n",
       "      <td>10722300</td>\n",
       "      <td>Positive</td>\n",
       "      <td>1.029999</td>\n",
       "      <td>3.090306</td>\n",
       "      <td>0.450000</td>\n",
       "      <td>-0.290933</td>\n",
       "      <td>0.150833</td>\n",
       "      <td>0.731667</td>\n",
       "      <td>0.117500</td>\n",
       "    </tr>\n",
       "    <tr>\n",
       "      <td>4</td>\n",
       "      <td>01/08/2019</td>\n",
       "      <td>35.000000</td>\n",
       "      <td>35.680000</td>\n",
       "      <td>34.490002</td>\n",
       "      <td>34.810001</td>\n",
       "      <td>33.405216</td>\n",
       "      <td>10532900</td>\n",
       "      <td>Negative</td>\n",
       "      <td>0.450000</td>\n",
       "      <td>1.309662</td>\n",
       "      <td>0.369999</td>\n",
       "      <td>0.764440</td>\n",
       "      <td>0.054200</td>\n",
       "      <td>0.646600</td>\n",
       "      <td>0.299000</td>\n",
       "    </tr>\n",
       "  </tbody>\n",
       "</table>\n",
       "</div>"
      ],
      "text/plain": [
       "         Date       Open       High        Low      Close  Adj Close  \\\n",
       "0  01/02/2019  32.849998  33.810001  32.410000  33.639999  32.282429   \n",
       "1  01/03/2019  33.340000  33.680000  32.200001  32.250000  30.948524   \n",
       "2  01/04/2019  32.799999  33.570000  32.430000  33.330002  31.984938   \n",
       "3  01/07/2019  33.709999  34.970001  33.480000  34.360001  32.973373   \n",
       "4  01/08/2019  35.000000  35.680000  34.490002  34.810001  33.405216   \n",
       "\n",
       "     Volume        P/N  Daily_Change  Daily_%_Change  Future_Change  compound  \\\n",
       "0   7662300   Positive           NaN             NaN      -1.389999  0.332267   \n",
       "1  11618300  Negative      -1.389999       -4.131983       1.080002  0.307300   \n",
       "2  10784000   Positive      1.080002        3.348843       1.029999  0.431943   \n",
       "3  10722300   Positive      1.029999        3.090306       0.450000 -0.290933   \n",
       "4  10532900  Negative       0.450000        1.309662       0.369999  0.764440   \n",
       "\n",
       "        neg       neu       pos  \n",
       "0  0.053667  0.755333  0.191000  \n",
       "1  0.051000  0.788333  0.160778  \n",
       "2  0.033571  0.783000  0.183429  \n",
       "3  0.150833  0.731667  0.117500  \n",
       "4  0.054200  0.646600  0.299000  "
      ]
     },
     "execution_count": 19,
     "metadata": {},
     "output_type": "execute_result"
    }
   ],
   "source": [
    "GM = GM.merge(Tweets,how = 'inner', on = 'Date')\n",
    "GM.head()"
   ]
  },
  {
   "cell_type": "code",
   "execution_count": 20,
   "metadata": {},
   "outputs": [
    {
     "data": {
      "text/plain": [
       "(273, 15)"
      ]
     },
     "execution_count": 20,
     "metadata": {},
     "output_type": "execute_result"
    }
   ],
   "source": [
    "GM.shape"
   ]
  },
  {
   "cell_type": "code",
   "execution_count": 21,
   "metadata": {},
   "outputs": [
    {
     "data": {
      "text/plain": [
       "(273, 15)"
      ]
     },
     "execution_count": 21,
     "metadata": {},
     "output_type": "execute_result"
    }
   ],
   "source": [
    "CSX.shape"
   ]
  },
  {
   "cell_type": "code",
   "execution_count": 22,
   "metadata": {},
   "outputs": [
    {
     "data": {
      "text/plain": [
       "(44, 15)"
      ]
     },
     "execution_count": 22,
     "metadata": {},
     "output_type": "execute_result"
    }
   ],
   "source": [
    "BA.shape"
   ]
  },
  {
   "cell_type": "code",
   "execution_count": 23,
   "metadata": {},
   "outputs": [
    {
     "data": {
      "text/plain": [
       "(43, 15)"
      ]
     },
     "execution_count": 23,
     "metadata": {},
     "output_type": "execute_result"
    }
   ],
   "source": [
    "A1G.shape"
   ]
  },
  {
   "cell_type": "markdown",
   "metadata": {},
   "source": [
    "### SVM models per stock"
   ]
  },
  {
   "cell_type": "code",
   "execution_count": 25,
   "metadata": {},
   "outputs": [],
   "source": [
    "from sklearn.linear_model import LinearRegression\n",
    "from sklearn.metrics import mean_squared_error, r2_score"
   ]
  },
  {
   "cell_type": "markdown",
   "metadata": {},
   "source": [
    "A1G Testing"
   ]
  },
  {
   "cell_type": "code",
   "execution_count": 26,
   "metadata": {},
   "outputs": [
    {
     "name": "stdout",
     "output_type": "stream",
     "text": [
      "(43, 1) (43, 1)\n"
     ]
    }
   ],
   "source": [
    "A1G_X = A1G[\"compound\"].values.reshape(-1, 1)\n",
    "A1G_y = A1G[\"Close\"].values.reshape(-1, 1)\n",
    "print(A1G_X.shape,A1G_y.shape)"
   ]
  },
  {
   "cell_type": "code",
   "execution_count": 27,
   "metadata": {},
   "outputs": [
    {
     "data": {
      "text/plain": [
       "Text(0, 0.5, 'Close Price')"
      ]
     },
     "execution_count": 27,
     "metadata": {},
     "output_type": "execute_result"
    },
    {
     "data": {
      "image/png": "[encoded data removed]",
      "text/plain": [
       "<Figure size 432x288 with 1 Axes>"
      ]
     },
     "metadata": {
      "needs_background": "light"
     },
     "output_type": "display_data"
    }
   ],
   "source": [
    "plt.scatter(A1G_X,A1G_y)\n",
    "plt.xlabel(\"Tweet compound score\")\n",
    "plt.ylabel(\"Close Price\")"
   ]
  },
  {
   "cell_type": "code",
   "execution_count": 29,
   "metadata": {},
   "outputs": [
    {
     "data": {
      "text/plain": [
       "Text(0, 0.5, 'Adj Close Price')"
      ]
     },
     "execution_count": 29,
     "metadata": {},
     "output_type": "execute_result"
    },
    {
     "data": {
      "image/png": "[encoded data removed]",
      "text/plain": [
       "<Figure size 432x288 with 1 Axes>"
      ]
     },
     "metadata": {
      "needs_background": "light"
     },
     "output_type": "display_data"
    }
   ],
   "source": [
    "A1G_X = A1G[\"compound\"].values.reshape(-1, 1)\n",
    "A1G_y = A1G[\"Adj Close\"].values.reshape(-1, 1)\n",
    "plt.scatter(A1G_X,A1G_y)\n",
    "plt.xlabel(\"Tweet compound score\")\n",
    "plt.ylabel(\"Adj Close Price\")"
   ]
  },
  {
   "cell_type": "code",
   "execution_count": null,
   "metadata": {},
   "outputs": [],
   "source": []
  },
  {
   "cell_type": "code",
   "execution_count": null,
   "metadata": {},
   "outputs": [],
   "source": [
    "\n"
   ]
  },
  {
   "cell_type": "code",
   "execution_count": 30,
   "metadata": {},
   "outputs": [
    {
     "data": {
      "text/plain": [
       "Text(0, 0.5, 'Volume')"
      ]
     },
     "execution_count": 30,
     "metadata": {},
     "output_type": "execute_result"
    },
    {
     "data": {
      "image/png": "[encoded data removed]",
      "text/plain": [
       "<Figure size 432x288 with 1 Axes>"
      ]
     },
     "metadata": {
      "needs_background": "light"
     },
     "output_type": "display_data"
    }
   ],
   "source": [
    "A1G_X = A1G[\"compound\"].values.reshape(-1, 1)\n",
    "A1G_y = A1G[\"Volume\"].values.reshape(-1, 1)\n",
    "plt.scatter(A1G_X,A1G_y)\n",
    "plt.xlabel(\"Tweet compound score\")\n",
    "plt.ylabel(\"Volume\")"
   ]
  },
  {
   "cell_type": "code",
   "execution_count": 32,
   "metadata": {},
   "outputs": [
    {
     "data": {
      "text/plain": [
       "Text(0, 0.5, 'Daily_Change')"
      ]
     },
     "execution_count": 32,
     "metadata": {},
     "output_type": "execute_result"
    },
    {
     "data": {
      "image/png": "[encoded data removed]",
      "text/plain": [
       "<Figure size 432x288 with 1 Axes>"
      ]
     },
     "metadata": {
      "needs_background": "light"
     },
     "output_type": "display_data"
    }
   ],
   "source": [
    "A1G_X = A1G[\"compound\"].values.reshape(-1, 1)\n",
    "A1G_y = A1G[\"Daily_Change\"].values.reshape(-1, 1)\n",
    "plt.scatter(A1G_X,A1G_y)\n",
    "plt.xlabel(\"Tweet compound score\")\n",
    "plt.ylabel(\"Daily Change\")"
   ]
  },
  {
   "cell_type": "code",
   "execution_count": 33,
   "metadata": {},
   "outputs": [
    {
     "data": {
      "text/plain": [
       "Text(0, 0.5, 'Daily Percent Change')"
      ]
     },
     "execution_count": 33,
     "metadata": {},
     "output_type": "execute_result"
    },
    {
     "data": {
      "image/png": "[encoded data removed]",
      "text/plain": [
       "<Figure size 432x288 with 1 Axes>"
      ]
     },
     "metadata": {
      "needs_background": "light"
     },
     "output_type": "display_data"
    }
   ],
   "source": [
    "A1G_X = A1G[\"compound\"].values.reshape(-1, 1)\n",
    "A1G_y = A1G[\"Daily_%_Change\"].values.reshape(-1, 1)\n",
    "plt.scatter(A1G_X,A1G_y)\n",
    "plt.xlabel(\"Tweet compound score\")\n",
    "plt.ylabel(\"Daily Percent Change\")"
   ]
  },
  {
   "cell_type": "code",
   "execution_count": 34,
   "metadata": {},
   "outputs": [
    {
     "data": {
      "text/plain": [
       "Text(0, 0.5, 'Future Change')"
      ]
     },
     "execution_count": 34,
     "metadata": {},
     "output_type": "execute_result"
    },
    {
     "data": {
      "image/png": "[encoded data removed]",
      "text/plain": [
       "<Figure size 432x288 with 1 Axes>"
      ]
     },
     "metadata": {
      "needs_background": "light"
     },
     "output_type": "display_data"
    }
   ],
   "source": [
    "A1G_X = A1G[\"compound\"].values.reshape(-1, 1)\n",
    "A1G_y = A1G[\"Future_Change\"].values.reshape(-1, 1)\n",
    "plt.scatter(A1G_X,A1G_y)\n",
    "plt.xlabel(\"Tweet compound score\")\n",
    "plt.ylabel(\"Future Change\")"
   ]
  },
  {
   "cell_type": "code",
   "execution_count": 35,
   "metadata": {},
   "outputs": [
    {
     "data": {
      "text/plain": [
       "Text(0, 0.5, 'Close Price')"
      ]
     },
     "execution_count": 35,
     "metadata": {},
     "output_type": "execute_result"
    },
    {
     "data": {
      "image/png": "[encoded data removed]",
      "text/plain": [
       "<Figure size 432x288 with 1 Axes>"
      ]
     },
     "metadata": {
      "needs_background": "light"
     },
     "output_type": "display_data"
    }
   ],
   "source": [
    "A1G_X = A1G[\"neg\"].values.reshape(-1, 1)\n",
    "A1G_y = A1G[\"Close\"].values.reshape(-1, 1)\n",
    "plt.scatter(A1G_X,A1G_y)\n",
    "plt.xlabel(\"Tweet Negative score\")\n",
    "plt.ylabel(\"Close Price\")"
   ]
  },
  {
   "cell_type": "code",
   "execution_count": 36,
   "metadata": {},
   "outputs": [
    {
     "data": {
      "text/plain": [
       "Text(0, 0.5, 'Adj Close Price')"
      ]
     },
     "execution_count": 36,
     "metadata": {},
     "output_type": "execute_result"
    },
    {
     "data": {
      "image/png": "[encoded data removed]",
      "text/plain": [
       "<Figure size 432x288 with 1 Axes>"
      ]
     },
     "metadata": {
      "needs_background": "light"
     },
     "output_type": "display_data"
    }
   ],
   "source": [
    "A1G_X = A1G[\"neg\"].values.reshape(-1, 1)\n",
    "A1G_y = A1G[\"Adj Close\"].values.reshape(-1, 1)\n",
    "plt.scatter(A1G_X,A1G_y)\n",
    "plt.xlabel(\"Tweet Negative score\")\n",
    "plt.ylabel(\"Adj Close Price\")"
   ]
  },
  {
   "cell_type": "code",
   "execution_count": 37,
   "metadata": {},
   "outputs": [
    {
     "data": {
      "text/plain": [
       "Text(0, 0.5, 'Volume')"
      ]
     },
     "execution_count": 37,
     "metadata": {},
     "output_type": "execute_result"
    },
    {
     "data": {
      "image/png": "[encoded data removed]",
      "text/plain": [
       "<Figure size 432x288 with 1 Axes>"
      ]
     },
     "metadata": {
      "needs_background": "light"
     },
     "output_type": "display_data"
    }
   ],
   "source": [
    "A1G_X = A1G[\"neg\"].values.reshape(-1, 1)\n",
    "A1G_y = A1G[\"Volume\"].values.reshape(-1, 1)\n",
    "plt.scatter(A1G_X,A1G_y)\n",
    "plt.xlabel(\"Tweet Negative score\")\n",
    "plt.ylabel(\"Volume\")"
   ]
  },
  {
   "cell_type": "code",
   "execution_count": 39,
   "metadata": {},
   "outputs": [
    {
     "data": {
      "text/plain": [
       "Text(0, 0.5, 'Positive or Negative change')"
      ]
     },
     "execution_count": 39,
     "metadata": {},
     "output_type": "execute_result"
    },
    {
     "data": {
      "image/png": "[encoded data removed]",
      "text/plain": [
       "<Figure size 432x288 with 1 Axes>"
      ]
     },
     "metadata": {
      "needs_background": "light"
     },
     "output_type": "display_data"
    }
   ],
   "source": [
    "A1G_X = A1G[\"neg\"].values.reshape(-1, 1)\n",
    "A1G_y = A1G[\"Daily_Change\"].values.reshape(-1, 1)\n",
    "plt.scatter(A1G_X,A1G_y)\n",
    "plt.xlabel(\"Tweet Negative score\")\n",
    "plt.ylabel(\"Daily Change\")"
   ]
  },
  {
   "cell_type": "code",
   "execution_count": 41,
   "metadata": {},
   "outputs": [
    {
     "data": {
      "text/plain": [
       "Text(0, 0.5, 'Daily Percent Price')"
      ]
     },
     "execution_count": 41,
     "metadata": {},
     "output_type": "execute_result"
    },
    {
     "data": {
      "image/png": "[encoded data removed]",
      "text/plain": [
       "<Figure size 432x288 with 1 Axes>"
      ]
     },
     "metadata": {
      "needs_background": "light"
     },
     "output_type": "display_data"
    }
   ],
   "source": [
    "A1G_X = A1G[\"neg\"].values.reshape(-1, 1)\n",
    "A1G_y = A1G[\"Daily_%_Change\"].values.reshape(-1, 1)\n",
    "plt.scatter(A1G_X,A1G_y)\n",
    "plt.xlabel(\"Tweet Negative score\")\n",
    "plt.ylabel(\"Daily Percent Price\")"
   ]
  },
  {
   "cell_type": "code",
   "execution_count": 42,
   "metadata": {},
   "outputs": [
    {
     "data": {
      "text/plain": [
       "Text(0, 0.5, 'Future Change')"
      ]
     },
     "execution_count": 42,
     "metadata": {},
     "output_type": "execute_result"
    },
    {
     "data": {
      "image/png": "[encoded data removed]",
      "text/plain": [
       "<Figure size 432x288 with 1 Axes>"
      ]
     },
     "metadata": {
      "needs_background": "light"
     },
     "output_type": "display_data"
    }
   ],
   "source": [
    "A1G_X = A1G[\"neg\"].values.reshape(-1, 1)\n",
    "A1G_y = A1G[\"Future_Change\"].values.reshape(-1, 1)\n",
    "plt.scatter(A1G_X,A1G_y)\n",
    "plt.xlabel(\"Tweet Negative score\")\n",
    "plt.ylabel(\"Future Change\")"
   ]
  },
  {
   "cell_type": "code",
   "execution_count": null,
   "metadata": {},
   "outputs": [],
   "source": []
  },
  {
   "cell_type": "code",
   "execution_count": null,
   "metadata": {},
   "outputs": [],
   "source": []
  }
 ],
 "metadata": {
  "kernelspec": {
   "display_name": "Python 3",
   "language": "python",
   "name": "python3"
  },
  "language_info": {
   "codemirror_mode": {
    "name": "ipython",
    "version": 3
   },
   "file_extension": ".py",
   "mimetype": "text/x-python",
   "name": "python",
   "nbconvert_exporter": "python",
   "pygments_lexer": "ipython3",
   "version": "3.7.3"
  }
 },
 "nbformat": 4,
 "nbformat_minor": 2
}
