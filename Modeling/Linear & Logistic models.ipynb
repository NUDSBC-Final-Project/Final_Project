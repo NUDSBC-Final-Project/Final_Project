{
 "cells": [
  {
   "cell_type": "code",
   "execution_count": 1,
   "metadata": {},
   "outputs": [],
   "source": [
    "%matplotlib inline\n",
    "import warnings\n",
    "warnings.simplefilter('ignore')\n",
    "import numpy as np\n",
    "import matplotlib.pyplot as plt\n",
    "import pandas as pd\n",
    "from sklearn.model_selection import train_test_split as split\n",
    "from sklearn.linear_model import LinearRegression\n",
    "from sklearn.metrics import mean_squared_error, r2_score"
   ]
  },
  {
   "cell_type": "markdown",
   "metadata": {},
   "source": [
    "# ETL"
   ]
  },
  {
   "cell_type": "markdown",
   "metadata": {},
   "source": [
    "### Importing CSVs"
   ]
  },
  {
   "cell_type": "code",
   "execution_count": 2,
   "metadata": {},
   "outputs": [],
   "source": [
    "#American Airlines Group\n",
    "A1G = pd.read_csv(\"../CSVs/A1G.F.csv\")"
   ]
  },
  {
   "cell_type": "code",
   "execution_count": 3,
   "metadata": {},
   "outputs": [],
   "source": [
    "#Boeing \n",
    "BA = pd.read_csv(\"../CSVs/BA.csv\")"
   ]
  },
  {
   "cell_type": "code",
   "execution_count": 4,
   "metadata": {},
   "outputs": [],
   "source": [
    "#CSX Rail\n",
    "CSX = pd.read_csv(\"../CSVs/CSX.csv\")"
   ]
  },
  {
   "cell_type": "code",
   "execution_count": 5,
   "metadata": {},
   "outputs": [],
   "source": [
    "#General Motors\n",
    "GM = pd.read_csv(\"../CSVs/GM.csv\")"
   ]
  },
  {
   "cell_type": "code",
   "execution_count": 6,
   "metadata": {},
   "outputs": [],
   "source": [
    "#Cleaned and Natual language sentiment evaluated tweets\n",
    "Tweets = pd.read_csv(\"../TweetSentiment.csv\")"
   ]
  },
  {
   "cell_type": "code",
   "execution_count": 7,
   "metadata": {},
   "outputs": [
    {
     "name": "stdout",
     "output_type": "stream",
     "text": [
      "A1G:\n",
      "         Date       Open       High        Low      Close  Adj Close  Volume\n",
      "0  2018-01-02  43.400002  43.400002  43.000000  43.400002  42.144642   420.0\n",
      "1  2018-01-03  43.799999  43.799999  43.400002  43.400002  42.144642   125.0\n",
      "2  2018-01-04  43.400002  43.799999  43.400002  43.400002  42.144642    72.0\n",
      "3  2018-01-05  43.400002  44.000000  43.400002  43.599998  42.338856    60.0\n",
      "4  2018-01-08  43.799999  43.799999  43.599998  43.599998  42.338856     0.0\n",
      "(502, 7)\n"
     ]
    }
   ],
   "source": [
    "print(f'A1G:')\n",
    "print(A1G.head())\n",
    "A1G = A1G.dropna()\n",
    "print(A1G.shape)"
   ]
  },
  {
   "cell_type": "code",
   "execution_count": 8,
   "metadata": {},
   "outputs": [
    {
     "name": "stdout",
     "output_type": "stream",
     "text": [
      "BA:\n",
      "         Date        Open        High         Low       Close   Adj Close  \\\n",
      "0  2018-01-02  295.750000  296.989990  295.399994  296.839996  284.569489   \n",
      "1  2018-01-03  295.940002  298.500000  295.470001  297.799988  285.489807   \n",
      "2  2018-01-04  297.940002  298.420013  295.470001  296.670013  284.406555   \n",
      "3  2018-01-05  296.769989  308.890015  296.720001  308.839996  296.073425   \n",
      "4  2018-01-08  308.660004  310.859985  305.750000  310.149994  297.329315   \n",
      "\n",
      "    Volume  \n",
      "0  2978900  \n",
      "1  3211200  \n",
      "2  4171700  \n",
      "3  6177700  \n",
      "4  4124900  \n",
      "(502, 7)\n"
     ]
    }
   ],
   "source": [
    "print(f'BA:')\n",
    "print(BA.head())\n",
    "BA = BA.dropna()\n",
    "print(BA.shape)"
   ]
  },
  {
   "cell_type": "code",
   "execution_count": 9,
   "metadata": {},
   "outputs": [
    {
     "name": "stdout",
     "output_type": "stream",
     "text": [
      "CSX:\n",
      "         Date       Open       High        Low      Close  Adj Close   Volume\n",
      "0  2018-01-02  55.630001  56.630001  55.020000  56.340000  54.840424  5881300\n",
      "1  2018-01-03  56.160000  57.250000  56.060001  57.049999  55.531528  7735800\n",
      "2  2018-01-04  57.349998  57.959999  56.639999  56.779999  55.268707  5840300\n",
      "3  2018-01-05  57.580002  57.950001  56.919998  57.720001  56.183697  6308800\n",
      "4  2018-01-08  57.340000  58.970001  57.340000  58.740002  57.176540  6224700\n",
      "(502, 7)\n"
     ]
    }
   ],
   "source": [
    "print(f'CSX:')\n",
    "print(CSX.head())\n",
    "CSX = CSX.dropna()\n",
    "print(CSX.shape)"
   ]
  },
  {
   "cell_type": "code",
   "execution_count": 10,
   "metadata": {},
   "outputs": [
    {
     "name": "stdout",
     "output_type": "stream",
     "text": [
      "GM\n",
      "         Date       Open       High        Low      Close  Adj Close    Volume\n",
      "0  2018-01-02  41.240002  41.869999  41.150002  41.799999  38.536655   6934600\n",
      "1  2018-01-03  42.209999  42.950001  42.200001  42.820000  39.477020  14591600\n",
      "2  2018-01-04  43.090000  44.250000  43.009998  44.139999  40.693970  17298700\n",
      "3  2018-01-05  44.500000  44.639999  43.959999  44.009998  40.574112   9643300\n",
      "4  2018-01-08  44.040001  44.590000  43.520000  44.220001  40.767723  13099600\n",
      "(502, 7)\n"
     ]
    }
   ],
   "source": [
    "print(f'GM')\n",
    "print(GM.head())\n",
    "GM = GM.dropna()\n",
    "print(GM.shape)"
   ]
  },
  {
   "cell_type": "code",
   "execution_count": 11,
   "metadata": {},
   "outputs": [
    {
     "name": "stdout",
     "output_type": "stream",
     "text": [
      "Tweets:\n",
      "    tweetdate  compound       neg       neu       pos\n",
      "0  2018-01-01  0.271533  0.116333  0.681667  0.201667\n",
      "1  2018-01-02  0.567400  0.080154  0.709692  0.210231\n",
      "2  2018-01-03  0.113950  0.094750  0.782750  0.122500\n",
      "3  2018-01-04 -0.029990  0.113300  0.779300  0.107300\n",
      "4  2018-01-05 -0.083683  0.072833  0.851667  0.075833\n"
     ]
    }
   ],
   "source": [
    "print(\"Tweets:\")\n",
    "print(Tweets.head())"
   ]
  },
  {
   "cell_type": "markdown",
   "metadata": {},
   "source": [
    "### Transforming DataFrames"
   ]
  },
  {
   "cell_type": "code",
   "execution_count": 12,
   "metadata": {},
   "outputs": [],
   "source": [
    "#Adding New Columns for A1G, BA, CSX, GM\n",
    "\n",
    "A1G[\"P/N\"] = np.where(A1G.eval(\"Open < Close\"), \"Positive\", \"Negative \")\n",
    "A1G['Daily_Change'] = A1G.Close.diff()\n",
    "A1G['Daily_%_Change'] = A1G.Close.pct_change() * 100\n",
    "A1G['Future_Change'] = A1G.Close.diff(periods=-1) * -1\n",
    "\n",
    "\n",
    "BA[\"P/N\"] = np.where(BA.eval(\"Open < Close\"), \"Positive\", \"Negative \")\n",
    "BA['Daily_Change'] = BA.Close.diff()\n",
    "BA['Daily_%_Change'] = BA.Close.pct_change() * 100\n",
    "BA['Future_Change'] = BA.Close.diff(periods=-1) * -1\n",
    "\n",
    "\n",
    "CSX[\"P/N\"] = np.where(CSX.eval(\"Open < Close\"), \"Positive\", \"Negative \")\n",
    "CSX['Daily_Change'] = CSX.Close.diff()\n",
    "CSX['Daily_%_Change'] = CSX.Close.pct_change() * 100\n",
    "CSX['Future_Change'] = CSX.Close.diff(periods=-1) * -1\n",
    "\n",
    "\n",
    "\n",
    "GM[\"P/N\"] = np.where(GM.eval(\"Open < Close\"), \"Positive\", \"Negative \")\n",
    "GM['Daily_Change'] = GM.Close.diff()\n",
    "GM['Daily_%_Change'] = GM.Close.pct_change() * 100\n",
    "GM['Future_Change'] = GM.Close.diff(periods=-1) * -1\n",
    "\n",
    "#reformatting date columns\n",
    "A1G['Date'] = pd.to_datetime(A1G['Date']).dt.strftime('%m/%d/%Y')\n",
    "BA['Date'] = pd.to_datetime(BA['Date']).dt.strftime('%m/%d/%Y')\n",
    "CSX['Date'] = pd.to_datetime(CSX['Date']).dt.strftime('%m/%d/%Y')\n",
    "GM['Date'] = pd.to_datetime(GM['Date']).dt.strftime('%m/%d/%Y')\n",
    "Tweets['tweetdate'] = pd.to_datetime(Tweets['tweetdate']).dt.strftime('%m/%d/%Y')\n",
    "Tweets.rename(columns = {'tweetdate':'Date'}, inplace = True)"
   ]
  },
  {
   "cell_type": "code",
   "execution_count": 13,
   "metadata": {},
   "outputs": [
    {
     "name": "stdout",
     "output_type": "stream",
     "text": [
      "A1G:\n"
     ]
    },
    {
     "data": {
      "text/html": [
       "<div>\n",
       "<style scoped>\n",
       "    .dataframe tbody tr th:only-of-type {\n",
       "        vertical-align: middle;\n",
       "    }\n",
       "\n",
       "    .dataframe tbody tr th {\n",
       "        vertical-align: top;\n",
       "    }\n",
       "\n",
       "    .dataframe thead th {\n",
       "        text-align: right;\n",
       "    }\n",
       "</style>\n",
       "<table border=\"1\" class=\"dataframe\">\n",
       "  <thead>\n",
       "    <tr style=\"text-align: right;\">\n",
       "      <th></th>\n",
       "      <th>Date</th>\n",
       "      <th>Open</th>\n",
       "      <th>High</th>\n",
       "      <th>Low</th>\n",
       "      <th>Close</th>\n",
       "      <th>Adj Close</th>\n",
       "      <th>Volume</th>\n",
       "      <th>P/N</th>\n",
       "      <th>Daily_Change</th>\n",
       "      <th>Daily_%_Change</th>\n",
       "      <th>Future_Change</th>\n",
       "    </tr>\n",
       "  </thead>\n",
       "  <tbody>\n",
       "    <tr>\n",
       "      <td>0</td>\n",
       "      <td>01/02/2018</td>\n",
       "      <td>43.400002</td>\n",
       "      <td>43.400002</td>\n",
       "      <td>43.000000</td>\n",
       "      <td>43.400002</td>\n",
       "      <td>42.144642</td>\n",
       "      <td>420.0</td>\n",
       "      <td>Negative</td>\n",
       "      <td>NaN</td>\n",
       "      <td>NaN</td>\n",
       "      <td>-0.000000</td>\n",
       "    </tr>\n",
       "    <tr>\n",
       "      <td>1</td>\n",
       "      <td>01/03/2018</td>\n",
       "      <td>43.799999</td>\n",
       "      <td>43.799999</td>\n",
       "      <td>43.400002</td>\n",
       "      <td>43.400002</td>\n",
       "      <td>42.144642</td>\n",
       "      <td>125.0</td>\n",
       "      <td>Negative</td>\n",
       "      <td>0.000000</td>\n",
       "      <td>0.00000</td>\n",
       "      <td>-0.000000</td>\n",
       "    </tr>\n",
       "    <tr>\n",
       "      <td>2</td>\n",
       "      <td>01/04/2018</td>\n",
       "      <td>43.400002</td>\n",
       "      <td>43.799999</td>\n",
       "      <td>43.400002</td>\n",
       "      <td>43.400002</td>\n",
       "      <td>42.144642</td>\n",
       "      <td>72.0</td>\n",
       "      <td>Negative</td>\n",
       "      <td>0.000000</td>\n",
       "      <td>0.00000</td>\n",
       "      <td>0.199996</td>\n",
       "    </tr>\n",
       "    <tr>\n",
       "      <td>3</td>\n",
       "      <td>01/05/2018</td>\n",
       "      <td>43.400002</td>\n",
       "      <td>44.000000</td>\n",
       "      <td>43.400002</td>\n",
       "      <td>43.599998</td>\n",
       "      <td>42.338856</td>\n",
       "      <td>60.0</td>\n",
       "      <td>Positive</td>\n",
       "      <td>0.199996</td>\n",
       "      <td>0.46082</td>\n",
       "      <td>-0.000000</td>\n",
       "    </tr>\n",
       "    <tr>\n",
       "      <td>4</td>\n",
       "      <td>01/08/2018</td>\n",
       "      <td>43.799999</td>\n",
       "      <td>43.799999</td>\n",
       "      <td>43.599998</td>\n",
       "      <td>43.599998</td>\n",
       "      <td>42.338856</td>\n",
       "      <td>0.0</td>\n",
       "      <td>Negative</td>\n",
       "      <td>0.000000</td>\n",
       "      <td>0.00000</td>\n",
       "      <td>0.600003</td>\n",
       "    </tr>\n",
       "  </tbody>\n",
       "</table>\n",
       "</div>"
      ],
      "text/plain": [
       "         Date       Open       High        Low      Close  Adj Close  Volume  \\\n",
       "0  01/02/2018  43.400002  43.400002  43.000000  43.400002  42.144642   420.0   \n",
       "1  01/03/2018  43.799999  43.799999  43.400002  43.400002  42.144642   125.0   \n",
       "2  01/04/2018  43.400002  43.799999  43.400002  43.400002  42.144642    72.0   \n",
       "3  01/05/2018  43.400002  44.000000  43.400002  43.599998  42.338856    60.0   \n",
       "4  01/08/2018  43.799999  43.799999  43.599998  43.599998  42.338856     0.0   \n",
       "\n",
       "         P/N  Daily_Change  Daily_%_Change  Future_Change  \n",
       "0  Negative            NaN             NaN      -0.000000  \n",
       "1  Negative       0.000000         0.00000      -0.000000  \n",
       "2  Negative       0.000000         0.00000       0.199996  \n",
       "3   Positive      0.199996         0.46082      -0.000000  \n",
       "4  Negative       0.000000         0.00000       0.600003  "
      ]
     },
     "execution_count": 13,
     "metadata": {},
     "output_type": "execute_result"
    }
   ],
   "source": [
    "print('A1G:')\n",
    "A1G.head()"
   ]
  },
  {
   "cell_type": "code",
   "execution_count": 14,
   "metadata": {},
   "outputs": [
    {
     "name": "stdout",
     "output_type": "stream",
     "text": [
      "BA:\n"
     ]
    },
    {
     "data": {
      "text/html": [
       "<div>\n",
       "<style scoped>\n",
       "    .dataframe tbody tr th:only-of-type {\n",
       "        vertical-align: middle;\n",
       "    }\n",
       "\n",
       "    .dataframe tbody tr th {\n",
       "        vertical-align: top;\n",
       "    }\n",
       "\n",
       "    .dataframe thead th {\n",
       "        text-align: right;\n",
       "    }\n",
       "</style>\n",
       "<table border=\"1\" class=\"dataframe\">\n",
       "  <thead>\n",
       "    <tr style=\"text-align: right;\">\n",
       "      <th></th>\n",
       "      <th>Date</th>\n",
       "      <th>Open</th>\n",
       "      <th>High</th>\n",
       "      <th>Low</th>\n",
       "      <th>Close</th>\n",
       "      <th>Adj Close</th>\n",
       "      <th>Volume</th>\n",
       "      <th>P/N</th>\n",
       "      <th>Daily_Change</th>\n",
       "      <th>Daily_%_Change</th>\n",
       "      <th>Future_Change</th>\n",
       "    </tr>\n",
       "  </thead>\n",
       "  <tbody>\n",
       "    <tr>\n",
       "      <td>0</td>\n",
       "      <td>01/02/2018</td>\n",
       "      <td>295.750000</td>\n",
       "      <td>296.989990</td>\n",
       "      <td>295.399994</td>\n",
       "      <td>296.839996</td>\n",
       "      <td>284.569489</td>\n",
       "      <td>2978900</td>\n",
       "      <td>Positive</td>\n",
       "      <td>NaN</td>\n",
       "      <td>NaN</td>\n",
       "      <td>0.959992</td>\n",
       "    </tr>\n",
       "    <tr>\n",
       "      <td>1</td>\n",
       "      <td>01/03/2018</td>\n",
       "      <td>295.940002</td>\n",
       "      <td>298.500000</td>\n",
       "      <td>295.470001</td>\n",
       "      <td>297.799988</td>\n",
       "      <td>285.489807</td>\n",
       "      <td>3211200</td>\n",
       "      <td>Positive</td>\n",
       "      <td>0.959992</td>\n",
       "      <td>0.323404</td>\n",
       "      <td>-1.129975</td>\n",
       "    </tr>\n",
       "    <tr>\n",
       "      <td>2</td>\n",
       "      <td>01/04/2018</td>\n",
       "      <td>297.940002</td>\n",
       "      <td>298.420013</td>\n",
       "      <td>295.470001</td>\n",
       "      <td>296.670013</td>\n",
       "      <td>284.406555</td>\n",
       "      <td>4171700</td>\n",
       "      <td>Negative</td>\n",
       "      <td>-1.129975</td>\n",
       "      <td>-0.379441</td>\n",
       "      <td>12.169983</td>\n",
       "    </tr>\n",
       "    <tr>\n",
       "      <td>3</td>\n",
       "      <td>01/05/2018</td>\n",
       "      <td>296.769989</td>\n",
       "      <td>308.890015</td>\n",
       "      <td>296.720001</td>\n",
       "      <td>308.839996</td>\n",
       "      <td>296.073425</td>\n",
       "      <td>6177700</td>\n",
       "      <td>Positive</td>\n",
       "      <td>12.169983</td>\n",
       "      <td>4.102195</td>\n",
       "      <td>1.309998</td>\n",
       "    </tr>\n",
       "    <tr>\n",
       "      <td>4</td>\n",
       "      <td>01/08/2018</td>\n",
       "      <td>308.660004</td>\n",
       "      <td>310.859985</td>\n",
       "      <td>305.750000</td>\n",
       "      <td>310.149994</td>\n",
       "      <td>297.329315</td>\n",
       "      <td>4124900</td>\n",
       "      <td>Positive</td>\n",
       "      <td>1.309998</td>\n",
       "      <td>0.424167</td>\n",
       "      <td>8.279999</td>\n",
       "    </tr>\n",
       "  </tbody>\n",
       "</table>\n",
       "</div>"
      ],
      "text/plain": [
       "         Date        Open        High         Low       Close   Adj Close  \\\n",
       "0  01/02/2018  295.750000  296.989990  295.399994  296.839996  284.569489   \n",
       "1  01/03/2018  295.940002  298.500000  295.470001  297.799988  285.489807   \n",
       "2  01/04/2018  297.940002  298.420013  295.470001  296.670013  284.406555   \n",
       "3  01/05/2018  296.769989  308.890015  296.720001  308.839996  296.073425   \n",
       "4  01/08/2018  308.660004  310.859985  305.750000  310.149994  297.329315   \n",
       "\n",
       "    Volume        P/N  Daily_Change  Daily_%_Change  Future_Change  \n",
       "0  2978900   Positive           NaN             NaN       0.959992  \n",
       "1  3211200   Positive      0.959992        0.323404      -1.129975  \n",
       "2  4171700  Negative      -1.129975       -0.379441      12.169983  \n",
       "3  6177700   Positive     12.169983        4.102195       1.309998  \n",
       "4  4124900   Positive      1.309998        0.424167       8.279999  "
      ]
     },
     "execution_count": 14,
     "metadata": {},
     "output_type": "execute_result"
    }
   ],
   "source": [
    "print('BA:')\n",
    "BA.head()"
   ]
  },
  {
   "cell_type": "code",
   "execution_count": 15,
   "metadata": {},
   "outputs": [
    {
     "name": "stdout",
     "output_type": "stream",
     "text": [
      "CSX:\n"
     ]
    },
    {
     "data": {
      "text/html": [
       "<div>\n",
       "<style scoped>\n",
       "    .dataframe tbody tr th:only-of-type {\n",
       "        vertical-align: middle;\n",
       "    }\n",
       "\n",
       "    .dataframe tbody tr th {\n",
       "        vertical-align: top;\n",
       "    }\n",
       "\n",
       "    .dataframe thead th {\n",
       "        text-align: right;\n",
       "    }\n",
       "</style>\n",
       "<table border=\"1\" class=\"dataframe\">\n",
       "  <thead>\n",
       "    <tr style=\"text-align: right;\">\n",
       "      <th></th>\n",
       "      <th>Date</th>\n",
       "      <th>Open</th>\n",
       "      <th>High</th>\n",
       "      <th>Low</th>\n",
       "      <th>Close</th>\n",
       "      <th>Adj Close</th>\n",
       "      <th>Volume</th>\n",
       "      <th>P/N</th>\n",
       "      <th>Daily_Change</th>\n",
       "      <th>Daily_%_Change</th>\n",
       "      <th>Future_Change</th>\n",
       "    </tr>\n",
       "  </thead>\n",
       "  <tbody>\n",
       "    <tr>\n",
       "      <td>0</td>\n",
       "      <td>01/02/2018</td>\n",
       "      <td>55.630001</td>\n",
       "      <td>56.630001</td>\n",
       "      <td>55.020000</td>\n",
       "      <td>56.340000</td>\n",
       "      <td>54.840424</td>\n",
       "      <td>5881300</td>\n",
       "      <td>Positive</td>\n",
       "      <td>NaN</td>\n",
       "      <td>NaN</td>\n",
       "      <td>0.709999</td>\n",
       "    </tr>\n",
       "    <tr>\n",
       "      <td>1</td>\n",
       "      <td>01/03/2018</td>\n",
       "      <td>56.160000</td>\n",
       "      <td>57.250000</td>\n",
       "      <td>56.060001</td>\n",
       "      <td>57.049999</td>\n",
       "      <td>55.531528</td>\n",
       "      <td>7735800</td>\n",
       "      <td>Positive</td>\n",
       "      <td>0.709999</td>\n",
       "      <td>1.260204</td>\n",
       "      <td>-0.270000</td>\n",
       "    </tr>\n",
       "    <tr>\n",
       "      <td>2</td>\n",
       "      <td>01/04/2018</td>\n",
       "      <td>57.349998</td>\n",
       "      <td>57.959999</td>\n",
       "      <td>56.639999</td>\n",
       "      <td>56.779999</td>\n",
       "      <td>55.268707</td>\n",
       "      <td>5840300</td>\n",
       "      <td>Negative</td>\n",
       "      <td>-0.270000</td>\n",
       "      <td>-0.473269</td>\n",
       "      <td>0.940002</td>\n",
       "    </tr>\n",
       "    <tr>\n",
       "      <td>3</td>\n",
       "      <td>01/05/2018</td>\n",
       "      <td>57.580002</td>\n",
       "      <td>57.950001</td>\n",
       "      <td>56.919998</td>\n",
       "      <td>57.720001</td>\n",
       "      <td>56.183697</td>\n",
       "      <td>6308800</td>\n",
       "      <td>Positive</td>\n",
       "      <td>0.940002</td>\n",
       "      <td>1.655516</td>\n",
       "      <td>1.020001</td>\n",
       "    </tr>\n",
       "    <tr>\n",
       "      <td>4</td>\n",
       "      <td>01/08/2018</td>\n",
       "      <td>57.340000</td>\n",
       "      <td>58.970001</td>\n",
       "      <td>57.340000</td>\n",
       "      <td>58.740002</td>\n",
       "      <td>57.176540</td>\n",
       "      <td>6224700</td>\n",
       "      <td>Positive</td>\n",
       "      <td>1.020001</td>\n",
       "      <td>1.767153</td>\n",
       "      <td>0.519996</td>\n",
       "    </tr>\n",
       "  </tbody>\n",
       "</table>\n",
       "</div>"
      ],
      "text/plain": [
       "         Date       Open       High        Low      Close  Adj Close   Volume  \\\n",
       "0  01/02/2018  55.630001  56.630001  55.020000  56.340000  54.840424  5881300   \n",
       "1  01/03/2018  56.160000  57.250000  56.060001  57.049999  55.531528  7735800   \n",
       "2  01/04/2018  57.349998  57.959999  56.639999  56.779999  55.268707  5840300   \n",
       "3  01/05/2018  57.580002  57.950001  56.919998  57.720001  56.183697  6308800   \n",
       "4  01/08/2018  57.340000  58.970001  57.340000  58.740002  57.176540  6224700   \n",
       "\n",
       "         P/N  Daily_Change  Daily_%_Change  Future_Change  \n",
       "0   Positive           NaN             NaN       0.709999  \n",
       "1   Positive      0.709999        1.260204      -0.270000  \n",
       "2  Negative      -0.270000       -0.473269       0.940002  \n",
       "3   Positive      0.940002        1.655516       1.020001  \n",
       "4   Positive      1.020001        1.767153       0.519996  "
      ]
     },
     "execution_count": 15,
     "metadata": {},
     "output_type": "execute_result"
    }
   ],
   "source": [
    "print('CSX:')\n",
    "CSX.head()"
   ]
  },
  {
   "cell_type": "code",
   "execution_count": 16,
   "metadata": {},
   "outputs": [
    {
     "name": "stdout",
     "output_type": "stream",
     "text": [
      "GM:\n"
     ]
    },
    {
     "data": {
      "text/html": [
       "<div>\n",
       "<style scoped>\n",
       "    .dataframe tbody tr th:only-of-type {\n",
       "        vertical-align: middle;\n",
       "    }\n",
       "\n",
       "    .dataframe tbody tr th {\n",
       "        vertical-align: top;\n",
       "    }\n",
       "\n",
       "    .dataframe thead th {\n",
       "        text-align: right;\n",
       "    }\n",
       "</style>\n",
       "<table border=\"1\" class=\"dataframe\">\n",
       "  <thead>\n",
       "    <tr style=\"text-align: right;\">\n",
       "      <th></th>\n",
       "      <th>Date</th>\n",
       "      <th>Open</th>\n",
       "      <th>High</th>\n",
       "      <th>Low</th>\n",
       "      <th>Close</th>\n",
       "      <th>Adj Close</th>\n",
       "      <th>Volume</th>\n",
       "      <th>P/N</th>\n",
       "      <th>Daily_Change</th>\n",
       "      <th>Daily_%_Change</th>\n",
       "      <th>Future_Change</th>\n",
       "    </tr>\n",
       "  </thead>\n",
       "  <tbody>\n",
       "    <tr>\n",
       "      <td>0</td>\n",
       "      <td>01/02/2018</td>\n",
       "      <td>41.240002</td>\n",
       "      <td>41.869999</td>\n",
       "      <td>41.150002</td>\n",
       "      <td>41.799999</td>\n",
       "      <td>38.536655</td>\n",
       "      <td>6934600</td>\n",
       "      <td>Positive</td>\n",
       "      <td>NaN</td>\n",
       "      <td>NaN</td>\n",
       "      <td>1.020001</td>\n",
       "    </tr>\n",
       "    <tr>\n",
       "      <td>1</td>\n",
       "      <td>01/03/2018</td>\n",
       "      <td>42.209999</td>\n",
       "      <td>42.950001</td>\n",
       "      <td>42.200001</td>\n",
       "      <td>42.820000</td>\n",
       "      <td>39.477020</td>\n",
       "      <td>14591600</td>\n",
       "      <td>Positive</td>\n",
       "      <td>1.020001</td>\n",
       "      <td>2.440194</td>\n",
       "      <td>1.319999</td>\n",
       "    </tr>\n",
       "    <tr>\n",
       "      <td>2</td>\n",
       "      <td>01/04/2018</td>\n",
       "      <td>43.090000</td>\n",
       "      <td>44.250000</td>\n",
       "      <td>43.009998</td>\n",
       "      <td>44.139999</td>\n",
       "      <td>40.693970</td>\n",
       "      <td>17298700</td>\n",
       "      <td>Positive</td>\n",
       "      <td>1.319999</td>\n",
       "      <td>3.082669</td>\n",
       "      <td>-0.130001</td>\n",
       "    </tr>\n",
       "    <tr>\n",
       "      <td>3</td>\n",
       "      <td>01/05/2018</td>\n",
       "      <td>44.500000</td>\n",
       "      <td>44.639999</td>\n",
       "      <td>43.959999</td>\n",
       "      <td>44.009998</td>\n",
       "      <td>40.574112</td>\n",
       "      <td>9643300</td>\n",
       "      <td>Negative</td>\n",
       "      <td>-0.130001</td>\n",
       "      <td>-0.294520</td>\n",
       "      <td>0.210003</td>\n",
       "    </tr>\n",
       "    <tr>\n",
       "      <td>4</td>\n",
       "      <td>01/08/2018</td>\n",
       "      <td>44.040001</td>\n",
       "      <td>44.590000</td>\n",
       "      <td>43.520000</td>\n",
       "      <td>44.220001</td>\n",
       "      <td>40.767723</td>\n",
       "      <td>13099600</td>\n",
       "      <td>Positive</td>\n",
       "      <td>0.210003</td>\n",
       "      <td>0.477171</td>\n",
       "      <td>-0.170002</td>\n",
       "    </tr>\n",
       "  </tbody>\n",
       "</table>\n",
       "</div>"
      ],
      "text/plain": [
       "         Date       Open       High        Low      Close  Adj Close  \\\n",
       "0  01/02/2018  41.240002  41.869999  41.150002  41.799999  38.536655   \n",
       "1  01/03/2018  42.209999  42.950001  42.200001  42.820000  39.477020   \n",
       "2  01/04/2018  43.090000  44.250000  43.009998  44.139999  40.693970   \n",
       "3  01/05/2018  44.500000  44.639999  43.959999  44.009998  40.574112   \n",
       "4  01/08/2018  44.040001  44.590000  43.520000  44.220001  40.767723   \n",
       "\n",
       "     Volume        P/N  Daily_Change  Daily_%_Change  Future_Change  \n",
       "0   6934600   Positive           NaN             NaN       1.020001  \n",
       "1  14591600   Positive      1.020001        2.440194       1.319999  \n",
       "2  17298700   Positive      1.319999        3.082669      -0.130001  \n",
       "3   9643300  Negative      -0.130001       -0.294520       0.210003  \n",
       "4  13099600   Positive      0.210003        0.477171      -0.170002  "
      ]
     },
     "execution_count": 16,
     "metadata": {},
     "output_type": "execute_result"
    }
   ],
   "source": [
    "print('GM:')\n",
    "GM.head()"
   ]
  },
  {
   "cell_type": "code",
   "execution_count": 17,
   "metadata": {},
   "outputs": [
    {
     "name": "stdout",
     "output_type": "stream",
     "text": [
      "Tweets:\n"
     ]
    },
    {
     "data": {
      "text/html": [
       "<div>\n",
       "<style scoped>\n",
       "    .dataframe tbody tr th:only-of-type {\n",
       "        vertical-align: middle;\n",
       "    }\n",
       "\n",
       "    .dataframe tbody tr th {\n",
       "        vertical-align: top;\n",
       "    }\n",
       "\n",
       "    .dataframe thead th {\n",
       "        text-align: right;\n",
       "    }\n",
       "</style>\n",
       "<table border=\"1\" class=\"dataframe\">\n",
       "  <thead>\n",
       "    <tr style=\"text-align: right;\">\n",
       "      <th></th>\n",
       "      <th>Date</th>\n",
       "      <th>compound</th>\n",
       "      <th>neg</th>\n",
       "      <th>neu</th>\n",
       "      <th>pos</th>\n",
       "    </tr>\n",
       "  </thead>\n",
       "  <tbody>\n",
       "    <tr>\n",
       "      <td>0</td>\n",
       "      <td>01/01/2018</td>\n",
       "      <td>0.271533</td>\n",
       "      <td>0.116333</td>\n",
       "      <td>0.681667</td>\n",
       "      <td>0.201667</td>\n",
       "    </tr>\n",
       "    <tr>\n",
       "      <td>1</td>\n",
       "      <td>01/02/2018</td>\n",
       "      <td>0.567400</td>\n",
       "      <td>0.080154</td>\n",
       "      <td>0.709692</td>\n",
       "      <td>0.210231</td>\n",
       "    </tr>\n",
       "    <tr>\n",
       "      <td>2</td>\n",
       "      <td>01/03/2018</td>\n",
       "      <td>0.113950</td>\n",
       "      <td>0.094750</td>\n",
       "      <td>0.782750</td>\n",
       "      <td>0.122500</td>\n",
       "    </tr>\n",
       "    <tr>\n",
       "      <td>3</td>\n",
       "      <td>01/04/2018</td>\n",
       "      <td>-0.029990</td>\n",
       "      <td>0.113300</td>\n",
       "      <td>0.779300</td>\n",
       "      <td>0.107300</td>\n",
       "    </tr>\n",
       "    <tr>\n",
       "      <td>4</td>\n",
       "      <td>01/05/2018</td>\n",
       "      <td>-0.083683</td>\n",
       "      <td>0.072833</td>\n",
       "      <td>0.851667</td>\n",
       "      <td>0.075833</td>\n",
       "    </tr>\n",
       "  </tbody>\n",
       "</table>\n",
       "</div>"
      ],
      "text/plain": [
       "         Date  compound       neg       neu       pos\n",
       "0  01/01/2018  0.271533  0.116333  0.681667  0.201667\n",
       "1  01/02/2018  0.567400  0.080154  0.709692  0.210231\n",
       "2  01/03/2018  0.113950  0.094750  0.782750  0.122500\n",
       "3  01/04/2018 -0.029990  0.113300  0.779300  0.107300\n",
       "4  01/05/2018 -0.083683  0.072833  0.851667  0.075833"
      ]
     },
     "execution_count": 17,
     "metadata": {},
     "output_type": "execute_result"
    }
   ],
   "source": [
    "print('Tweets:')\n",
    "Tweets.head()"
   ]
  },
  {
   "cell_type": "markdown",
   "metadata": {},
   "source": [
    "### Merging Frames"
   ]
  },
  {
   "cell_type": "code",
   "execution_count": 18,
   "metadata": {},
   "outputs": [],
   "source": [
    "#Joining Tweets to Stock symbols\n",
    "A1G = A1G.merge(Tweets,how = 'inner', on = 'Date')\n",
    "BA = BA.merge(Tweets, how = 'inner', on = 'Date')\n",
    "CSX = CSX.merge(Tweets, how = 'inner', on = 'Date')\n",
    "GM = GM.merge(Tweets, how = 'inner', on = 'Date')"
   ]
  },
  {
   "cell_type": "code",
   "execution_count": 19,
   "metadata": {},
   "outputs": [
    {
     "data": {
      "text/html": [
       "<div>\n",
       "<style scoped>\n",
       "    .dataframe tbody tr th:only-of-type {\n",
       "        vertical-align: middle;\n",
       "    }\n",
       "\n",
       "    .dataframe tbody tr th {\n",
       "        vertical-align: top;\n",
       "    }\n",
       "\n",
       "    .dataframe thead th {\n",
       "        text-align: right;\n",
       "    }\n",
       "</style>\n",
       "<table border=\"1\" class=\"dataframe\">\n",
       "  <thead>\n",
       "    <tr style=\"text-align: right;\">\n",
       "      <th></th>\n",
       "      <th>Date</th>\n",
       "      <th>Open</th>\n",
       "      <th>High</th>\n",
       "      <th>Low</th>\n",
       "      <th>Close</th>\n",
       "      <th>Adj Close</th>\n",
       "      <th>Volume</th>\n",
       "      <th>P/N</th>\n",
       "      <th>Daily_Change</th>\n",
       "      <th>Daily_%_Change</th>\n",
       "      <th>Future_Change</th>\n",
       "      <th>compound</th>\n",
       "      <th>neg</th>\n",
       "      <th>neu</th>\n",
       "      <th>pos</th>\n",
       "    </tr>\n",
       "  </thead>\n",
       "  <tbody>\n",
       "    <tr>\n",
       "      <td>0</td>\n",
       "      <td>01/02/2018</td>\n",
       "      <td>43.400002</td>\n",
       "      <td>43.400002</td>\n",
       "      <td>43.000000</td>\n",
       "      <td>43.400002</td>\n",
       "      <td>42.144642</td>\n",
       "      <td>420.0</td>\n",
       "      <td>Negative</td>\n",
       "      <td>NaN</td>\n",
       "      <td>NaN</td>\n",
       "      <td>-0.000000</td>\n",
       "      <td>0.567400</td>\n",
       "      <td>0.080154</td>\n",
       "      <td>0.709692</td>\n",
       "      <td>0.210231</td>\n",
       "    </tr>\n",
       "    <tr>\n",
       "      <td>1</td>\n",
       "      <td>01/03/2018</td>\n",
       "      <td>43.799999</td>\n",
       "      <td>43.799999</td>\n",
       "      <td>43.400002</td>\n",
       "      <td>43.400002</td>\n",
       "      <td>42.144642</td>\n",
       "      <td>125.0</td>\n",
       "      <td>Negative</td>\n",
       "      <td>0.000000</td>\n",
       "      <td>0.00000</td>\n",
       "      <td>-0.000000</td>\n",
       "      <td>0.113950</td>\n",
       "      <td>0.094750</td>\n",
       "      <td>0.782750</td>\n",
       "      <td>0.122500</td>\n",
       "    </tr>\n",
       "    <tr>\n",
       "      <td>2</td>\n",
       "      <td>01/04/2018</td>\n",
       "      <td>43.400002</td>\n",
       "      <td>43.799999</td>\n",
       "      <td>43.400002</td>\n",
       "      <td>43.400002</td>\n",
       "      <td>42.144642</td>\n",
       "      <td>72.0</td>\n",
       "      <td>Negative</td>\n",
       "      <td>0.000000</td>\n",
       "      <td>0.00000</td>\n",
       "      <td>0.199996</td>\n",
       "      <td>-0.029990</td>\n",
       "      <td>0.113300</td>\n",
       "      <td>0.779300</td>\n",
       "      <td>0.107300</td>\n",
       "    </tr>\n",
       "    <tr>\n",
       "      <td>3</td>\n",
       "      <td>01/05/2018</td>\n",
       "      <td>43.400002</td>\n",
       "      <td>44.000000</td>\n",
       "      <td>43.400002</td>\n",
       "      <td>43.599998</td>\n",
       "      <td>42.338856</td>\n",
       "      <td>60.0</td>\n",
       "      <td>Positive</td>\n",
       "      <td>0.199996</td>\n",
       "      <td>0.46082</td>\n",
       "      <td>-0.000000</td>\n",
       "      <td>-0.083683</td>\n",
       "      <td>0.072833</td>\n",
       "      <td>0.851667</td>\n",
       "      <td>0.075833</td>\n",
       "    </tr>\n",
       "    <tr>\n",
       "      <td>4</td>\n",
       "      <td>01/08/2018</td>\n",
       "      <td>43.799999</td>\n",
       "      <td>43.799999</td>\n",
       "      <td>43.599998</td>\n",
       "      <td>43.599998</td>\n",
       "      <td>42.338856</td>\n",
       "      <td>0.0</td>\n",
       "      <td>Negative</td>\n",
       "      <td>0.000000</td>\n",
       "      <td>0.00000</td>\n",
       "      <td>0.600003</td>\n",
       "      <td>0.169057</td>\n",
       "      <td>0.062143</td>\n",
       "      <td>0.839000</td>\n",
       "      <td>0.099000</td>\n",
       "    </tr>\n",
       "  </tbody>\n",
       "</table>\n",
       "</div>"
      ],
      "text/plain": [
       "         Date       Open       High        Low      Close  Adj Close  Volume  \\\n",
       "0  01/02/2018  43.400002  43.400002  43.000000  43.400002  42.144642   420.0   \n",
       "1  01/03/2018  43.799999  43.799999  43.400002  43.400002  42.144642   125.0   \n",
       "2  01/04/2018  43.400002  43.799999  43.400002  43.400002  42.144642    72.0   \n",
       "3  01/05/2018  43.400002  44.000000  43.400002  43.599998  42.338856    60.0   \n",
       "4  01/08/2018  43.799999  43.799999  43.599998  43.599998  42.338856     0.0   \n",
       "\n",
       "         P/N  Daily_Change  Daily_%_Change  Future_Change  compound       neg  \\\n",
       "0  Negative            NaN             NaN      -0.000000  0.567400  0.080154   \n",
       "1  Negative       0.000000         0.00000      -0.000000  0.113950  0.094750   \n",
       "2  Negative       0.000000         0.00000       0.199996 -0.029990  0.113300   \n",
       "3   Positive      0.199996         0.46082      -0.000000 -0.083683  0.072833   \n",
       "4  Negative       0.000000         0.00000       0.600003  0.169057  0.062143   \n",
       "\n",
       "        neu       pos  \n",
       "0  0.709692  0.210231  \n",
       "1  0.782750  0.122500  \n",
       "2  0.779300  0.107300  \n",
       "3  0.851667  0.075833  \n",
       "4  0.839000  0.099000  "
      ]
     },
     "execution_count": 19,
     "metadata": {},
     "output_type": "execute_result"
    }
   ],
   "source": [
    "A1G.head()"
   ]
  },
  {
   "cell_type": "code",
   "execution_count": 20,
   "metadata": {},
   "outputs": [
    {
     "data": {
      "text/html": [
       "<div>\n",
       "<style scoped>\n",
       "    .dataframe tbody tr th:only-of-type {\n",
       "        vertical-align: middle;\n",
       "    }\n",
       "\n",
       "    .dataframe tbody tr th {\n",
       "        vertical-align: top;\n",
       "    }\n",
       "\n",
       "    .dataframe thead th {\n",
       "        text-align: right;\n",
       "    }\n",
       "</style>\n",
       "<table border=\"1\" class=\"dataframe\">\n",
       "  <thead>\n",
       "    <tr style=\"text-align: right;\">\n",
       "      <th></th>\n",
       "      <th>Date</th>\n",
       "      <th>Open</th>\n",
       "      <th>High</th>\n",
       "      <th>Low</th>\n",
       "      <th>Close</th>\n",
       "      <th>Adj Close</th>\n",
       "      <th>Volume</th>\n",
       "      <th>P/N</th>\n",
       "      <th>Daily_Change</th>\n",
       "      <th>Daily_%_Change</th>\n",
       "      <th>Future_Change</th>\n",
       "      <th>compound</th>\n",
       "      <th>neg</th>\n",
       "      <th>neu</th>\n",
       "      <th>pos</th>\n",
       "    </tr>\n",
       "  </thead>\n",
       "  <tbody>\n",
       "    <tr>\n",
       "      <td>0</td>\n",
       "      <td>01/02/2018</td>\n",
       "      <td>295.750000</td>\n",
       "      <td>296.989990</td>\n",
       "      <td>295.399994</td>\n",
       "      <td>296.839996</td>\n",
       "      <td>284.569489</td>\n",
       "      <td>2978900</td>\n",
       "      <td>Positive</td>\n",
       "      <td>NaN</td>\n",
       "      <td>NaN</td>\n",
       "      <td>0.959992</td>\n",
       "      <td>0.567400</td>\n",
       "      <td>0.080154</td>\n",
       "      <td>0.709692</td>\n",
       "      <td>0.210231</td>\n",
       "    </tr>\n",
       "    <tr>\n",
       "      <td>1</td>\n",
       "      <td>01/03/2018</td>\n",
       "      <td>295.940002</td>\n",
       "      <td>298.500000</td>\n",
       "      <td>295.470001</td>\n",
       "      <td>297.799988</td>\n",
       "      <td>285.489807</td>\n",
       "      <td>3211200</td>\n",
       "      <td>Positive</td>\n",
       "      <td>0.959992</td>\n",
       "      <td>0.323404</td>\n",
       "      <td>-1.129975</td>\n",
       "      <td>0.113950</td>\n",
       "      <td>0.094750</td>\n",
       "      <td>0.782750</td>\n",
       "      <td>0.122500</td>\n",
       "    </tr>\n",
       "    <tr>\n",
       "      <td>2</td>\n",
       "      <td>01/04/2018</td>\n",
       "      <td>297.940002</td>\n",
       "      <td>298.420013</td>\n",
       "      <td>295.470001</td>\n",
       "      <td>296.670013</td>\n",
       "      <td>284.406555</td>\n",
       "      <td>4171700</td>\n",
       "      <td>Negative</td>\n",
       "      <td>-1.129975</td>\n",
       "      <td>-0.379441</td>\n",
       "      <td>12.169983</td>\n",
       "      <td>-0.029990</td>\n",
       "      <td>0.113300</td>\n",
       "      <td>0.779300</td>\n",
       "      <td>0.107300</td>\n",
       "    </tr>\n",
       "    <tr>\n",
       "      <td>3</td>\n",
       "      <td>01/05/2018</td>\n",
       "      <td>296.769989</td>\n",
       "      <td>308.890015</td>\n",
       "      <td>296.720001</td>\n",
       "      <td>308.839996</td>\n",
       "      <td>296.073425</td>\n",
       "      <td>6177700</td>\n",
       "      <td>Positive</td>\n",
       "      <td>12.169983</td>\n",
       "      <td>4.102195</td>\n",
       "      <td>1.309998</td>\n",
       "      <td>-0.083683</td>\n",
       "      <td>0.072833</td>\n",
       "      <td>0.851667</td>\n",
       "      <td>0.075833</td>\n",
       "    </tr>\n",
       "    <tr>\n",
       "      <td>4</td>\n",
       "      <td>01/08/2018</td>\n",
       "      <td>308.660004</td>\n",
       "      <td>310.859985</td>\n",
       "      <td>305.750000</td>\n",
       "      <td>310.149994</td>\n",
       "      <td>297.329315</td>\n",
       "      <td>4124900</td>\n",
       "      <td>Positive</td>\n",
       "      <td>1.309998</td>\n",
       "      <td>0.424167</td>\n",
       "      <td>8.279999</td>\n",
       "      <td>0.169057</td>\n",
       "      <td>0.062143</td>\n",
       "      <td>0.839000</td>\n",
       "      <td>0.099000</td>\n",
       "    </tr>\n",
       "  </tbody>\n",
       "</table>\n",
       "</div>"
      ],
      "text/plain": [
       "         Date        Open        High         Low       Close   Adj Close  \\\n",
       "0  01/02/2018  295.750000  296.989990  295.399994  296.839996  284.569489   \n",
       "1  01/03/2018  295.940002  298.500000  295.470001  297.799988  285.489807   \n",
       "2  01/04/2018  297.940002  298.420013  295.470001  296.670013  284.406555   \n",
       "3  01/05/2018  296.769989  308.890015  296.720001  308.839996  296.073425   \n",
       "4  01/08/2018  308.660004  310.859985  305.750000  310.149994  297.329315   \n",
       "\n",
       "    Volume        P/N  Daily_Change  Daily_%_Change  Future_Change  compound  \\\n",
       "0  2978900   Positive           NaN             NaN       0.959992  0.567400   \n",
       "1  3211200   Positive      0.959992        0.323404      -1.129975  0.113950   \n",
       "2  4171700  Negative      -1.129975       -0.379441      12.169983 -0.029990   \n",
       "3  6177700   Positive     12.169983        4.102195       1.309998 -0.083683   \n",
       "4  4124900   Positive      1.309998        0.424167       8.279999  0.169057   \n",
       "\n",
       "        neg       neu       pos  \n",
       "0  0.080154  0.709692  0.210231  \n",
       "1  0.094750  0.782750  0.122500  \n",
       "2  0.113300  0.779300  0.107300  \n",
       "3  0.072833  0.851667  0.075833  \n",
       "4  0.062143  0.839000  0.099000  "
      ]
     },
     "execution_count": 20,
     "metadata": {},
     "output_type": "execute_result"
    }
   ],
   "source": [
    "BA.head()"
   ]
  },
  {
   "cell_type": "code",
   "execution_count": 21,
   "metadata": {},
   "outputs": [
    {
     "data": {
      "text/html": [
       "<div>\n",
       "<style scoped>\n",
       "    .dataframe tbody tr th:only-of-type {\n",
       "        vertical-align: middle;\n",
       "    }\n",
       "\n",
       "    .dataframe tbody tr th {\n",
       "        vertical-align: top;\n",
       "    }\n",
       "\n",
       "    .dataframe thead th {\n",
       "        text-align: right;\n",
       "    }\n",
       "</style>\n",
       "<table border=\"1\" class=\"dataframe\">\n",
       "  <thead>\n",
       "    <tr style=\"text-align: right;\">\n",
       "      <th></th>\n",
       "      <th>Date</th>\n",
       "      <th>Open</th>\n",
       "      <th>High</th>\n",
       "      <th>Low</th>\n",
       "      <th>Close</th>\n",
       "      <th>Adj Close</th>\n",
       "      <th>Volume</th>\n",
       "      <th>P/N</th>\n",
       "      <th>Daily_Change</th>\n",
       "      <th>Daily_%_Change</th>\n",
       "      <th>Future_Change</th>\n",
       "      <th>compound</th>\n",
       "      <th>neg</th>\n",
       "      <th>neu</th>\n",
       "      <th>pos</th>\n",
       "    </tr>\n",
       "  </thead>\n",
       "  <tbody>\n",
       "    <tr>\n",
       "      <td>0</td>\n",
       "      <td>01/02/2018</td>\n",
       "      <td>55.630001</td>\n",
       "      <td>56.630001</td>\n",
       "      <td>55.020000</td>\n",
       "      <td>56.340000</td>\n",
       "      <td>54.840424</td>\n",
       "      <td>5881300</td>\n",
       "      <td>Positive</td>\n",
       "      <td>NaN</td>\n",
       "      <td>NaN</td>\n",
       "      <td>0.709999</td>\n",
       "      <td>0.567400</td>\n",
       "      <td>0.080154</td>\n",
       "      <td>0.709692</td>\n",
       "      <td>0.210231</td>\n",
       "    </tr>\n",
       "    <tr>\n",
       "      <td>1</td>\n",
       "      <td>01/03/2018</td>\n",
       "      <td>56.160000</td>\n",
       "      <td>57.250000</td>\n",
       "      <td>56.060001</td>\n",
       "      <td>57.049999</td>\n",
       "      <td>55.531528</td>\n",
       "      <td>7735800</td>\n",
       "      <td>Positive</td>\n",
       "      <td>0.709999</td>\n",
       "      <td>1.260204</td>\n",
       "      <td>-0.270000</td>\n",
       "      <td>0.113950</td>\n",
       "      <td>0.094750</td>\n",
       "      <td>0.782750</td>\n",
       "      <td>0.122500</td>\n",
       "    </tr>\n",
       "    <tr>\n",
       "      <td>2</td>\n",
       "      <td>01/04/2018</td>\n",
       "      <td>57.349998</td>\n",
       "      <td>57.959999</td>\n",
       "      <td>56.639999</td>\n",
       "      <td>56.779999</td>\n",
       "      <td>55.268707</td>\n",
       "      <td>5840300</td>\n",
       "      <td>Negative</td>\n",
       "      <td>-0.270000</td>\n",
       "      <td>-0.473269</td>\n",
       "      <td>0.940002</td>\n",
       "      <td>-0.029990</td>\n",
       "      <td>0.113300</td>\n",
       "      <td>0.779300</td>\n",
       "      <td>0.107300</td>\n",
       "    </tr>\n",
       "    <tr>\n",
       "      <td>3</td>\n",
       "      <td>01/05/2018</td>\n",
       "      <td>57.580002</td>\n",
       "      <td>57.950001</td>\n",
       "      <td>56.919998</td>\n",
       "      <td>57.720001</td>\n",
       "      <td>56.183697</td>\n",
       "      <td>6308800</td>\n",
       "      <td>Positive</td>\n",
       "      <td>0.940002</td>\n",
       "      <td>1.655516</td>\n",
       "      <td>1.020001</td>\n",
       "      <td>-0.083683</td>\n",
       "      <td>0.072833</td>\n",
       "      <td>0.851667</td>\n",
       "      <td>0.075833</td>\n",
       "    </tr>\n",
       "    <tr>\n",
       "      <td>4</td>\n",
       "      <td>01/08/2018</td>\n",
       "      <td>57.340000</td>\n",
       "      <td>58.970001</td>\n",
       "      <td>57.340000</td>\n",
       "      <td>58.740002</td>\n",
       "      <td>57.176540</td>\n",
       "      <td>6224700</td>\n",
       "      <td>Positive</td>\n",
       "      <td>1.020001</td>\n",
       "      <td>1.767153</td>\n",
       "      <td>0.519996</td>\n",
       "      <td>0.169057</td>\n",
       "      <td>0.062143</td>\n",
       "      <td>0.839000</td>\n",
       "      <td>0.099000</td>\n",
       "    </tr>\n",
       "  </tbody>\n",
       "</table>\n",
       "</div>"
      ],
      "text/plain": [
       "         Date       Open       High        Low      Close  Adj Close   Volume  \\\n",
       "0  01/02/2018  55.630001  56.630001  55.020000  56.340000  54.840424  5881300   \n",
       "1  01/03/2018  56.160000  57.250000  56.060001  57.049999  55.531528  7735800   \n",
       "2  01/04/2018  57.349998  57.959999  56.639999  56.779999  55.268707  5840300   \n",
       "3  01/05/2018  57.580002  57.950001  56.919998  57.720001  56.183697  6308800   \n",
       "4  01/08/2018  57.340000  58.970001  57.340000  58.740002  57.176540  6224700   \n",
       "\n",
       "         P/N  Daily_Change  Daily_%_Change  Future_Change  compound       neg  \\\n",
       "0   Positive           NaN             NaN       0.709999  0.567400  0.080154   \n",
       "1   Positive      0.709999        1.260204      -0.270000  0.113950  0.094750   \n",
       "2  Negative      -0.270000       -0.473269       0.940002 -0.029990  0.113300   \n",
       "3   Positive      0.940002        1.655516       1.020001 -0.083683  0.072833   \n",
       "4   Positive      1.020001        1.767153       0.519996  0.169057  0.062143   \n",
       "\n",
       "        neu       pos  \n",
       "0  0.709692  0.210231  \n",
       "1  0.782750  0.122500  \n",
       "2  0.779300  0.107300  \n",
       "3  0.851667  0.075833  \n",
       "4  0.839000  0.099000  "
      ]
     },
     "execution_count": 21,
     "metadata": {},
     "output_type": "execute_result"
    }
   ],
   "source": [
    "CSX.head()"
   ]
  },
  {
   "cell_type": "code",
   "execution_count": 22,
   "metadata": {},
   "outputs": [
    {
     "data": {
      "text/html": [
       "<div>\n",
       "<style scoped>\n",
       "    .dataframe tbody tr th:only-of-type {\n",
       "        vertical-align: middle;\n",
       "    }\n",
       "\n",
       "    .dataframe tbody tr th {\n",
       "        vertical-align: top;\n",
       "    }\n",
       "\n",
       "    .dataframe thead th {\n",
       "        text-align: right;\n",
       "    }\n",
       "</style>\n",
       "<table border=\"1\" class=\"dataframe\">\n",
       "  <thead>\n",
       "    <tr style=\"text-align: right;\">\n",
       "      <th></th>\n",
       "      <th>Date</th>\n",
       "      <th>Open</th>\n",
       "      <th>High</th>\n",
       "      <th>Low</th>\n",
       "      <th>Close</th>\n",
       "      <th>Adj Close</th>\n",
       "      <th>Volume</th>\n",
       "      <th>P/N</th>\n",
       "      <th>Daily_Change</th>\n",
       "      <th>Daily_%_Change</th>\n",
       "      <th>Future_Change</th>\n",
       "      <th>compound</th>\n",
       "      <th>neg</th>\n",
       "      <th>neu</th>\n",
       "      <th>pos</th>\n",
       "    </tr>\n",
       "  </thead>\n",
       "  <tbody>\n",
       "    <tr>\n",
       "      <td>0</td>\n",
       "      <td>01/02/2018</td>\n",
       "      <td>41.240002</td>\n",
       "      <td>41.869999</td>\n",
       "      <td>41.150002</td>\n",
       "      <td>41.799999</td>\n",
       "      <td>38.536655</td>\n",
       "      <td>6934600</td>\n",
       "      <td>Positive</td>\n",
       "      <td>NaN</td>\n",
       "      <td>NaN</td>\n",
       "      <td>1.020001</td>\n",
       "      <td>0.567400</td>\n",
       "      <td>0.080154</td>\n",
       "      <td>0.709692</td>\n",
       "      <td>0.210231</td>\n",
       "    </tr>\n",
       "    <tr>\n",
       "      <td>1</td>\n",
       "      <td>01/03/2018</td>\n",
       "      <td>42.209999</td>\n",
       "      <td>42.950001</td>\n",
       "      <td>42.200001</td>\n",
       "      <td>42.820000</td>\n",
       "      <td>39.477020</td>\n",
       "      <td>14591600</td>\n",
       "      <td>Positive</td>\n",
       "      <td>1.020001</td>\n",
       "      <td>2.440194</td>\n",
       "      <td>1.319999</td>\n",
       "      <td>0.113950</td>\n",
       "      <td>0.094750</td>\n",
       "      <td>0.782750</td>\n",
       "      <td>0.122500</td>\n",
       "    </tr>\n",
       "    <tr>\n",
       "      <td>2</td>\n",
       "      <td>01/04/2018</td>\n",
       "      <td>43.090000</td>\n",
       "      <td>44.250000</td>\n",
       "      <td>43.009998</td>\n",
       "      <td>44.139999</td>\n",
       "      <td>40.693970</td>\n",
       "      <td>17298700</td>\n",
       "      <td>Positive</td>\n",
       "      <td>1.319999</td>\n",
       "      <td>3.082669</td>\n",
       "      <td>-0.130001</td>\n",
       "      <td>-0.029990</td>\n",
       "      <td>0.113300</td>\n",
       "      <td>0.779300</td>\n",
       "      <td>0.107300</td>\n",
       "    </tr>\n",
       "    <tr>\n",
       "      <td>3</td>\n",
       "      <td>01/05/2018</td>\n",
       "      <td>44.500000</td>\n",
       "      <td>44.639999</td>\n",
       "      <td>43.959999</td>\n",
       "      <td>44.009998</td>\n",
       "      <td>40.574112</td>\n",
       "      <td>9643300</td>\n",
       "      <td>Negative</td>\n",
       "      <td>-0.130001</td>\n",
       "      <td>-0.294520</td>\n",
       "      <td>0.210003</td>\n",
       "      <td>-0.083683</td>\n",
       "      <td>0.072833</td>\n",
       "      <td>0.851667</td>\n",
       "      <td>0.075833</td>\n",
       "    </tr>\n",
       "    <tr>\n",
       "      <td>4</td>\n",
       "      <td>01/08/2018</td>\n",
       "      <td>44.040001</td>\n",
       "      <td>44.590000</td>\n",
       "      <td>43.520000</td>\n",
       "      <td>44.220001</td>\n",
       "      <td>40.767723</td>\n",
       "      <td>13099600</td>\n",
       "      <td>Positive</td>\n",
       "      <td>0.210003</td>\n",
       "      <td>0.477171</td>\n",
       "      <td>-0.170002</td>\n",
       "      <td>0.169057</td>\n",
       "      <td>0.062143</td>\n",
       "      <td>0.839000</td>\n",
       "      <td>0.099000</td>\n",
       "    </tr>\n",
       "  </tbody>\n",
       "</table>\n",
       "</div>"
      ],
      "text/plain": [
       "         Date       Open       High        Low      Close  Adj Close  \\\n",
       "0  01/02/2018  41.240002  41.869999  41.150002  41.799999  38.536655   \n",
       "1  01/03/2018  42.209999  42.950001  42.200001  42.820000  39.477020   \n",
       "2  01/04/2018  43.090000  44.250000  43.009998  44.139999  40.693970   \n",
       "3  01/05/2018  44.500000  44.639999  43.959999  44.009998  40.574112   \n",
       "4  01/08/2018  44.040001  44.590000  43.520000  44.220001  40.767723   \n",
       "\n",
       "     Volume        P/N  Daily_Change  Daily_%_Change  Future_Change  compound  \\\n",
       "0   6934600   Positive           NaN             NaN       1.020001  0.567400   \n",
       "1  14591600   Positive      1.020001        2.440194       1.319999  0.113950   \n",
       "2  17298700   Positive      1.319999        3.082669      -0.130001 -0.029990   \n",
       "3   9643300  Negative      -0.130001       -0.294520       0.210003 -0.083683   \n",
       "4  13099600   Positive      0.210003        0.477171      -0.170002  0.169057   \n",
       "\n",
       "        neg       neu       pos  \n",
       "0  0.080154  0.709692  0.210231  \n",
       "1  0.094750  0.782750  0.122500  \n",
       "2  0.113300  0.779300  0.107300  \n",
       "3  0.072833  0.851667  0.075833  \n",
       "4  0.062143  0.839000  0.099000  "
      ]
     },
     "execution_count": 22,
     "metadata": {},
     "output_type": "execute_result"
    }
   ],
   "source": [
    "GM.head()"
   ]
  },
  {
   "cell_type": "code",
   "execution_count": 23,
   "metadata": {},
   "outputs": [],
   "source": [
    "A1G.to_csv(\"../CSVs/A1Grevised.csv\", index = False)\n",
    "BA.to_csv(\"../CSVs/BArevised.csv\", index = False)\n",
    "CSX.to_csv(\"../CSVs/CSXrevised.csv\", index = False)\n",
    "GM.to_csv(\"../CSVs/GMrevised.csv\", index = False)"
   ]
  },
  {
   "cell_type": "markdown",
   "metadata": {},
   "source": [
    "### Dummy Encoding P/N column"
   ]
  },
  {
   "cell_type": "code",
   "execution_count": 24,
   "metadata": {},
   "outputs": [
    {
     "data": {
      "text/html": [
       "<div>\n",
       "<style scoped>\n",
       "    .dataframe tbody tr th:only-of-type {\n",
       "        vertical-align: middle;\n",
       "    }\n",
       "\n",
       "    .dataframe tbody tr th {\n",
       "        vertical-align: top;\n",
       "    }\n",
       "\n",
       "    .dataframe thead th {\n",
       "        text-align: right;\n",
       "    }\n",
       "</style>\n",
       "<table border=\"1\" class=\"dataframe\">\n",
       "  <thead>\n",
       "    <tr style=\"text-align: right;\">\n",
       "      <th></th>\n",
       "      <th>Date</th>\n",
       "      <th>Open</th>\n",
       "      <th>High</th>\n",
       "      <th>Low</th>\n",
       "      <th>Close</th>\n",
       "      <th>Adj Close</th>\n",
       "      <th>Volume</th>\n",
       "      <th>Daily_Change</th>\n",
       "      <th>Daily_%_Change</th>\n",
       "      <th>Future_Change</th>\n",
       "      <th>compound</th>\n",
       "      <th>neg</th>\n",
       "      <th>neu</th>\n",
       "      <th>pos</th>\n",
       "      <th>Change_Negative</th>\n",
       "      <th>Change_Positive</th>\n",
       "    </tr>\n",
       "  </thead>\n",
       "  <tbody>\n",
       "    <tr>\n",
       "      <td>0</td>\n",
       "      <td>01/02/2018</td>\n",
       "      <td>43.400002</td>\n",
       "      <td>43.400002</td>\n",
       "      <td>43.000000</td>\n",
       "      <td>43.400002</td>\n",
       "      <td>42.144642</td>\n",
       "      <td>420.0</td>\n",
       "      <td>NaN</td>\n",
       "      <td>NaN</td>\n",
       "      <td>-0.000000</td>\n",
       "      <td>0.567400</td>\n",
       "      <td>0.080154</td>\n",
       "      <td>0.709692</td>\n",
       "      <td>0.210231</td>\n",
       "      <td>1</td>\n",
       "      <td>0</td>\n",
       "    </tr>\n",
       "    <tr>\n",
       "      <td>1</td>\n",
       "      <td>01/03/2018</td>\n",
       "      <td>43.799999</td>\n",
       "      <td>43.799999</td>\n",
       "      <td>43.400002</td>\n",
       "      <td>43.400002</td>\n",
       "      <td>42.144642</td>\n",
       "      <td>125.0</td>\n",
       "      <td>0.000000</td>\n",
       "      <td>0.00000</td>\n",
       "      <td>-0.000000</td>\n",
       "      <td>0.113950</td>\n",
       "      <td>0.094750</td>\n",
       "      <td>0.782750</td>\n",
       "      <td>0.122500</td>\n",
       "      <td>1</td>\n",
       "      <td>0</td>\n",
       "    </tr>\n",
       "    <tr>\n",
       "      <td>2</td>\n",
       "      <td>01/04/2018</td>\n",
       "      <td>43.400002</td>\n",
       "      <td>43.799999</td>\n",
       "      <td>43.400002</td>\n",
       "      <td>43.400002</td>\n",
       "      <td>42.144642</td>\n",
       "      <td>72.0</td>\n",
       "      <td>0.000000</td>\n",
       "      <td>0.00000</td>\n",
       "      <td>0.199996</td>\n",
       "      <td>-0.029990</td>\n",
       "      <td>0.113300</td>\n",
       "      <td>0.779300</td>\n",
       "      <td>0.107300</td>\n",
       "      <td>1</td>\n",
       "      <td>0</td>\n",
       "    </tr>\n",
       "    <tr>\n",
       "      <td>3</td>\n",
       "      <td>01/05/2018</td>\n",
       "      <td>43.400002</td>\n",
       "      <td>44.000000</td>\n",
       "      <td>43.400002</td>\n",
       "      <td>43.599998</td>\n",
       "      <td>42.338856</td>\n",
       "      <td>60.0</td>\n",
       "      <td>0.199996</td>\n",
       "      <td>0.46082</td>\n",
       "      <td>-0.000000</td>\n",
       "      <td>-0.083683</td>\n",
       "      <td>0.072833</td>\n",
       "      <td>0.851667</td>\n",
       "      <td>0.075833</td>\n",
       "      <td>0</td>\n",
       "      <td>1</td>\n",
       "    </tr>\n",
       "    <tr>\n",
       "      <td>4</td>\n",
       "      <td>01/08/2018</td>\n",
       "      <td>43.799999</td>\n",
       "      <td>43.799999</td>\n",
       "      <td>43.599998</td>\n",
       "      <td>43.599998</td>\n",
       "      <td>42.338856</td>\n",
       "      <td>0.0</td>\n",
       "      <td>0.000000</td>\n",
       "      <td>0.00000</td>\n",
       "      <td>0.600003</td>\n",
       "      <td>0.169057</td>\n",
       "      <td>0.062143</td>\n",
       "      <td>0.839000</td>\n",
       "      <td>0.099000</td>\n",
       "      <td>1</td>\n",
       "      <td>0</td>\n",
       "    </tr>\n",
       "  </tbody>\n",
       "</table>\n",
       "</div>"
      ],
      "text/plain": [
       "         Date       Open       High        Low      Close  Adj Close  Volume  \\\n",
       "0  01/02/2018  43.400002  43.400002  43.000000  43.400002  42.144642   420.0   \n",
       "1  01/03/2018  43.799999  43.799999  43.400002  43.400002  42.144642   125.0   \n",
       "2  01/04/2018  43.400002  43.799999  43.400002  43.400002  42.144642    72.0   \n",
       "3  01/05/2018  43.400002  44.000000  43.400002  43.599998  42.338856    60.0   \n",
       "4  01/08/2018  43.799999  43.799999  43.599998  43.599998  42.338856     0.0   \n",
       "\n",
       "   Daily_Change  Daily_%_Change  Future_Change  compound       neg       neu  \\\n",
       "0           NaN             NaN      -0.000000  0.567400  0.080154  0.709692   \n",
       "1      0.000000         0.00000      -0.000000  0.113950  0.094750  0.782750   \n",
       "2      0.000000         0.00000       0.199996 -0.029990  0.113300  0.779300   \n",
       "3      0.199996         0.46082      -0.000000 -0.083683  0.072833  0.851667   \n",
       "4      0.000000         0.00000       0.600003  0.169057  0.062143  0.839000   \n",
       "\n",
       "        pos  Change_Negative  Change_Positive  \n",
       "0  0.210231                1                0  \n",
       "1  0.122500                1                0  \n",
       "2  0.107300                1                0  \n",
       "3  0.075833                0                1  \n",
       "4  0.099000                1                0  "
      ]
     },
     "execution_count": 24,
     "metadata": {},
     "output_type": "execute_result"
    }
   ],
   "source": [
    "A1G_encoded = pd.get_dummies(A1G, columns=[\"P/N\"])\n",
    "A1G_encoded.rename(columns = {\"P/N_Negative \":\"Change_Negative\", \"P/N_Positive\":\"Change_Positive\"}, inplace = True)\n",
    "A1G_encoded.head()"
   ]
  },
  {
   "cell_type": "code",
   "execution_count": 25,
   "metadata": {},
   "outputs": [
    {
     "data": {
      "text/html": [
       "<div>\n",
       "<style scoped>\n",
       "    .dataframe tbody tr th:only-of-type {\n",
       "        vertical-align: middle;\n",
       "    }\n",
       "\n",
       "    .dataframe tbody tr th {\n",
       "        vertical-align: top;\n",
       "    }\n",
       "\n",
       "    .dataframe thead th {\n",
       "        text-align: right;\n",
       "    }\n",
       "</style>\n",
       "<table border=\"1\" class=\"dataframe\">\n",
       "  <thead>\n",
       "    <tr style=\"text-align: right;\">\n",
       "      <th></th>\n",
       "      <th>Date</th>\n",
       "      <th>Open</th>\n",
       "      <th>High</th>\n",
       "      <th>Low</th>\n",
       "      <th>Close</th>\n",
       "      <th>Adj Close</th>\n",
       "      <th>Volume</th>\n",
       "      <th>Daily_Change</th>\n",
       "      <th>Daily_%_Change</th>\n",
       "      <th>Future_Change</th>\n",
       "      <th>compound</th>\n",
       "      <th>neg</th>\n",
       "      <th>neu</th>\n",
       "      <th>pos</th>\n",
       "      <th>Change_Negative</th>\n",
       "      <th>Change_Positive</th>\n",
       "    </tr>\n",
       "  </thead>\n",
       "  <tbody>\n",
       "    <tr>\n",
       "      <td>0</td>\n",
       "      <td>01/02/2018</td>\n",
       "      <td>295.750000</td>\n",
       "      <td>296.989990</td>\n",
       "      <td>295.399994</td>\n",
       "      <td>296.839996</td>\n",
       "      <td>284.569489</td>\n",
       "      <td>2978900</td>\n",
       "      <td>NaN</td>\n",
       "      <td>NaN</td>\n",
       "      <td>0.959992</td>\n",
       "      <td>0.567400</td>\n",
       "      <td>0.080154</td>\n",
       "      <td>0.709692</td>\n",
       "      <td>0.210231</td>\n",
       "      <td>0</td>\n",
       "      <td>1</td>\n",
       "    </tr>\n",
       "    <tr>\n",
       "      <td>1</td>\n",
       "      <td>01/03/2018</td>\n",
       "      <td>295.940002</td>\n",
       "      <td>298.500000</td>\n",
       "      <td>295.470001</td>\n",
       "      <td>297.799988</td>\n",
       "      <td>285.489807</td>\n",
       "      <td>3211200</td>\n",
       "      <td>0.959992</td>\n",
       "      <td>0.323404</td>\n",
       "      <td>-1.129975</td>\n",
       "      <td>0.113950</td>\n",
       "      <td>0.094750</td>\n",
       "      <td>0.782750</td>\n",
       "      <td>0.122500</td>\n",
       "      <td>0</td>\n",
       "      <td>1</td>\n",
       "    </tr>\n",
       "    <tr>\n",
       "      <td>2</td>\n",
       "      <td>01/04/2018</td>\n",
       "      <td>297.940002</td>\n",
       "      <td>298.420013</td>\n",
       "      <td>295.470001</td>\n",
       "      <td>296.670013</td>\n",
       "      <td>284.406555</td>\n",
       "      <td>4171700</td>\n",
       "      <td>-1.129975</td>\n",
       "      <td>-0.379441</td>\n",
       "      <td>12.169983</td>\n",
       "      <td>-0.029990</td>\n",
       "      <td>0.113300</td>\n",
       "      <td>0.779300</td>\n",
       "      <td>0.107300</td>\n",
       "      <td>1</td>\n",
       "      <td>0</td>\n",
       "    </tr>\n",
       "    <tr>\n",
       "      <td>3</td>\n",
       "      <td>01/05/2018</td>\n",
       "      <td>296.769989</td>\n",
       "      <td>308.890015</td>\n",
       "      <td>296.720001</td>\n",
       "      <td>308.839996</td>\n",
       "      <td>296.073425</td>\n",
       "      <td>6177700</td>\n",
       "      <td>12.169983</td>\n",
       "      <td>4.102195</td>\n",
       "      <td>1.309998</td>\n",
       "      <td>-0.083683</td>\n",
       "      <td>0.072833</td>\n",
       "      <td>0.851667</td>\n",
       "      <td>0.075833</td>\n",
       "      <td>0</td>\n",
       "      <td>1</td>\n",
       "    </tr>\n",
       "    <tr>\n",
       "      <td>4</td>\n",
       "      <td>01/08/2018</td>\n",
       "      <td>308.660004</td>\n",
       "      <td>310.859985</td>\n",
       "      <td>305.750000</td>\n",
       "      <td>310.149994</td>\n",
       "      <td>297.329315</td>\n",
       "      <td>4124900</td>\n",
       "      <td>1.309998</td>\n",
       "      <td>0.424167</td>\n",
       "      <td>8.279999</td>\n",
       "      <td>0.169057</td>\n",
       "      <td>0.062143</td>\n",
       "      <td>0.839000</td>\n",
       "      <td>0.099000</td>\n",
       "      <td>0</td>\n",
       "      <td>1</td>\n",
       "    </tr>\n",
       "  </tbody>\n",
       "</table>\n",
       "</div>"
      ],
      "text/plain": [
       "         Date        Open        High         Low       Close   Adj Close  \\\n",
       "0  01/02/2018  295.750000  296.989990  295.399994  296.839996  284.569489   \n",
       "1  01/03/2018  295.940002  298.500000  295.470001  297.799988  285.489807   \n",
       "2  01/04/2018  297.940002  298.420013  295.470001  296.670013  284.406555   \n",
       "3  01/05/2018  296.769989  308.890015  296.720001  308.839996  296.073425   \n",
       "4  01/08/2018  308.660004  310.859985  305.750000  310.149994  297.329315   \n",
       "\n",
       "    Volume  Daily_Change  Daily_%_Change  Future_Change  compound       neg  \\\n",
       "0  2978900           NaN             NaN       0.959992  0.567400  0.080154   \n",
       "1  3211200      0.959992        0.323404      -1.129975  0.113950  0.094750   \n",
       "2  4171700     -1.129975       -0.379441      12.169983 -0.029990  0.113300   \n",
       "3  6177700     12.169983        4.102195       1.309998 -0.083683  0.072833   \n",
       "4  4124900      1.309998        0.424167       8.279999  0.169057  0.062143   \n",
       "\n",
       "        neu       pos  Change_Negative  Change_Positive  \n",
       "0  0.709692  0.210231                0                1  \n",
       "1  0.782750  0.122500                0                1  \n",
       "2  0.779300  0.107300                1                0  \n",
       "3  0.851667  0.075833                0                1  \n",
       "4  0.839000  0.099000                0                1  "
      ]
     },
     "execution_count": 25,
     "metadata": {},
     "output_type": "execute_result"
    }
   ],
   "source": [
    "BA_encoded = pd.get_dummies(BA, columns=[\"P/N\"])\n",
    "BA_encoded.rename(columns = {\"P/N_Negative \":\"Change_Negative\", \"P/N_Positive\":\"Change_Positive\"}, inplace = True)\n",
    "BA_encoded.head()"
   ]
  },
  {
   "cell_type": "code",
   "execution_count": 26,
   "metadata": {},
   "outputs": [
    {
     "data": {
      "text/html": [
       "<div>\n",
       "<style scoped>\n",
       "    .dataframe tbody tr th:only-of-type {\n",
       "        vertical-align: middle;\n",
       "    }\n",
       "\n",
       "    .dataframe tbody tr th {\n",
       "        vertical-align: top;\n",
       "    }\n",
       "\n",
       "    .dataframe thead th {\n",
       "        text-align: right;\n",
       "    }\n",
       "</style>\n",
       "<table border=\"1\" class=\"dataframe\">\n",
       "  <thead>\n",
       "    <tr style=\"text-align: right;\">\n",
       "      <th></th>\n",
       "      <th>Date</th>\n",
       "      <th>Open</th>\n",
       "      <th>High</th>\n",
       "      <th>Low</th>\n",
       "      <th>Close</th>\n",
       "      <th>Adj Close</th>\n",
       "      <th>Volume</th>\n",
       "      <th>Daily_Change</th>\n",
       "      <th>Daily_%_Change</th>\n",
       "      <th>Future_Change</th>\n",
       "      <th>compound</th>\n",
       "      <th>neg</th>\n",
       "      <th>neu</th>\n",
       "      <th>pos</th>\n",
       "      <th>Change_Negative</th>\n",
       "      <th>Change_Positive</th>\n",
       "    </tr>\n",
       "  </thead>\n",
       "  <tbody>\n",
       "    <tr>\n",
       "      <td>0</td>\n",
       "      <td>01/02/2018</td>\n",
       "      <td>55.630001</td>\n",
       "      <td>56.630001</td>\n",
       "      <td>55.020000</td>\n",
       "      <td>56.340000</td>\n",
       "      <td>54.840424</td>\n",
       "      <td>5881300</td>\n",
       "      <td>NaN</td>\n",
       "      <td>NaN</td>\n",
       "      <td>0.709999</td>\n",
       "      <td>0.567400</td>\n",
       "      <td>0.080154</td>\n",
       "      <td>0.709692</td>\n",
       "      <td>0.210231</td>\n",
       "      <td>0</td>\n",
       "      <td>1</td>\n",
       "    </tr>\n",
       "    <tr>\n",
       "      <td>1</td>\n",
       "      <td>01/03/2018</td>\n",
       "      <td>56.160000</td>\n",
       "      <td>57.250000</td>\n",
       "      <td>56.060001</td>\n",
       "      <td>57.049999</td>\n",
       "      <td>55.531528</td>\n",
       "      <td>7735800</td>\n",
       "      <td>0.709999</td>\n",
       "      <td>1.260204</td>\n",
       "      <td>-0.270000</td>\n",
       "      <td>0.113950</td>\n",
       "      <td>0.094750</td>\n",
       "      <td>0.782750</td>\n",
       "      <td>0.122500</td>\n",
       "      <td>0</td>\n",
       "      <td>1</td>\n",
       "    </tr>\n",
       "    <tr>\n",
       "      <td>2</td>\n",
       "      <td>01/04/2018</td>\n",
       "      <td>57.349998</td>\n",
       "      <td>57.959999</td>\n",
       "      <td>56.639999</td>\n",
       "      <td>56.779999</td>\n",
       "      <td>55.268707</td>\n",
       "      <td>5840300</td>\n",
       "      <td>-0.270000</td>\n",
       "      <td>-0.473269</td>\n",
       "      <td>0.940002</td>\n",
       "      <td>-0.029990</td>\n",
       "      <td>0.113300</td>\n",
       "      <td>0.779300</td>\n",
       "      <td>0.107300</td>\n",
       "      <td>1</td>\n",
       "      <td>0</td>\n",
       "    </tr>\n",
       "    <tr>\n",
       "      <td>3</td>\n",
       "      <td>01/05/2018</td>\n",
       "      <td>57.580002</td>\n",
       "      <td>57.950001</td>\n",
       "      <td>56.919998</td>\n",
       "      <td>57.720001</td>\n",
       "      <td>56.183697</td>\n",
       "      <td>6308800</td>\n",
       "      <td>0.940002</td>\n",
       "      <td>1.655516</td>\n",
       "      <td>1.020001</td>\n",
       "      <td>-0.083683</td>\n",
       "      <td>0.072833</td>\n",
       "      <td>0.851667</td>\n",
       "      <td>0.075833</td>\n",
       "      <td>0</td>\n",
       "      <td>1</td>\n",
       "    </tr>\n",
       "    <tr>\n",
       "      <td>4</td>\n",
       "      <td>01/08/2018</td>\n",
       "      <td>57.340000</td>\n",
       "      <td>58.970001</td>\n",
       "      <td>57.340000</td>\n",
       "      <td>58.740002</td>\n",
       "      <td>57.176540</td>\n",
       "      <td>6224700</td>\n",
       "      <td>1.020001</td>\n",
       "      <td>1.767153</td>\n",
       "      <td>0.519996</td>\n",
       "      <td>0.169057</td>\n",
       "      <td>0.062143</td>\n",
       "      <td>0.839000</td>\n",
       "      <td>0.099000</td>\n",
       "      <td>0</td>\n",
       "      <td>1</td>\n",
       "    </tr>\n",
       "  </tbody>\n",
       "</table>\n",
       "</div>"
      ],
      "text/plain": [
       "         Date       Open       High        Low      Close  Adj Close   Volume  \\\n",
       "0  01/02/2018  55.630001  56.630001  55.020000  56.340000  54.840424  5881300   \n",
       "1  01/03/2018  56.160000  57.250000  56.060001  57.049999  55.531528  7735800   \n",
       "2  01/04/2018  57.349998  57.959999  56.639999  56.779999  55.268707  5840300   \n",
       "3  01/05/2018  57.580002  57.950001  56.919998  57.720001  56.183697  6308800   \n",
       "4  01/08/2018  57.340000  58.970001  57.340000  58.740002  57.176540  6224700   \n",
       "\n",
       "   Daily_Change  Daily_%_Change  Future_Change  compound       neg       neu  \\\n",
       "0           NaN             NaN       0.709999  0.567400  0.080154  0.709692   \n",
       "1      0.709999        1.260204      -0.270000  0.113950  0.094750  0.782750   \n",
       "2     -0.270000       -0.473269       0.940002 -0.029990  0.113300  0.779300   \n",
       "3      0.940002        1.655516       1.020001 -0.083683  0.072833  0.851667   \n",
       "4      1.020001        1.767153       0.519996  0.169057  0.062143  0.839000   \n",
       "\n",
       "        pos  Change_Negative  Change_Positive  \n",
       "0  0.210231                0                1  \n",
       "1  0.122500                0                1  \n",
       "2  0.107300                1                0  \n",
       "3  0.075833                0                1  \n",
       "4  0.099000                0                1  "
      ]
     },
     "execution_count": 26,
     "metadata": {},
     "output_type": "execute_result"
    }
   ],
   "source": [
    "CSX_encoded = pd.get_dummies(CSX, columns=[\"P/N\"])\n",
    "CSX_encoded.rename(columns = {\"P/N_Negative \":\"Change_Negative\", \"P/N_Positive\":\"Change_Positive\"}, inplace = True)\n",
    "CSX_encoded.head()"
   ]
  },
  {
   "cell_type": "code",
   "execution_count": 27,
   "metadata": {},
   "outputs": [
    {
     "data": {
      "text/html": [
       "<div>\n",
       "<style scoped>\n",
       "    .dataframe tbody tr th:only-of-type {\n",
       "        vertical-align: middle;\n",
       "    }\n",
       "\n",
       "    .dataframe tbody tr th {\n",
       "        vertical-align: top;\n",
       "    }\n",
       "\n",
       "    .dataframe thead th {\n",
       "        text-align: right;\n",
       "    }\n",
       "</style>\n",
       "<table border=\"1\" class=\"dataframe\">\n",
       "  <thead>\n",
       "    <tr style=\"text-align: right;\">\n",
       "      <th></th>\n",
       "      <th>Date</th>\n",
       "      <th>Open</th>\n",
       "      <th>High</th>\n",
       "      <th>Low</th>\n",
       "      <th>Close</th>\n",
       "      <th>Adj Close</th>\n",
       "      <th>Volume</th>\n",
       "      <th>Daily_Change</th>\n",
       "      <th>Daily_%_Change</th>\n",
       "      <th>Future_Change</th>\n",
       "      <th>compound</th>\n",
       "      <th>neg</th>\n",
       "      <th>neu</th>\n",
       "      <th>pos</th>\n",
       "      <th>Change_Negative</th>\n",
       "      <th>Change_Positive</th>\n",
       "    </tr>\n",
       "  </thead>\n",
       "  <tbody>\n",
       "    <tr>\n",
       "      <td>0</td>\n",
       "      <td>01/02/2018</td>\n",
       "      <td>41.240002</td>\n",
       "      <td>41.869999</td>\n",
       "      <td>41.150002</td>\n",
       "      <td>41.799999</td>\n",
       "      <td>38.536655</td>\n",
       "      <td>6934600</td>\n",
       "      <td>NaN</td>\n",
       "      <td>NaN</td>\n",
       "      <td>1.020001</td>\n",
       "      <td>0.567400</td>\n",
       "      <td>0.080154</td>\n",
       "      <td>0.709692</td>\n",
       "      <td>0.210231</td>\n",
       "      <td>0</td>\n",
       "      <td>1</td>\n",
       "    </tr>\n",
       "    <tr>\n",
       "      <td>1</td>\n",
       "      <td>01/03/2018</td>\n",
       "      <td>42.209999</td>\n",
       "      <td>42.950001</td>\n",
       "      <td>42.200001</td>\n",
       "      <td>42.820000</td>\n",
       "      <td>39.477020</td>\n",
       "      <td>14591600</td>\n",
       "      <td>1.020001</td>\n",
       "      <td>2.440194</td>\n",
       "      <td>1.319999</td>\n",
       "      <td>0.113950</td>\n",
       "      <td>0.094750</td>\n",
       "      <td>0.782750</td>\n",
       "      <td>0.122500</td>\n",
       "      <td>0</td>\n",
       "      <td>1</td>\n",
       "    </tr>\n",
       "    <tr>\n",
       "      <td>2</td>\n",
       "      <td>01/04/2018</td>\n",
       "      <td>43.090000</td>\n",
       "      <td>44.250000</td>\n",
       "      <td>43.009998</td>\n",
       "      <td>44.139999</td>\n",
       "      <td>40.693970</td>\n",
       "      <td>17298700</td>\n",
       "      <td>1.319999</td>\n",
       "      <td>3.082669</td>\n",
       "      <td>-0.130001</td>\n",
       "      <td>-0.029990</td>\n",
       "      <td>0.113300</td>\n",
       "      <td>0.779300</td>\n",
       "      <td>0.107300</td>\n",
       "      <td>0</td>\n",
       "      <td>1</td>\n",
       "    </tr>\n",
       "    <tr>\n",
       "      <td>3</td>\n",
       "      <td>01/05/2018</td>\n",
       "      <td>44.500000</td>\n",
       "      <td>44.639999</td>\n",
       "      <td>43.959999</td>\n",
       "      <td>44.009998</td>\n",
       "      <td>40.574112</td>\n",
       "      <td>9643300</td>\n",
       "      <td>-0.130001</td>\n",
       "      <td>-0.294520</td>\n",
       "      <td>0.210003</td>\n",
       "      <td>-0.083683</td>\n",
       "      <td>0.072833</td>\n",
       "      <td>0.851667</td>\n",
       "      <td>0.075833</td>\n",
       "      <td>1</td>\n",
       "      <td>0</td>\n",
       "    </tr>\n",
       "    <tr>\n",
       "      <td>4</td>\n",
       "      <td>01/08/2018</td>\n",
       "      <td>44.040001</td>\n",
       "      <td>44.590000</td>\n",
       "      <td>43.520000</td>\n",
       "      <td>44.220001</td>\n",
       "      <td>40.767723</td>\n",
       "      <td>13099600</td>\n",
       "      <td>0.210003</td>\n",
       "      <td>0.477171</td>\n",
       "      <td>-0.170002</td>\n",
       "      <td>0.169057</td>\n",
       "      <td>0.062143</td>\n",
       "      <td>0.839000</td>\n",
       "      <td>0.099000</td>\n",
       "      <td>0</td>\n",
       "      <td>1</td>\n",
       "    </tr>\n",
       "  </tbody>\n",
       "</table>\n",
       "</div>"
      ],
      "text/plain": [
       "         Date       Open       High        Low      Close  Adj Close  \\\n",
       "0  01/02/2018  41.240002  41.869999  41.150002  41.799999  38.536655   \n",
       "1  01/03/2018  42.209999  42.950001  42.200001  42.820000  39.477020   \n",
       "2  01/04/2018  43.090000  44.250000  43.009998  44.139999  40.693970   \n",
       "3  01/05/2018  44.500000  44.639999  43.959999  44.009998  40.574112   \n",
       "4  01/08/2018  44.040001  44.590000  43.520000  44.220001  40.767723   \n",
       "\n",
       "     Volume  Daily_Change  Daily_%_Change  Future_Change  compound       neg  \\\n",
       "0   6934600           NaN             NaN       1.020001  0.567400  0.080154   \n",
       "1  14591600      1.020001        2.440194       1.319999  0.113950  0.094750   \n",
       "2  17298700      1.319999        3.082669      -0.130001 -0.029990  0.113300   \n",
       "3   9643300     -0.130001       -0.294520       0.210003 -0.083683  0.072833   \n",
       "4  13099600      0.210003        0.477171      -0.170002  0.169057  0.062143   \n",
       "\n",
       "        neu       pos  Change_Negative  Change_Positive  \n",
       "0  0.709692  0.210231                0                1  \n",
       "1  0.782750  0.122500                0                1  \n",
       "2  0.779300  0.107300                0                1  \n",
       "3  0.851667  0.075833                1                0  \n",
       "4  0.839000  0.099000                0                1  "
      ]
     },
     "execution_count": 27,
     "metadata": {},
     "output_type": "execute_result"
    }
   ],
   "source": [
    "GM_encoded = pd.get_dummies(GM, columns=[\"P/N\"])\n",
    "GM_encoded.rename(columns = {\"P/N_Negative \":\"Change_Negative\", \"P/N_Positive\":\"Change_Positive\"}, inplace = True)\n",
    "GM_encoded.head()"
   ]
  },
  {
   "cell_type": "markdown",
   "metadata": {},
   "source": [
    "# Linear Modeling"
   ]
  },
  {
   "cell_type": "markdown",
   "metadata": {},
   "source": [
    "### Basic Plotting American Airlines Group"
   ]
  },
  {
   "cell_type": "code",
   "execution_count": 28,
   "metadata": {},
   "outputs": [
    {
     "name": "stdout",
     "output_type": "stream",
     "text": [
      "(499, 3) (499, 2)\n"
     ]
    }
   ],
   "source": [
    "A1G_X = A1G_encoded[['neg','pos','neu']]\n",
    "A1G_y = A1G_encoded[['Change_Positive','Change_Negative']]\n",
    "print(A1G_X.shape,A1G_y.shape)"
   ]
  },
  {
   "cell_type": "code",
   "execution_count": 29,
   "metadata": {},
   "outputs": [],
   "source": [
    "X_train, X_test, y_train, y_test = split(A1G_X, A1G_y)"
   ]
  },
  {
   "cell_type": "code",
   "execution_count": 30,
   "metadata": {},
   "outputs": [
    {
     "name": "stdout",
     "output_type": "stream",
     "text": [
      "(374, 3) (125, 3) (374, 2) (125, 2)\n"
     ]
    }
   ],
   "source": [
    "print(X_train.shape,X_test.shape,y_train.shape,y_test.shape)"
   ]
  },
  {
   "cell_type": "code",
   "execution_count": 31,
   "metadata": {},
   "outputs": [
    {
     "data": {
      "text/plain": [
       "LinearRegression(copy_X=True, fit_intercept=True, n_jobs=None, normalize=False)"
      ]
     },
     "execution_count": 31,
     "metadata": {},
     "output_type": "execute_result"
    }
   ],
   "source": [
    "model_A1G = LinearRegression()\n",
    "model_A1G.fit(X_train, y_train)"
   ]
  },
  {
   "cell_type": "code",
   "execution_count": 32,
   "metadata": {},
   "outputs": [
    {
     "data": {
      "image/png": "[encoded data removed]",
      "text/plain": [
       "<Figure size 432x288 with 1 Axes>"
      ]
     },
     "metadata": {
      "needs_background": "light"
     },
     "output_type": "display_data"
    }
   ],
   "source": [
    "plt.scatter(model_A1G.predict(X_train), model_A1G.predict(X_train) - y_train, c=\"red\", label=\"Training Data\")\n",
    "plt.scatter(model_A1G.predict(X_test), model_A1G.predict(X_test) - y_test, c=\"blue\", label=\"Testing Data\")\n",
    "plt.legend()\n",
    "plt.hlines(y=0, xmin=y_test.min(), xmax=y_test.max())\n",
    "plt.title(\"Residual Plot for American Airlines Grp.\")\n",
    "plt.savefig(\"../Web/images/A1G.svg\", format = \"svg\")\n",
    "plt.show()"
   ]
  },
  {
   "cell_type": "markdown",
   "metadata": {},
   "source": [
    "### Quantifying A1G"
   ]
  },
  {
   "cell_type": "code",
   "execution_count": 33,
   "metadata": {},
   "outputs": [
    {
     "name": "stdout",
     "output_type": "stream",
     "text": [
      "MSE: 0.24213133429043426,\n",
      "R2: 0.003345074212846189\n",
      "Model test score: 0.003345074212846189\n",
      "Model training score:  0.0031060269382003902\n"
     ]
    }
   ],
   "source": [
    "predictions = model_A1G.predict(X_test)\n",
    "MSE = mean_squared_error(y_test, predictions)\n",
    "r2 = model_A1G.score(X_test,y_test)\n",
    "\n",
    "print(f\"MSE: {MSE},\\nR2: {r2}\")\n",
    "print(f'Model test score: {model_A1G.score(X_test,y_test)}')\n",
    "print(f'Model training score:  {model_A1G.score(X_train,y_train)}')"
   ]
  },
  {
   "cell_type": "markdown",
   "metadata": {},
   "source": [
    "### Plotting Boeing "
   ]
  },
  {
   "cell_type": "code",
   "execution_count": 34,
   "metadata": {},
   "outputs": [
    {
     "name": "stdout",
     "output_type": "stream",
     "text": [
      "(499, 3) (499, 2)\n"
     ]
    }
   ],
   "source": [
    "BA_X = BA_encoded[['neg','pos','neu']]\n",
    "BA_y = BA_encoded[['Change_Positive','Change_Negative']]\n",
    "print(BA_X.shape,BA_y.shape)"
   ]
  },
  {
   "cell_type": "code",
   "execution_count": 35,
   "metadata": {},
   "outputs": [],
   "source": [
    "X_train, X_test, y_train, y_test = split(BA_X, BA_y)"
   ]
  },
  {
   "cell_type": "code",
   "execution_count": 36,
   "metadata": {},
   "outputs": [
    {
     "name": "stdout",
     "output_type": "stream",
     "text": [
      "(374, 3) (125, 3) (374, 2) (125, 2)\n"
     ]
    }
   ],
   "source": [
    "print(X_train.shape,X_test.shape,y_train.shape,y_test.shape)"
   ]
  },
  {
   "cell_type": "code",
   "execution_count": 37,
   "metadata": {},
   "outputs": [
    {
     "data": {
      "text/plain": [
       "LinearRegression(copy_X=True, fit_intercept=True, n_jobs=None, normalize=False)"
      ]
     },
     "execution_count": 37,
     "metadata": {},
     "output_type": "execute_result"
    }
   ],
   "source": [
    "model_BA = LinearRegression()\n",
    "model_BA.fit(X_train, y_train)"
   ]
  },
  {
   "cell_type": "code",
   "execution_count": 38,
   "metadata": {},
   "outputs": [
    {
     "data": {
      "image/png": "[encoded data removed]",
      "text/plain": [
       "<Figure size 432x288 with 1 Axes>"
      ]
     },
     "metadata": {
      "needs_background": "light"
     },
     "output_type": "display_data"
    }
   ],
   "source": [
    "plt.scatter(model_BA.predict(X_train), model_BA.predict(X_train) - y_train, c=\"green\", label=\"Training Data\")\n",
    "plt.scatter(model_BA.predict(X_test), model_BA.predict(X_test) - y_test, c=\"orange\", label=\"Testing Data\")\n",
    "plt.legend()\n",
    "plt.hlines(y=0, xmin=y_test.min(), xmax=y_test.max())\n",
    "plt.title(\"Residual Plot for Boeing Aerospace.\")\n",
    "plt.savefig(\"../Web/images/BA.svg\",format = 'svg')\n",
    "plt.show()\n"
   ]
  },
  {
   "cell_type": "markdown",
   "metadata": {},
   "source": [
    "### Quantifying Boeing"
   ]
  },
  {
   "cell_type": "code",
   "execution_count": 39,
   "metadata": {},
   "outputs": [
    {
     "name": "stdout",
     "output_type": "stream",
     "text": [
      "MSE: 0.2498325472877224,\n",
      "R2: -0.0024739474500929948\n",
      "Model test score: -0.0024739474500929948\n",
      "Model training score:  -0.0024739474500929948\n"
     ]
    }
   ],
   "source": [
    "predictions = model_BA.predict(X_test)\n",
    "MSE = mean_squared_error(y_test, predictions)\n",
    "r2 = model_BA.score(X_test, y_test)\n",
    "\n",
    "print(f\"MSE: {MSE},\\nR2: {r2}\")\n",
    "print(f'Model test score: {model_BA.score(X_test, y_test)}')\n",
    "print(f'Model training score:  {model_BA.score(X_test, y_test)}')"
   ]
  },
  {
   "cell_type": "markdown",
   "metadata": {},
   "source": [
    "### Plotting CSX Rail"
   ]
  },
  {
   "cell_type": "code",
   "execution_count": 40,
   "metadata": {},
   "outputs": [
    {
     "name": "stdout",
     "output_type": "stream",
     "text": [
      "(499, 3) (499, 2)\n"
     ]
    },
    {
     "data": {
      "image/png": "[encoded data removed]",
      "text/plain": [
       "<Figure size 432x288 with 1 Axes>"
      ]
     },
     "metadata": {
      "needs_background": "light"
     },
     "output_type": "display_data"
    }
   ],
   "source": [
    "CSX_X = CSX_encoded[['pos','neg','neu']]\n",
    "CSX_y = CSX_encoded[['Change_Positive','Change_Negative']]\n",
    "print(CSX_X.shape,CSX_y.shape)\n",
    "\n",
    "X_train, X_test, y_train, y_test = split(CSX_X, CSX_y)\n",
    "\n",
    "model_CSX = LinearRegression()\n",
    "model_CSX.fit(X_train, y_train)\n",
    "\n",
    "plt.scatter(model_CSX.predict(X_train), model_CSX.predict(X_train) - y_train, c=\"blue\", label=\"Training Data\")\n",
    "plt.scatter(model_CSX.predict(X_test), model_CSX.predict(X_test) - y_test, c=\"red\", label=\"Testing Data\")\n",
    "plt.legend()\n",
    "plt.hlines(y=0, xmin=y_test.min(), xmax=y_test.max())\n",
    "plt.title(\"Residual Plot for CSX Rail.\")\n",
    "plt.savefig(\"../Web/images/CSX.svg\", format = 'svg')\n",
    "plt.show()"
   ]
  },
  {
   "cell_type": "markdown",
   "metadata": {},
   "source": [
    "### Quantifying CSX Rail"
   ]
  },
  {
   "cell_type": "code",
   "execution_count": 41,
   "metadata": {},
   "outputs": [
    {
     "name": "stdout",
     "output_type": "stream",
     "text": [
      "MSE: 0.24644973873427006,\n",
      "R2: 0.006507438667964827\n",
      "Model test score: 0.006507438667964827\n",
      "Model training score:  0.007527257505592356\n"
     ]
    }
   ],
   "source": [
    "predictions = model_CSX.predict(X_test)\n",
    "MSE = mean_squared_error(y_test, predictions)\n",
    "r2 = model_CSX.score(X_test, y_test)\n",
    "\n",
    "print(f\"MSE: {MSE},\\nR2: {r2}\")\n",
    "print(f'Model test score: {model_CSX.score(X_test, y_test)}')\n",
    "print(f'Model training score:  {model_CSX.score(X_train, y_train)}')"
   ]
  },
  {
   "cell_type": "markdown",
   "metadata": {},
   "source": [
    "### Plotting General Motors"
   ]
  },
  {
   "cell_type": "code",
   "execution_count": 43,
   "metadata": {},
   "outputs": [
    {
     "name": "stdout",
     "output_type": "stream",
     "text": [
      "(499, 3) (499, 2)\n"
     ]
    },
    {
     "data": {
      "image/png": "[encoded data removed]",
      "text/plain": [
       "<Figure size 432x288 with 1 Axes>"
      ]
     },
     "metadata": {
      "needs_background": "light"
     },
     "output_type": "display_data"
    }
   ],
   "source": [
    "GM_X = GM_encoded[['pos','neg','neu']]\n",
    "GM_y = GM_encoded[['Change_Positive','Change_Negative']]\n",
    "print(GM_X.shape,GM_y.shape)\n",
    "\n",
    "X_train, X_test, y_train, y_test = split(GM_X, GM_y)\n",
    "\n",
    "model_GM = LinearRegression()\n",
    "model_GM.fit(X_train, y_train)\n",
    "\n",
    "plt.scatter(model_GM.predict(X_train), model_GM.predict(X_train) - y_train, c=\"orange\", label=\"Training Data\")\n",
    "plt.scatter(model_GM.predict(X_test), model_GM.predict(X_test) - y_test, c=\"green\", label=\"Testing Data\")\n",
    "plt.legend()\n",
    "plt.hlines(y=0, xmin=y_test.min(), xmax=y_test.max())\n",
    "plt.title(\"Residual Plot for General Motors.\")\n",
    "plt.savefig(\"../Web/images/GM.svg\",format = 'svg')\n",
    "plt.show()"
   ]
  },
  {
   "cell_type": "markdown",
   "metadata": {},
   "source": [
    "### Quantifying General Motors"
   ]
  },
  {
   "cell_type": "code",
   "execution_count": 44,
   "metadata": {},
   "outputs": [
    {
     "name": "stdout",
     "output_type": "stream",
     "text": [
      "MSE: 0.2489619752352032,\n",
      "R2: -0.0010372781909548934\n",
      "Model test score: -0.0010372781909548934\n",
      "Model training score:  0.004064533698270645\n"
     ]
    }
   ],
   "source": [
    "predictions = model_GM.predict(X_test)\n",
    "MSE = mean_squared_error(y_test, predictions)\n",
    "r2 = model_GM.score(X_test, y_test)\n",
    "\n",
    "print(f\"MSE: {MSE},\\nR2: {r2}\")\n",
    "print(f'Model test score: {model_GM.score(X_test, y_test)}')\n",
    "print(f'Model training score:  {model_GM.score(X_train, y_train)}')"
   ]
  },
  {
   "cell_type": "markdown",
   "metadata": {},
   "source": [
    "# Logistic Modeling"
   ]
  },
  {
   "cell_type": "markdown",
   "metadata": {},
   "source": [
    "### A1G"
   ]
  },
  {
   "cell_type": "code",
   "execution_count": 45,
   "metadata": {},
   "outputs": [
    {
     "name": "stdout",
     "output_type": "stream",
     "text": [
      "(497, 13) (497,)\n"
     ]
    }
   ],
   "source": [
    "A1G = A1G.dropna()\n",
    "A1G_LogX = A1G.drop([\"Date\",\"P/N\"],axis = 1)\n",
    "A1G_LogY = A1G[\"P/N\"]\n",
    "print(A1G_LogX.shape,A1G_LogY.shape)"
   ]
  },
  {
   "cell_type": "code",
   "execution_count": 46,
   "metadata": {},
   "outputs": [],
   "source": [
    "X_train, X_test, y_train, y_test = split(A1G_LogX, A1G_LogY, stratify=A1G_LogY)"
   ]
  },
  {
   "cell_type": "code",
   "execution_count": 47,
   "metadata": {},
   "outputs": [
    {
     "data": {
      "text/plain": [
       "LogisticRegression(C=1.0, class_weight=None, dual=False, fit_intercept=True,\n",
       "                   intercept_scaling=1, l1_ratio=None, max_iter=100,\n",
       "                   multi_class='warn', n_jobs=None, penalty='l2',\n",
       "                   random_state=None, solver='warn', tol=0.0001, verbose=0,\n",
       "                   warm_start=False)"
      ]
     },
     "execution_count": 47,
     "metadata": {},
     "output_type": "execute_result"
    }
   ],
   "source": [
    "from sklearn.linear_model import LogisticRegression\n",
    "myClassifier = LogisticRegression()\n",
    "myClassifier"
   ]
  },
  {
   "cell_type": "code",
   "execution_count": 48,
   "metadata": {},
   "outputs": [
    {
     "data": {
      "text/plain": [
       "LogisticRegression(C=1.0, class_weight=None, dual=False, fit_intercept=True,\n",
       "                   intercept_scaling=1, l1_ratio=None, max_iter=100,\n",
       "                   multi_class='warn', n_jobs=None, penalty='l2',\n",
       "                   random_state=None, solver='warn', tol=0.0001, verbose=0,\n",
       "                   warm_start=False)"
      ]
     },
     "execution_count": 48,
     "metadata": {},
     "output_type": "execute_result"
    }
   ],
   "source": [
    "myClassifier.fit(X_train,y_train)"
   ]
  },
  {
   "cell_type": "code",
   "execution_count": 49,
   "metadata": {},
   "outputs": [
    {
     "name": "stdout",
     "output_type": "stream",
     "text": [
      "Training Data Score: 0.9489247311827957\n",
      "Testing Data Score: 0.896\n"
     ]
    }
   ],
   "source": [
    "print(f\"Training Data Score: {myClassifier.score(X_train, y_train)}\")\n",
    "print(f\"Testing Data Score: {myClassifier.score(X_test, y_test)}\")"
   ]
  },
  {
   "cell_type": "code",
   "execution_count": 50,
   "metadata": {},
   "outputs": [
    {
     "name": "stdout",
     "output_type": "stream",
     "text": [
      "First 10 Predictions:  ['Positive', 'Negative ', 'Positive', 'Positive', 'Positive', 'Positive', 'Negative ', 'Negative ', 'Positive', 'Negative ']\n",
      "\n",
      "First 10 Actual labels: ['Positive', 'Negative ', 'Positive', 'Positive', 'Positive', 'Positive', 'Negative ', 'Negative ', 'Positive', 'Positive']\n"
     ]
    }
   ],
   "source": [
    "#making predictions\n",
    "myPredictions = myClassifier.predict(X_test)\n",
    "print(f\"First 10 Predictions:  {myPredictions[:10].tolist()}\\n\")\n",
    "print(f\"First 10 Actual labels: {y_test[:10].tolist()}\")"
   ]
  },
  {
   "cell_type": "code",
   "execution_count": 51,
   "metadata": {},
   "outputs": [
    {
     "data": {
      "text/html": [
       "<div>\n",
       "<style scoped>\n",
       "    .dataframe tbody tr th:only-of-type {\n",
       "        vertical-align: middle;\n",
       "    }\n",
       "\n",
       "    .dataframe tbody tr th {\n",
       "        vertical-align: top;\n",
       "    }\n",
       "\n",
       "    .dataframe thead th {\n",
       "        text-align: right;\n",
       "    }\n",
       "</style>\n",
       "<table border=\"1\" class=\"dataframe\">\n",
       "  <thead>\n",
       "    <tr style=\"text-align: right;\">\n",
       "      <th></th>\n",
       "      <th>Prediction</th>\n",
       "      <th>Actual</th>\n",
       "    </tr>\n",
       "  </thead>\n",
       "  <tbody>\n",
       "    <tr>\n",
       "      <td>0</td>\n",
       "      <td>Positive</td>\n",
       "      <td>Positive</td>\n",
       "    </tr>\n",
       "    <tr>\n",
       "      <td>1</td>\n",
       "      <td>Negative</td>\n",
       "      <td>Negative</td>\n",
       "    </tr>\n",
       "    <tr>\n",
       "      <td>2</td>\n",
       "      <td>Positive</td>\n",
       "      <td>Positive</td>\n",
       "    </tr>\n",
       "    <tr>\n",
       "      <td>3</td>\n",
       "      <td>Positive</td>\n",
       "      <td>Positive</td>\n",
       "    </tr>\n",
       "    <tr>\n",
       "      <td>4</td>\n",
       "      <td>Positive</td>\n",
       "      <td>Positive</td>\n",
       "    </tr>\n",
       "    <tr>\n",
       "      <td>...</td>\n",
       "      <td>...</td>\n",
       "      <td>...</td>\n",
       "    </tr>\n",
       "    <tr>\n",
       "      <td>120</td>\n",
       "      <td>Negative</td>\n",
       "      <td>Negative</td>\n",
       "    </tr>\n",
       "    <tr>\n",
       "      <td>121</td>\n",
       "      <td>Positive</td>\n",
       "      <td>Positive</td>\n",
       "    </tr>\n",
       "    <tr>\n",
       "      <td>122</td>\n",
       "      <td>Positive</td>\n",
       "      <td>Positive</td>\n",
       "    </tr>\n",
       "    <tr>\n",
       "      <td>123</td>\n",
       "      <td>Positive</td>\n",
       "      <td>Positive</td>\n",
       "    </tr>\n",
       "    <tr>\n",
       "      <td>124</td>\n",
       "      <td>Negative</td>\n",
       "      <td>Positive</td>\n",
       "    </tr>\n",
       "  </tbody>\n",
       "</table>\n",
       "<p>125 rows × 2 columns</p>\n",
       "</div>"
      ],
      "text/plain": [
       "    Prediction     Actual\n",
       "0     Positive   Positive\n",
       "1    Negative   Negative \n",
       "2     Positive   Positive\n",
       "3     Positive   Positive\n",
       "4     Positive   Positive\n",
       "..         ...        ...\n",
       "120  Negative   Negative \n",
       "121   Positive   Positive\n",
       "122   Positive   Positive\n",
       "123   Positive   Positive\n",
       "124  Negative    Positive\n",
       "\n",
       "[125 rows x 2 columns]"
      ]
     },
     "execution_count": 51,
     "metadata": {},
     "output_type": "execute_result"
    }
   ],
   "source": [
    "A1G_results = pd.DataFrame({\"Prediction\": myPredictions, \"Actual\": y_test}).reset_index(drop=True)\n",
    "A1G_results"
   ]
  },
  {
   "cell_type": "markdown",
   "metadata": {},
   "source": [
    "### Quantifying A1G"
   ]
  },
  {
   "cell_type": "code",
   "execution_count": 52,
   "metadata": {},
   "outputs": [
    {
     "name": "stdout",
     "output_type": "stream",
     "text": [
      "              precision    recall  f1-score   support\n",
      "\n",
      "    Positive       0.90      0.85      0.87        52\n",
      "    Negative       0.89      0.93      0.91        73\n",
      "\n",
      "    accuracy                           0.90       125\n",
      "   macro avg       0.90      0.89      0.89       125\n",
      "weighted avg       0.90      0.90      0.90       125\n",
      "\n"
     ]
    }
   ],
   "source": [
    "from sklearn.metrics import classification_report\n",
    "print(classification_report(y_test, myPredictions,\n",
    "                            target_names=[\"Positive\", \"Negative\"]))"
   ]
  },
  {
   "cell_type": "markdown",
   "metadata": {},
   "source": [
    "### BA"
   ]
  },
  {
   "cell_type": "code",
   "execution_count": 53,
   "metadata": {},
   "outputs": [
    {
     "name": "stdout",
     "output_type": "stream",
     "text": [
      "(497, 13) (497,)\n"
     ]
    }
   ],
   "source": [
    "BA = BA.dropna()\n",
    "BA_LogX = BA.drop([\"Date\",\"P/N\"],axis = 1)\n",
    "BA_LogY = BA[\"P/N\"]\n",
    "print(BA_LogX.shape,BA_LogY.shape)"
   ]
  },
  {
   "cell_type": "code",
   "execution_count": 54,
   "metadata": {},
   "outputs": [],
   "source": [
    "X_train, X_test, y_train, y_test = split(BA_LogX, BA_LogY, stratify=BA_LogY)"
   ]
  },
  {
   "cell_type": "code",
   "execution_count": 55,
   "metadata": {},
   "outputs": [
    {
     "data": {
      "text/plain": [
       "LogisticRegression(C=1.0, class_weight=None, dual=False, fit_intercept=True,\n",
       "                   intercept_scaling=1, l1_ratio=None, max_iter=100,\n",
       "                   multi_class='warn', n_jobs=None, penalty='l2',\n",
       "                   random_state=None, solver='warn', tol=0.0001, verbose=0,\n",
       "                   warm_start=False)"
      ]
     },
     "execution_count": 55,
     "metadata": {},
     "output_type": "execute_result"
    }
   ],
   "source": [
    "myClassifier.fit(X_train,y_train)"
   ]
  },
  {
   "cell_type": "code",
   "execution_count": 56,
   "metadata": {},
   "outputs": [
    {
     "name": "stdout",
     "output_type": "stream",
     "text": [
      "Training Data Score: 0.9032258064516129\n",
      "Testing Data Score: 0.912\n"
     ]
    }
   ],
   "source": [
    "print(f\"Training Data Score: {myClassifier.score(X_train, y_train)}\")\n",
    "print(f\"Testing Data Score: {myClassifier.score(X_test, y_test)}\")"
   ]
  },
  {
   "cell_type": "code",
   "execution_count": 57,
   "metadata": {},
   "outputs": [
    {
     "name": "stdout",
     "output_type": "stream",
     "text": [
      "First 10 Predictions:   ['Positive', 'Negative ', 'Negative ', 'Negative ', 'Positive', 'Positive', 'Positive', 'Negative ', 'Negative ', 'Positive']\n",
      "\n",
      "First 10 Actual labels: ['Positive', 'Negative ', 'Negative ', 'Negative ', 'Positive', 'Positive', 'Positive', 'Negative ', 'Negative ', 'Positive']\n"
     ]
    },
    {
     "data": {
      "text/html": [
       "<div>\n",
       "<style scoped>\n",
       "    .dataframe tbody tr th:only-of-type {\n",
       "        vertical-align: middle;\n",
       "    }\n",
       "\n",
       "    .dataframe tbody tr th {\n",
       "        vertical-align: top;\n",
       "    }\n",
       "\n",
       "    .dataframe thead th {\n",
       "        text-align: right;\n",
       "    }\n",
       "</style>\n",
       "<table border=\"1\" class=\"dataframe\">\n",
       "  <thead>\n",
       "    <tr style=\"text-align: right;\">\n",
       "      <th></th>\n",
       "      <th>Prediction</th>\n",
       "      <th>Actual</th>\n",
       "    </tr>\n",
       "  </thead>\n",
       "  <tbody>\n",
       "    <tr>\n",
       "      <td>0</td>\n",
       "      <td>Positive</td>\n",
       "      <td>Positive</td>\n",
       "    </tr>\n",
       "    <tr>\n",
       "      <td>1</td>\n",
       "      <td>Negative</td>\n",
       "      <td>Negative</td>\n",
       "    </tr>\n",
       "    <tr>\n",
       "      <td>2</td>\n",
       "      <td>Negative</td>\n",
       "      <td>Negative</td>\n",
       "    </tr>\n",
       "    <tr>\n",
       "      <td>3</td>\n",
       "      <td>Negative</td>\n",
       "      <td>Negative</td>\n",
       "    </tr>\n",
       "    <tr>\n",
       "      <td>4</td>\n",
       "      <td>Positive</td>\n",
       "      <td>Positive</td>\n",
       "    </tr>\n",
       "    <tr>\n",
       "      <td>...</td>\n",
       "      <td>...</td>\n",
       "      <td>...</td>\n",
       "    </tr>\n",
       "    <tr>\n",
       "      <td>120</td>\n",
       "      <td>Positive</td>\n",
       "      <td>Positive</td>\n",
       "    </tr>\n",
       "    <tr>\n",
       "      <td>121</td>\n",
       "      <td>Positive</td>\n",
       "      <td>Positive</td>\n",
       "    </tr>\n",
       "    <tr>\n",
       "      <td>122</td>\n",
       "      <td>Negative</td>\n",
       "      <td>Negative</td>\n",
       "    </tr>\n",
       "    <tr>\n",
       "      <td>123</td>\n",
       "      <td>Negative</td>\n",
       "      <td>Positive</td>\n",
       "    </tr>\n",
       "    <tr>\n",
       "      <td>124</td>\n",
       "      <td>Negative</td>\n",
       "      <td>Negative</td>\n",
       "    </tr>\n",
       "  </tbody>\n",
       "</table>\n",
       "<p>125 rows × 2 columns</p>\n",
       "</div>"
      ],
      "text/plain": [
       "    Prediction     Actual\n",
       "0     Positive   Positive\n",
       "1    Negative   Negative \n",
       "2    Negative   Negative \n",
       "3    Negative   Negative \n",
       "4     Positive   Positive\n",
       "..         ...        ...\n",
       "120   Positive   Positive\n",
       "121   Positive   Positive\n",
       "122  Negative   Negative \n",
       "123  Negative    Positive\n",
       "124  Negative   Negative \n",
       "\n",
       "[125 rows x 2 columns]"
      ]
     },
     "execution_count": 57,
     "metadata": {},
     "output_type": "execute_result"
    }
   ],
   "source": [
    "#making predictions\n",
    "myPredictions = myClassifier.predict(X_test)\n",
    "print(f\"First 10 Predictions:   {myPredictions[:10].tolist()}\\n\")\n",
    "print(f\"First 10 Actual labels: {y_test[:10].tolist()}\")\n",
    "BA_results = pd.DataFrame({\"Prediction\": myPredictions, \"Actual\": y_test}).reset_index(drop=True)\n",
    "BA_results"
   ]
  },
  {
   "cell_type": "code",
   "execution_count": 58,
   "metadata": {},
   "outputs": [
    {
     "name": "stdout",
     "output_type": "stream",
     "text": [
      "              precision    recall  f1-score   support\n",
      "\n",
      "    Positive       0.88      0.95      0.92        63\n",
      "    Negative       0.95      0.87      0.91        62\n",
      "\n",
      "    accuracy                           0.91       125\n",
      "   macro avg       0.91      0.91      0.91       125\n",
      "weighted avg       0.91      0.91      0.91       125\n",
      "\n"
     ]
    }
   ],
   "source": [
    "print(classification_report(y_test, myPredictions,\n",
    "                            target_names=[\"Positive\", \"Negative\"]))"
   ]
  },
  {
   "cell_type": "markdown",
   "metadata": {},
   "source": [
    "### CSX"
   ]
  },
  {
   "cell_type": "code",
   "execution_count": 59,
   "metadata": {},
   "outputs": [
    {
     "name": "stdout",
     "output_type": "stream",
     "text": [
      "(497, 13) (497,)\n"
     ]
    }
   ],
   "source": [
    "CSX = CSX.dropna()\n",
    "CSX_LogX = CSX.drop([\"Date\",\"P/N\"],axis = 1)\n",
    "CSX_LogY = CSX[\"P/N\"]\n",
    "print(CSX_LogX.shape,CSX_LogY.shape)"
   ]
  },
  {
   "cell_type": "code",
   "execution_count": 60,
   "metadata": {},
   "outputs": [],
   "source": [
    "X_train, X_test, y_train, y_test = split(CSX_LogX, CSX_LogY, stratify= CSX_LogY)"
   ]
  },
  {
   "cell_type": "code",
   "execution_count": 61,
   "metadata": {},
   "outputs": [
    {
     "data": {
      "text/plain": [
       "LogisticRegression(C=1.0, class_weight=None, dual=False, fit_intercept=True,\n",
       "                   intercept_scaling=1, l1_ratio=None, max_iter=100,\n",
       "                   multi_class='warn', n_jobs=None, penalty='l2',\n",
       "                   random_state=None, solver='warn', tol=0.0001, verbose=0,\n",
       "                   warm_start=False)"
      ]
     },
     "execution_count": 61,
     "metadata": {},
     "output_type": "execute_result"
    }
   ],
   "source": [
    "myClassifier.fit(X_train,y_train)"
   ]
  },
  {
   "cell_type": "code",
   "execution_count": 62,
   "metadata": {},
   "outputs": [
    {
     "name": "stdout",
     "output_type": "stream",
     "text": [
      "Training Data Score: 0.5268817204301075\n",
      "Testing Data Score: 0.528\n"
     ]
    }
   ],
   "source": [
    "print(f\"Training Data Score: {myClassifier.score(X_train, y_train)}\")\n",
    "print(f\"Testing Data Score: {myClassifier.score(X_test, y_test)}\")"
   ]
  },
  {
   "cell_type": "code",
   "execution_count": 63,
   "metadata": {},
   "outputs": [
    {
     "name": "stdout",
     "output_type": "stream",
     "text": [
      "First 10 Predictions:   ['Positive', 'Positive', 'Positive', 'Positive', 'Positive', 'Positive', 'Positive', 'Positive', 'Positive', 'Positive']\n",
      "\n",
      "First 10 Actual labels: ['Negative ', 'Negative ', 'Positive', 'Negative ', 'Negative ', 'Positive', 'Negative ', 'Positive', 'Positive', 'Positive']\n"
     ]
    },
    {
     "data": {
      "text/html": [
       "<div>\n",
       "<style scoped>\n",
       "    .dataframe tbody tr th:only-of-type {\n",
       "        vertical-align: middle;\n",
       "    }\n",
       "\n",
       "    .dataframe tbody tr th {\n",
       "        vertical-align: top;\n",
       "    }\n",
       "\n",
       "    .dataframe thead th {\n",
       "        text-align: right;\n",
       "    }\n",
       "</style>\n",
       "<table border=\"1\" class=\"dataframe\">\n",
       "  <thead>\n",
       "    <tr style=\"text-align: right;\">\n",
       "      <th></th>\n",
       "      <th>Prediction</th>\n",
       "      <th>Actual</th>\n",
       "    </tr>\n",
       "  </thead>\n",
       "  <tbody>\n",
       "    <tr>\n",
       "      <td>0</td>\n",
       "      <td>Positive</td>\n",
       "      <td>Negative</td>\n",
       "    </tr>\n",
       "    <tr>\n",
       "      <td>1</td>\n",
       "      <td>Positive</td>\n",
       "      <td>Negative</td>\n",
       "    </tr>\n",
       "    <tr>\n",
       "      <td>2</td>\n",
       "      <td>Positive</td>\n",
       "      <td>Positive</td>\n",
       "    </tr>\n",
       "    <tr>\n",
       "      <td>3</td>\n",
       "      <td>Positive</td>\n",
       "      <td>Negative</td>\n",
       "    </tr>\n",
       "    <tr>\n",
       "      <td>4</td>\n",
       "      <td>Positive</td>\n",
       "      <td>Negative</td>\n",
       "    </tr>\n",
       "    <tr>\n",
       "      <td>...</td>\n",
       "      <td>...</td>\n",
       "      <td>...</td>\n",
       "    </tr>\n",
       "    <tr>\n",
       "      <td>120</td>\n",
       "      <td>Positive</td>\n",
       "      <td>Negative</td>\n",
       "    </tr>\n",
       "    <tr>\n",
       "      <td>121</td>\n",
       "      <td>Positive</td>\n",
       "      <td>Negative</td>\n",
       "    </tr>\n",
       "    <tr>\n",
       "      <td>122</td>\n",
       "      <td>Positive</td>\n",
       "      <td>Positive</td>\n",
       "    </tr>\n",
       "    <tr>\n",
       "      <td>123</td>\n",
       "      <td>Positive</td>\n",
       "      <td>Negative</td>\n",
       "    </tr>\n",
       "    <tr>\n",
       "      <td>124</td>\n",
       "      <td>Positive</td>\n",
       "      <td>Negative</td>\n",
       "    </tr>\n",
       "  </tbody>\n",
       "</table>\n",
       "<p>125 rows × 2 columns</p>\n",
       "</div>"
      ],
      "text/plain": [
       "    Prediction     Actual\n",
       "0     Positive  Negative \n",
       "1     Positive  Negative \n",
       "2     Positive   Positive\n",
       "3     Positive  Negative \n",
       "4     Positive  Negative \n",
       "..         ...        ...\n",
       "120   Positive  Negative \n",
       "121   Positive  Negative \n",
       "122   Positive   Positive\n",
       "123   Positive  Negative \n",
       "124   Positive  Negative \n",
       "\n",
       "[125 rows x 2 columns]"
      ]
     },
     "execution_count": 63,
     "metadata": {},
     "output_type": "execute_result"
    }
   ],
   "source": [
    "myPredictions = myClassifier.predict(X_test)\n",
    "print(f\"First 10 Predictions:   {myPredictions[:10].tolist()}\\n\")\n",
    "print(f\"First 10 Actual labels: {y_test[:10].tolist()}\")\n",
    "CSX_results = pd.DataFrame({\"Prediction\": myPredictions, \"Actual\": y_test}).reset_index(drop=True)\n",
    "CSX_results"
   ]
  },
  {
   "cell_type": "code",
   "execution_count": 64,
   "metadata": {},
   "outputs": [
    {
     "name": "stdout",
     "output_type": "stream",
     "text": [
      "              precision    recall  f1-score   support\n",
      "\n",
      "    Positive       0.00      0.00      0.00        59\n",
      "    Negative       0.53      1.00      0.69        66\n",
      "\n",
      "    accuracy                           0.53       125\n",
      "   macro avg       0.26      0.50      0.35       125\n",
      "weighted avg       0.28      0.53      0.36       125\n",
      "\n"
     ]
    }
   ],
   "source": [
    "print(classification_report(y_test, myPredictions,\n",
    "                            target_names=[\"Positive\", \"Negative\"]))"
   ]
  },
  {
   "cell_type": "markdown",
   "metadata": {},
   "source": [
    "### GM"
   ]
  },
  {
   "cell_type": "code",
   "execution_count": 65,
   "metadata": {},
   "outputs": [
    {
     "name": "stdout",
     "output_type": "stream",
     "text": [
      "(497, 13) (497,)\n"
     ]
    }
   ],
   "source": [
    "GM = GM.dropna()\n",
    "GM_LogX = GM.drop([\"Date\",\"P/N\"],axis = 1)\n",
    "GM_LogY = GM[\"P/N\"]\n",
    "print(GM_LogX.shape,GM_LogY.shape)"
   ]
  },
  {
   "cell_type": "code",
   "execution_count": 66,
   "metadata": {},
   "outputs": [],
   "source": [
    "X_train, X_test, y_train, y_test = split(GM_LogX, GM_LogY, stratify= GM_LogY)"
   ]
  },
  {
   "cell_type": "code",
   "execution_count": 67,
   "metadata": {},
   "outputs": [
    {
     "data": {
      "text/plain": [
       "LogisticRegression(C=1.0, class_weight=None, dual=False, fit_intercept=True,\n",
       "                   intercept_scaling=1, l1_ratio=None, max_iter=100,\n",
       "                   multi_class='warn', n_jobs=None, penalty='l2',\n",
       "                   random_state=None, solver='warn', tol=0.0001, verbose=0,\n",
       "                   warm_start=False)"
      ]
     },
     "execution_count": 67,
     "metadata": {},
     "output_type": "execute_result"
    }
   ],
   "source": [
    "myClassifier.fit(X_train,y_train)"
   ]
  },
  {
   "cell_type": "code",
   "execution_count": 68,
   "metadata": {},
   "outputs": [
    {
     "name": "stdout",
     "output_type": "stream",
     "text": [
      "Training Data Score: 0.5241935483870968\n",
      "Testing Data Score: 0.52\n"
     ]
    }
   ],
   "source": [
    "print(f\"Training Data Score: {myClassifier.score(X_train, y_train)}\")\n",
    "print(f\"Testing Data Score: {myClassifier.score(X_test, y_test)}\")"
   ]
  },
  {
   "cell_type": "code",
   "execution_count": 69,
   "metadata": {},
   "outputs": [
    {
     "name": "stdout",
     "output_type": "stream",
     "text": [
      "First 10 Predictions:   ['Negative ', 'Negative ', 'Negative ', 'Negative ', 'Negative ', 'Negative ', 'Negative ', 'Negative ', 'Negative ', 'Negative ']\n",
      "\n",
      "First 10 Actual labels: ['Negative ', 'Positive', 'Positive', 'Negative ', 'Negative ', 'Negative ', 'Positive', 'Positive', 'Negative ', 'Positive']\n"
     ]
    },
    {
     "data": {
      "text/html": [
       "<div>\n",
       "<style scoped>\n",
       "    .dataframe tbody tr th:only-of-type {\n",
       "        vertical-align: middle;\n",
       "    }\n",
       "\n",
       "    .dataframe tbody tr th {\n",
       "        vertical-align: top;\n",
       "    }\n",
       "\n",
       "    .dataframe thead th {\n",
       "        text-align: right;\n",
       "    }\n",
       "</style>\n",
       "<table border=\"1\" class=\"dataframe\">\n",
       "  <thead>\n",
       "    <tr style=\"text-align: right;\">\n",
       "      <th></th>\n",
       "      <th>Prediction</th>\n",
       "      <th>Actual</th>\n",
       "    </tr>\n",
       "  </thead>\n",
       "  <tbody>\n",
       "    <tr>\n",
       "      <td>0</td>\n",
       "      <td>Negative</td>\n",
       "      <td>Negative</td>\n",
       "    </tr>\n",
       "    <tr>\n",
       "      <td>1</td>\n",
       "      <td>Negative</td>\n",
       "      <td>Positive</td>\n",
       "    </tr>\n",
       "    <tr>\n",
       "      <td>2</td>\n",
       "      <td>Negative</td>\n",
       "      <td>Positive</td>\n",
       "    </tr>\n",
       "    <tr>\n",
       "      <td>3</td>\n",
       "      <td>Negative</td>\n",
       "      <td>Negative</td>\n",
       "    </tr>\n",
       "    <tr>\n",
       "      <td>4</td>\n",
       "      <td>Negative</td>\n",
       "      <td>Negative</td>\n",
       "    </tr>\n",
       "    <tr>\n",
       "      <td>...</td>\n",
       "      <td>...</td>\n",
       "      <td>...</td>\n",
       "    </tr>\n",
       "    <tr>\n",
       "      <td>120</td>\n",
       "      <td>Negative</td>\n",
       "      <td>Negative</td>\n",
       "    </tr>\n",
       "    <tr>\n",
       "      <td>121</td>\n",
       "      <td>Negative</td>\n",
       "      <td>Negative</td>\n",
       "    </tr>\n",
       "    <tr>\n",
       "      <td>122</td>\n",
       "      <td>Negative</td>\n",
       "      <td>Negative</td>\n",
       "    </tr>\n",
       "    <tr>\n",
       "      <td>123</td>\n",
       "      <td>Negative</td>\n",
       "      <td>Positive</td>\n",
       "    </tr>\n",
       "    <tr>\n",
       "      <td>124</td>\n",
       "      <td>Negative</td>\n",
       "      <td>Negative</td>\n",
       "    </tr>\n",
       "  </tbody>\n",
       "</table>\n",
       "<p>125 rows × 2 columns</p>\n",
       "</div>"
      ],
      "text/plain": [
       "    Prediction     Actual\n",
       "0    Negative   Negative \n",
       "1    Negative    Positive\n",
       "2    Negative    Positive\n",
       "3    Negative   Negative \n",
       "4    Negative   Negative \n",
       "..         ...        ...\n",
       "120  Negative   Negative \n",
       "121  Negative   Negative \n",
       "122  Negative   Negative \n",
       "123  Negative    Positive\n",
       "124  Negative   Negative \n",
       "\n",
       "[125 rows x 2 columns]"
      ]
     },
     "execution_count": 69,
     "metadata": {},
     "output_type": "execute_result"
    }
   ],
   "source": [
    "myPredictions = myClassifier.predict(X_test)\n",
    "print(f\"First 10 Predictions:   {myPredictions[:10].tolist()}\\n\")\n",
    "print(f\"First 10 Actual labels: {y_test[:10].tolist()}\")\n",
    "GM_results = pd.DataFrame({\"Prediction\": myPredictions, \"Actual\": y_test}).reset_index(drop=True)\n",
    "GM_results"
   ]
  },
  {
   "cell_type": "code",
   "execution_count": 70,
   "metadata": {},
   "outputs": [
    {
     "name": "stdout",
     "output_type": "stream",
     "text": [
      "              precision    recall  f1-score   support\n",
      "\n",
      "    Positive       0.52      1.00      0.68        65\n",
      "    Negative       0.00      0.00      0.00        60\n",
      "\n",
      "    accuracy                           0.52       125\n",
      "   macro avg       0.26      0.50      0.34       125\n",
      "weighted avg       0.27      0.52      0.36       125\n",
      "\n"
     ]
    }
   ],
   "source": [
    "print(classification_report(y_test, myPredictions,\n",
    "                            target_names=[\"Positive\", \"Negative\"]))"
   ]
  },
  {
   "cell_type": "code",
   "execution_count": null,
   "metadata": {},
   "outputs": [],
   "source": []
  }
 ],
 "metadata": {
  "kernelspec": {
   "display_name": "Python 3",
   "language": "python",
   "name": "python3"
  },
  "language_info": {
   "codemirror_mode": {
    "name": "ipython",
    "version": 3
   },
   "file_extension": ".py",
   "mimetype": "text/x-python",
   "name": "python",
   "nbconvert_exporter": "python",
   "pygments_lexer": "ipython3",
   "version": "3.7.3"
  }
 },
 "nbformat": 4,
 "nbformat_minor": 2
}
