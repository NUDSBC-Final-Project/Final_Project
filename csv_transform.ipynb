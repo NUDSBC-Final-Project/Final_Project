{
 "cells": [
  {
   "cell_type": "code",
   "execution_count": 1,
   "metadata": {},
   "outputs": [],
   "source": [
    "import pandas as pd\n",
    "import numpy as np"
   ]
  },
  {
   "cell_type": "code",
   "execution_count": 2,
   "metadata": {},
   "outputs": [],
   "source": [
    "url_SNP = \"Resources/S&P500.csv\"\n",
    "url_MSFT = \"Resources/MSFT.csv\"\n",
    "url_BAC = \"Resources/BAC.csv\"\n",
    "url_BA = \"Resources/BA.csv\"\n",
    "url_PFE = \"Resources/PFE.csv\"\n",
    "url_X = \"Resources/X.csv\""
   ]
  },
  {
   "cell_type": "code",
   "execution_count": 3,
   "metadata": {},
   "outputs": [],
   "source": [
    "SNP_df = pd.read_csv(url_SNP)\n",
    "MSFT_df = pd.read_csv(url_MSFT)\n",
    "BAC_df = pd.read_csv(url_BAC)\n",
    "BA_df = pd.read_csv(url_BA)\n",
    "PFE_df = pd.read_csv(url_PFE)\n",
    "X_df = pd.read_csv(url_X)"
   ]
  },
  {
   "cell_type": "code",
   "execution_count": 4,
   "metadata": {},
   "outputs": [],
   "source": [
    "SNP_df[\"P/N\"] = np.where(SNP_df.eval(\"Open < Close\"), \"Positive\", \"Negative \")\n",
    "MSFT_df[\"P/N\"] = np.where(SNP_df.eval(\"Open < Close\"), \"Positive\", \"Negative \")\n",
    "BAC_df[\"P/N\"] = np.where(SNP_df.eval(\"Open < Close\"), \"Positive\", \"Negative \")\n",
    "BA_df[\"P/N\"] = np.where(SNP_df.eval(\"Open < Close\"), \"Positive\", \"Negative \")\n",
    "PFE_df[\"P/N\"] = np.where(SNP_df.eval(\"Open < Close\"), \"Positive\", \"Negative \")\n",
    "X_df[\"P/N\"] = np.where(SNP_df.eval(\"Open < Close\"), \"Positive\", \"Negative \")"
   ]
  },
  {
   "cell_type": "code",
   "execution_count": 5,
   "metadata": {},
   "outputs": [
    {
     "ename": "TypeError",
     "evalue": "unsupported operand type(s) for -: 'str' and 'str'",
     "output_type": "error",
     "traceback": [
      "\u001b[1;31m---------------------------------------------------------------------------\u001b[0m",
      "\u001b[1;31mTypeError\u001b[0m                                 Traceback (most recent call last)",
      "\u001b[1;32m<ipython-input-5-47a236b0cd0a>\u001b[0m in \u001b[0;36m<module>\u001b[1;34m\u001b[0m\n\u001b[1;32m----> 1\u001b[1;33m \u001b[0mSNP_df\u001b[0m\u001b[1;33m[\u001b[0m\u001b[1;34m'Daily_Change'\u001b[0m\u001b[1;33m]\u001b[0m \u001b[1;33m=\u001b[0m \u001b[0mSNP_df\u001b[0m\u001b[1;33m.\u001b[0m\u001b[0mClose\u001b[0m\u001b[1;33m.\u001b[0m\u001b[0mdiff\u001b[0m\u001b[1;33m(\u001b[0m\u001b[1;33m)\u001b[0m\u001b[1;33m\u001b[0m\u001b[1;33m\u001b[0m\u001b[0m\n\u001b[0m\u001b[0;32m      2\u001b[0m \u001b[0mMSFT_df\u001b[0m\u001b[1;33m[\u001b[0m\u001b[1;34m'Daily_Change'\u001b[0m\u001b[1;33m]\u001b[0m \u001b[1;33m=\u001b[0m \u001b[0mMSFT_df\u001b[0m\u001b[1;33m.\u001b[0m\u001b[0mClose\u001b[0m\u001b[1;33m.\u001b[0m\u001b[0mdiff\u001b[0m\u001b[1;33m(\u001b[0m\u001b[1;33m)\u001b[0m\u001b[1;33m\u001b[0m\u001b[1;33m\u001b[0m\u001b[0m\n\u001b[0;32m      3\u001b[0m \u001b[0mBAC_df\u001b[0m\u001b[1;33m[\u001b[0m\u001b[1;34m'Daily_Change'\u001b[0m\u001b[1;33m]\u001b[0m \u001b[1;33m=\u001b[0m \u001b[0mBAC_df\u001b[0m\u001b[1;33m.\u001b[0m\u001b[0mClose\u001b[0m\u001b[1;33m.\u001b[0m\u001b[0mdiff\u001b[0m\u001b[1;33m(\u001b[0m\u001b[1;33m)\u001b[0m\u001b[1;33m\u001b[0m\u001b[1;33m\u001b[0m\u001b[0m\n\u001b[0;32m      4\u001b[0m \u001b[0mBA_df\u001b[0m\u001b[1;33m[\u001b[0m\u001b[1;34m'Daily_Change'\u001b[0m\u001b[1;33m]\u001b[0m \u001b[1;33m=\u001b[0m \u001b[0mBA_df\u001b[0m\u001b[1;33m.\u001b[0m\u001b[0mClose\u001b[0m\u001b[1;33m.\u001b[0m\u001b[0mdiff\u001b[0m\u001b[1;33m(\u001b[0m\u001b[1;33m)\u001b[0m\u001b[1;33m\u001b[0m\u001b[1;33m\u001b[0m\u001b[0m\n\u001b[0;32m      5\u001b[0m \u001b[0mPFE_df\u001b[0m\u001b[1;33m[\u001b[0m\u001b[1;34m'Daily_Change'\u001b[0m\u001b[1;33m]\u001b[0m \u001b[1;33m=\u001b[0m \u001b[0mPFE_df\u001b[0m\u001b[1;33m.\u001b[0m\u001b[0mClose\u001b[0m\u001b[1;33m.\u001b[0m\u001b[0mdiff\u001b[0m\u001b[1;33m(\u001b[0m\u001b[1;33m)\u001b[0m\u001b[1;33m\u001b[0m\u001b[1;33m\u001b[0m\u001b[0m\n",
      "\u001b[1;32m~\\Anaconda3\\lib\\site-packages\\pandas\\core\\series.py\u001b[0m in \u001b[0;36mdiff\u001b[1;34m(self, periods)\u001b[0m\n\u001b[0;32m   2191\u001b[0m         \u001b[0mdtype\u001b[0m\u001b[1;33m:\u001b[0m \u001b[0mfloat64\u001b[0m\u001b[1;33m\u001b[0m\u001b[1;33m\u001b[0m\u001b[0m\n\u001b[0;32m   2192\u001b[0m         \"\"\"\n\u001b[1;32m-> 2193\u001b[1;33m         \u001b[0mresult\u001b[0m \u001b[1;33m=\u001b[0m \u001b[0malgorithms\u001b[0m\u001b[1;33m.\u001b[0m\u001b[0mdiff\u001b[0m\u001b[1;33m(\u001b[0m\u001b[0mcom\u001b[0m\u001b[1;33m.\u001b[0m\u001b[0mvalues_from_object\u001b[0m\u001b[1;33m(\u001b[0m\u001b[0mself\u001b[0m\u001b[1;33m)\u001b[0m\u001b[1;33m,\u001b[0m \u001b[0mperiods\u001b[0m\u001b[1;33m)\u001b[0m\u001b[1;33m\u001b[0m\u001b[1;33m\u001b[0m\u001b[0m\n\u001b[0m\u001b[0;32m   2194\u001b[0m         \u001b[1;32mreturn\u001b[0m \u001b[0mself\u001b[0m\u001b[1;33m.\u001b[0m\u001b[0m_constructor\u001b[0m\u001b[1;33m(\u001b[0m\u001b[0mresult\u001b[0m\u001b[1;33m,\u001b[0m \u001b[0mindex\u001b[0m\u001b[1;33m=\u001b[0m\u001b[0mself\u001b[0m\u001b[1;33m.\u001b[0m\u001b[0mindex\u001b[0m\u001b[1;33m)\u001b[0m\u001b[1;33m.\u001b[0m\u001b[0m__finalize__\u001b[0m\u001b[1;33m(\u001b[0m\u001b[0mself\u001b[0m\u001b[1;33m)\u001b[0m\u001b[1;33m\u001b[0m\u001b[1;33m\u001b[0m\u001b[0m\n\u001b[0;32m   2195\u001b[0m \u001b[1;33m\u001b[0m\u001b[0m\n",
      "\u001b[1;32m~\\Anaconda3\\lib\\site-packages\\pandas\\core\\algorithms.py\u001b[0m in \u001b[0;36mdiff\u001b[1;34m(arr, n, axis)\u001b[0m\n\u001b[0;32m   1817\u001b[0m             \u001b[0mout_arr\u001b[0m\u001b[1;33m[\u001b[0m\u001b[0mres_indexer\u001b[0m\u001b[1;33m]\u001b[0m \u001b[1;33m=\u001b[0m \u001b[0mresult\u001b[0m\u001b[1;33m\u001b[0m\u001b[1;33m\u001b[0m\u001b[0m\n\u001b[0;32m   1818\u001b[0m         \u001b[1;32melse\u001b[0m\u001b[1;33m:\u001b[0m\u001b[1;33m\u001b[0m\u001b[1;33m\u001b[0m\u001b[0m\n\u001b[1;32m-> 1819\u001b[1;33m             \u001b[0mout_arr\u001b[0m\u001b[1;33m[\u001b[0m\u001b[0mres_indexer\u001b[0m\u001b[1;33m]\u001b[0m \u001b[1;33m=\u001b[0m \u001b[0marr\u001b[0m\u001b[1;33m[\u001b[0m\u001b[0mres_indexer\u001b[0m\u001b[1;33m]\u001b[0m \u001b[1;33m-\u001b[0m \u001b[0marr\u001b[0m\u001b[1;33m[\u001b[0m\u001b[0mlag_indexer\u001b[0m\u001b[1;33m]\u001b[0m\u001b[1;33m\u001b[0m\u001b[1;33m\u001b[0m\u001b[0m\n\u001b[0m\u001b[0;32m   1820\u001b[0m \u001b[1;33m\u001b[0m\u001b[0m\n\u001b[0;32m   1821\u001b[0m     \u001b[1;32mif\u001b[0m \u001b[0mis_timedelta\u001b[0m\u001b[1;33m:\u001b[0m\u001b[1;33m\u001b[0m\u001b[1;33m\u001b[0m\u001b[0m\n",
      "\u001b[1;31mTypeError\u001b[0m: unsupported operand type(s) for -: 'str' and 'str'"
     ]
    }
   ],
   "source": [
    "SNP_df['Daily_Change'] = SNP_df.Close.diff()\n",
    "MSFT_df['Daily_Change'] = MSFT_df.Close.diff()\n",
    "BAC_df['Daily_Change'] = BAC_df.Close.diff()\n",
    "BA_df['Daily_Change'] = BA_df.Close.diff()\n",
    "PFE_df['Daily_Change'] = PFE_df.Close.diff()\n",
    "X_df['Daily_Change'] = X_df.Close.diff()"
   ]
  },
  {
   "cell_type": "code",
   "execution_count": 81,
   "metadata": {},
   "outputs": [],
   "source": [
    "SNP_df['Daily_%_Change'] = SNP_df.Close.pct_change() * 100\n",
    "MSFT_df['Daily_%_Change'] = MSFT_df.Close.pct_change() * 100\n",
    "BAC_df['Daily_%_Change'] = BAC_df.Close.pct_change() * 100\n",
    "BA_df['Daily_%_Change'] = BA_df.Close.pct_change() * 100\n",
    "PFE_df['Daily_%_Change'] = PFE_df.Close.pct_change() * 100\n",
    "X_df['Daily_%_Change'] = X_df.Close.pct_change() * 100"
   ]
  },
  {
   "cell_type": "code",
   "execution_count": 82,
   "metadata": {},
   "outputs": [],
   "source": [
    "SNP_df['Future_Change'] = SNP_df.Close.diff(periods=-1) * -1\n",
    "MSFT_df['Future_Change'] = MSFT_df.Close.diff(periods=-1) * -1\n",
    "BAC_df['Future_Change'] = BAC_df.Close.diff(periods=-1) * -1\n",
    "BA_df['Future_Change'] = BA_df.Close.diff(periods=-1) * -1\n",
    "PFE_df['Future_Change'] = PFE_df.Close.diff(periods=-1) * -1\n",
    "X_df['Future_Change'] = X_df.Close.diff(periods=-1) * -1"
   ]
  },
  {
   "cell_type": "code",
   "execution_count": 85,
   "metadata": {},
   "outputs": [],
   "source": [
    "# SNP_df.head()\n",
    "# MSFT_df.head()\n",
    "# BAC_df.head()\n",
    "# BA_df.head()\n",
    "# PFE_df.head()\n",
    "# X_df.head()"
   ]
  },
  {
   "cell_type": "code",
   "execution_count": 86,
   "metadata": {},
   "outputs": [],
   "source": [
    "SNP_df.to_csv(\"Resources/S&P500.csv\")\n",
    "MSFT_df.to_csv(\"Resources/MSFT.csv\")\n",
    "BAC_df.to_csv(\"Resources/BAC.csv\")\n",
    "BA_df.to_csv(\"Resources/BA.csv\")\n",
    "PFE_df.to_csv(\"Resources/PFE.csv\")\n",
    "X_df.to_csv(\"Resources/X.csv\")"
   ]
  },
  {
   "cell_type": "code",
   "execution_count": null,
   "metadata": {},
   "outputs": [],
   "source": []
  }
 ],
 "metadata": {
  "kernelspec": {
   "display_name": "Python 3",
   "language": "python",
   "name": "python3"
  },
  "language_info": {
   "codemirror_mode": {
    "name": "ipython",
    "version": 3
   },
   "file_extension": ".py",
   "mimetype": "text/x-python",
   "name": "python",
   "nbconvert_exporter": "python",
   "pygments_lexer": "ipython3",
   "version": "3.7.3"
  }
 },
 "nbformat": 4,
 "nbformat_minor": 2
}
