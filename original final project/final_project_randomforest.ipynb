{
 "cells": [
  {
   "cell_type": "code",
   "execution_count": 23,
   "metadata": {},
   "outputs": [],
   "source": [
    "from sklearn import tree\n",
    "import matplotlib.pyplot as plt\n",
    "import numpy as np\n",
    "import pandas as pd"
   ]
  },
  {
   "cell_type": "code",
   "execution_count": 24,
   "metadata": {},
   "outputs": [
    {
     "data": {
      "text/html": [
       "<div>\n",
       "<style scoped>\n",
       "    .dataframe tbody tr th:only-of-type {\n",
       "        vertical-align: middle;\n",
       "    }\n",
       "\n",
       "    .dataframe tbody tr th {\n",
       "        vertical-align: top;\n",
       "    }\n",
       "\n",
       "    .dataframe thead th {\n",
       "        text-align: right;\n",
       "    }\n",
       "</style>\n",
       "<table border=\"1\" class=\"dataframe\">\n",
       "  <thead>\n",
       "    <tr style=\"text-align: right;\">\n",
       "      <th></th>\n",
       "      <th>Unnamed: 0</th>\n",
       "      <th>Date</th>\n",
       "      <th>Open Price</th>\n",
       "      <th>Day High</th>\n",
       "      <th>Day Low</th>\n",
       "      <th>Close Price</th>\n",
       "      <th>P/N</th>\n",
       "      <th>Negative Value</th>\n",
       "      <th>Positive Value</th>\n",
       "      <th>Neutral Value</th>\n",
       "    </tr>\n",
       "  </thead>\n",
       "  <tbody>\n",
       "    <tr>\n",
       "      <th>0</th>\n",
       "      <td>0</td>\n",
       "      <td>2019-01-02</td>\n",
       "      <td>24.080000</td>\n",
       "      <td>25.139999</td>\n",
       "      <td>24.010000</td>\n",
       "      <td>24.959999</td>\n",
       "      <td>Positive</td>\n",
       "      <td>0.053667</td>\n",
       "      <td>0.191000</td>\n",
       "      <td>0.755333</td>\n",
       "    </tr>\n",
       "    <tr>\n",
       "      <th>1</th>\n",
       "      <td>1</td>\n",
       "      <td>2019-01-03</td>\n",
       "      <td>24.940001</td>\n",
       "      <td>25.040001</td>\n",
       "      <td>24.450001</td>\n",
       "      <td>24.559999</td>\n",
       "      <td>Negative</td>\n",
       "      <td>0.051000</td>\n",
       "      <td>0.160778</td>\n",
       "      <td>0.788333</td>\n",
       "    </tr>\n",
       "    <tr>\n",
       "      <th>2</th>\n",
       "      <td>2</td>\n",
       "      <td>2019-01-04</td>\n",
       "      <td>25.100000</td>\n",
       "      <td>25.650000</td>\n",
       "      <td>25.030001</td>\n",
       "      <td>25.580000</td>\n",
       "      <td>Positive</td>\n",
       "      <td>0.033571</td>\n",
       "      <td>0.183429</td>\n",
       "      <td>0.783000</td>\n",
       "    </tr>\n",
       "    <tr>\n",
       "      <th>3</th>\n",
       "      <td>3</td>\n",
       "      <td>2019-01-07</td>\n",
       "      <td>25.559999</td>\n",
       "      <td>25.780001</td>\n",
       "      <td>25.290001</td>\n",
       "      <td>25.559999</td>\n",
       "      <td>Positive</td>\n",
       "      <td>0.150833</td>\n",
       "      <td>0.117500</td>\n",
       "      <td>0.731667</td>\n",
       "    </tr>\n",
       "    <tr>\n",
       "      <th>4</th>\n",
       "      <td>4</td>\n",
       "      <td>2019-01-08</td>\n",
       "      <td>25.719999</td>\n",
       "      <td>25.790001</td>\n",
       "      <td>25.090000</td>\n",
       "      <td>25.510000</td>\n",
       "      <td>Positive</td>\n",
       "      <td>0.054200</td>\n",
       "      <td>0.299000</td>\n",
       "      <td>0.646600</td>\n",
       "    </tr>\n",
       "  </tbody>\n",
       "</table>\n",
       "</div>"
      ],
      "text/plain": [
       "   Unnamed: 0        Date  Open Price   Day High    Day Low  Close Price  \\\n",
       "0           0  2019-01-02   24.080000  25.139999  24.010000    24.959999   \n",
       "1           1  2019-01-03   24.940001  25.040001  24.450001    24.559999   \n",
       "2           2  2019-01-04   25.100000  25.650000  25.030001    25.580000   \n",
       "3           3  2019-01-07   25.559999  25.780001  25.290001    25.559999   \n",
       "4           4  2019-01-08   25.719999  25.790001  25.090000    25.510000   \n",
       "\n",
       "         P/N  Negative Value  Positive Value  Neutral Value  \n",
       "0   Positive        0.053667        0.191000       0.755333  \n",
       "1  Negative         0.051000        0.160778       0.788333  \n",
       "2   Positive        0.033571        0.183429       0.783000  \n",
       "3   Positive        0.150833        0.117500       0.731667  \n",
       "4   Positive        0.054200        0.299000       0.646600  "
      ]
     },
     "execution_count": 24,
     "metadata": {},
     "output_type": "execute_result"
    }
   ],
   "source": [
    "df = pd.read_csv(\"Stock Tweets.csv\")\n",
    "df.head()"
   ]
  },
  {
   "cell_type": "code",
   "execution_count": 25,
   "metadata": {},
   "outputs": [],
   "source": [
    "target = df['P/N']\n",
    "target_names = [\"negative\", \"positive\"]"
   ]
  },
  {
   "cell_type": "code",
   "execution_count": 26,
   "metadata": {},
   "outputs": [
    {
     "data": {
      "text/html": [
       "<div>\n",
       "<style scoped>\n",
       "    .dataframe tbody tr th:only-of-type {\n",
       "        vertical-align: middle;\n",
       "    }\n",
       "\n",
       "    .dataframe tbody tr th {\n",
       "        vertical-align: top;\n",
       "    }\n",
       "\n",
       "    .dataframe thead th {\n",
       "        text-align: right;\n",
       "    }\n",
       "</style>\n",
       "<table border=\"1\" class=\"dataframe\">\n",
       "  <thead>\n",
       "    <tr style=\"text-align: right;\">\n",
       "      <th></th>\n",
       "      <th>Open Price</th>\n",
       "      <th>Day High</th>\n",
       "      <th>Day Low</th>\n",
       "      <th>Close Price</th>\n",
       "      <th>Negative Value</th>\n",
       "      <th>Positive Value</th>\n",
       "      <th>Neutral Value</th>\n",
       "    </tr>\n",
       "  </thead>\n",
       "  <tbody>\n",
       "    <tr>\n",
       "      <th>0</th>\n",
       "      <td>24.080000</td>\n",
       "      <td>25.139999</td>\n",
       "      <td>24.010000</td>\n",
       "      <td>24.959999</td>\n",
       "      <td>0.053667</td>\n",
       "      <td>0.191000</td>\n",
       "      <td>0.755333</td>\n",
       "    </tr>\n",
       "    <tr>\n",
       "      <th>1</th>\n",
       "      <td>24.940001</td>\n",
       "      <td>25.040001</td>\n",
       "      <td>24.450001</td>\n",
       "      <td>24.559999</td>\n",
       "      <td>0.051000</td>\n",
       "      <td>0.160778</td>\n",
       "      <td>0.788333</td>\n",
       "    </tr>\n",
       "    <tr>\n",
       "      <th>2</th>\n",
       "      <td>25.100000</td>\n",
       "      <td>25.650000</td>\n",
       "      <td>25.030001</td>\n",
       "      <td>25.580000</td>\n",
       "      <td>0.033571</td>\n",
       "      <td>0.183429</td>\n",
       "      <td>0.783000</td>\n",
       "    </tr>\n",
       "    <tr>\n",
       "      <th>3</th>\n",
       "      <td>25.559999</td>\n",
       "      <td>25.780001</td>\n",
       "      <td>25.290001</td>\n",
       "      <td>25.559999</td>\n",
       "      <td>0.150833</td>\n",
       "      <td>0.117500</td>\n",
       "      <td>0.731667</td>\n",
       "    </tr>\n",
       "    <tr>\n",
       "      <th>4</th>\n",
       "      <td>25.719999</td>\n",
       "      <td>25.790001</td>\n",
       "      <td>25.090000</td>\n",
       "      <td>25.510000</td>\n",
       "      <td>0.054200</td>\n",
       "      <td>0.299000</td>\n",
       "      <td>0.646600</td>\n",
       "    </tr>\n",
       "  </tbody>\n",
       "</table>\n",
       "</div>"
      ],
      "text/plain": [
       "   Open Price   Day High    Day Low  Close Price  Negative Value  \\\n",
       "0   24.080000  25.139999  24.010000    24.959999        0.053667   \n",
       "1   24.940001  25.040001  24.450001    24.559999        0.051000   \n",
       "2   25.100000  25.650000  25.030001    25.580000        0.033571   \n",
       "3   25.559999  25.780001  25.290001    25.559999        0.150833   \n",
       "4   25.719999  25.790001  25.090000    25.510000        0.054200   \n",
       "\n",
       "   Positive Value  Neutral Value  \n",
       "0        0.191000       0.755333  \n",
       "1        0.160778       0.788333  \n",
       "2        0.183429       0.783000  \n",
       "3        0.117500       0.731667  \n",
       "4        0.299000       0.646600  "
      ]
     },
     "execution_count": 26,
     "metadata": {},
     "output_type": "execute_result"
    }
   ],
   "source": [
    "data = df.drop([\"Date\", \"P/N\", \"Unnamed: 0\"], axis=1)\n",
    "feature_names = data.columns\n",
    "data.head()"
   ]
  },
  {
   "cell_type": "code",
   "execution_count": 27,
   "metadata": {},
   "outputs": [],
   "source": [
    "from sklearn.model_selection import train_test_split# implementing train-test-split\n",
    "X_train, X_test, y_train, y_test = train_test_split(data, target, test_size=0.33, random_state=66)"
   ]
  },
  {
   "cell_type": "code",
   "execution_count": 28,
   "metadata": {},
   "outputs": [
    {
     "data": {
      "text/plain": [
       "0.4880952380952381"
      ]
     },
     "execution_count": 28,
     "metadata": {},
     "output_type": "execute_result"
    }
   ],
   "source": [
    "from sklearn.ensemble import RandomForestClassifier\n",
    "rf = RandomForestClassifier(n_estimators=252)\n",
    "rf = rf.fit(X_train, y_train)\n",
    "rf.score(X_test, y_test)"
   ]
  },
  {
   "cell_type": "code",
   "execution_count": 29,
   "metadata": {},
   "outputs": [
    {
     "name": "stdout",
     "output_type": "stream",
     "text": [
      "Correct Prediction (%):  48.80952380952381\n"
     ]
    }
   ],
   "source": [
    "from sklearn.metrics import accuracy_score\n",
    "print('Correct Prediction (%): ', accuracy_score(y_test, rf.predict(X_test), normalize=True)*100.0)"
   ]
  },
  {
   "cell_type": "code",
   "execution_count": 30,
   "metadata": {},
   "outputs": [
    {
     "name": "stderr",
     "output_type": "stream",
     "text": [
      "/Users/kevinluttrell/anaconda3/lib/python3.7/site-packages/sklearn/ensemble/forest.py:245: FutureWarning: The default value of n_estimators will change from 10 in version 0.20 to 100 in 0.22.\n",
      "  \"10 in version 0.20 to 100 in 0.22.\", FutureWarning)\n"
     ]
    },
    {
     "data": {
      "text/plain": [
       "array(['Positive', 'Positive', 'Positive', 'Positive', 'Negative ',\n",
       "       'Positive', 'Negative ', 'Positive', 'Positive', 'Negative ',\n",
       "       'Positive', 'Positive', 'Positive', 'Positive', 'Positive',\n",
       "       'Negative ', 'Positive', 'Negative ', 'Positive', 'Negative ',\n",
       "       'Negative ', 'Positive', 'Positive', 'Positive', 'Positive',\n",
       "       'Negative ', 'Positive', 'Negative ', 'Negative ', 'Negative ',\n",
       "       'Positive', 'Positive', 'Positive', 'Positive', 'Positive',\n",
       "       'Negative ', 'Positive', 'Negative ', 'Positive', 'Positive',\n",
       "       'Negative ', 'Negative ', 'Negative ', 'Negative ', 'Positive',\n",
       "       'Negative ', 'Positive', 'Negative ', 'Positive', 'Negative ',\n",
       "       'Negative ', 'Positive', 'Positive', 'Positive', 'Positive',\n",
       "       'Positive', 'Negative ', 'Positive', 'Positive', 'Negative ',\n",
       "       'Positive', 'Negative ', 'Negative ', 'Positive', 'Positive',\n",
       "       'Positive', 'Positive', 'Negative ', 'Negative ', 'Positive',\n",
       "       'Negative ', 'Negative ', 'Positive', 'Negative ', 'Positive',\n",
       "       'Positive', 'Positive', 'Positive', 'Positive', 'Positive',\n",
       "       'Positive', 'Positive', 'Negative ', 'Negative '], dtype=object)"
      ]
     },
     "execution_count": 30,
     "metadata": {},
     "output_type": "execute_result"
    }
   ],
   "source": [
    "from sklearn import model_selection# random forest model creation\n",
    "rfc = RandomForestClassifier()\n",
    "rfc.fit(X_train,y_train)# predictions\n",
    "rfc_predict = rfc.predict(X_test)\n",
    "rfc_predict"
   ]
  },
  {
   "cell_type": "code",
   "execution_count": 31,
   "metadata": {},
   "outputs": [],
   "source": [
    "from sklearn.model_selection import cross_val_score\n",
    "from sklearn.metrics import classification_report, confusion_matrix"
   ]
  },
  {
   "cell_type": "code",
   "execution_count": 32,
   "metadata": {},
   "outputs": [],
   "source": [
    "rfc_cv_score = cross_val_score(rfc, X_test, y_test, cv=10, scoring='roc_auc')"
   ]
  },
  {
   "cell_type": "code",
   "execution_count": 33,
   "metadata": {},
   "outputs": [
    {
     "name": "stdout",
     "output_type": "stream",
     "text": [
      "=== Confusion Matrix ===\n",
      "[[13 23]\n",
      " [19 29]]\n",
      "\n",
      "\n",
      "=== Classification Report ===\n",
      "              precision    recall  f1-score   support\n",
      "\n",
      "   Negative        0.41      0.36      0.38        36\n",
      "    Positive       0.56      0.60      0.58        48\n",
      "\n",
      "    accuracy                           0.50        84\n",
      "   macro avg       0.48      0.48      0.48        84\n",
      "weighted avg       0.49      0.50      0.50        84\n",
      "\n",
      "\n",
      "\n",
      "=== All AUC Scores ===\n",
      "[0.3        0.5        0.65       0.8        0.35       0.775\n",
      " 0.53333333 1.         0.54166667 0.54166667]\n",
      "\n",
      "\n",
      "=== Mean AUC Score ===\n",
      "Mean AUC Score - Random Forest:  0.5991666666666667\n"
     ]
    }
   ],
   "source": [
    "print(\"=== Confusion Matrix ===\")\n",
    "print(confusion_matrix(y_test, rfc_predict))\n",
    "print('\\n')\n",
    "print(\"=== Classification Report ===\")\n",
    "print(classification_report(y_test, rfc_predict))\n",
    "print('\\n')\n",
    "print(\"=== All AUC Scores ===\")\n",
    "print(rfc_cv_score)\n",
    "print('\\n')\n",
    "print(\"=== Mean AUC Score ===\")\n",
    "print(\"Mean AUC Score - Random Forest: \", rfc_cv_score.mean())"
   ]
  },
  {
   "cell_type": "code",
   "execution_count": null,
   "metadata": {},
   "outputs": [],
   "source": []
  }
 ],
 "metadata": {
  "kernelspec": {
   "display_name": "Python 3",
   "language": "python",
   "name": "python3"
  },
  "language_info": {
   "codemirror_mode": {
    "name": "ipython",
    "version": 3
   },
   "file_extension": ".py",
   "mimetype": "text/x-python",
   "name": "python",
   "nbconvert_exporter": "python",
   "pygments_lexer": "ipython3",
   "version": "3.7.3"
  }
 },
 "nbformat": 4,
 "nbformat_minor": 2
}
