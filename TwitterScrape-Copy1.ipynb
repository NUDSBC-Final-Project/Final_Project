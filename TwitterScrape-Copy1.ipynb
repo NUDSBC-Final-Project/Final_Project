{
 "cells": [
  {
   "cell_type": "code",
   "execution_count": 1,
   "metadata": {},
   "outputs": [],
   "source": [
    "# Dependencies\n",
    "import os\n",
    "import pandas as pd\n",
    "from splinter import Browser\n",
    "from bs4 import BeautifulSoup as bs\n",
    "import numpy as np\n",
    "import re\n",
    "import time\n",
    "from selenium import webdriver\n"
   ]
  },
  {
   "cell_type": "code",
   "execution_count": 2,
   "metadata": {},
   "outputs": [],
   "source": [
    "driver = webdriver.Chrome()\n",
    "url = 'https://www.google.com/search?q=S%26P+500&oq=S%26P+500&aqs=chrome..69i57j69i61.6436j0j4&sourceid=chrome&ie=UTF-8'"
   ]
  },
  {
   "cell_type": "code",
   "execution_count": 3,
   "metadata": {},
   "outputs": [],
   "source": [
    "driver.get(url)"
   ]
  },
  {
   "cell_type": "code",
   "execution_count": 23,
   "metadata": {},
   "outputs": [
    {
     "name": "stdout",
     "output_type": "stream",
     "text": [
      "(0.54%)\n"
     ]
    }
   ],
   "source": [
    "tweets = []\n",
    "tweetdate = []\n",
    "\n",
    "SP = driver.find_elements_by_xpath(\"//g-card-section/div/g-card-section/span[2]/span\")\n",
    "print(SP[1].text)\n",
    "#     datetime_tweet = driver.find_elements_by_xpath(\"//article/div/div[2]/div[2]/div[2]/span/../../div/div/div/a\")\n",
    "\n",
    "#     print(len(datetime_tweet))\n",
    "    \n",
    "    \n",
    "#     for i in range(len(tweet)):\n",
    "#         print(tweet[i].text)\n",
    "#         print(datetime_tweet[i].get_attribute('title'))\n",
    "#         print('---------------------------------------------------------------------------')\n",
    "        \n",
    "        \n",
    "#         date_string = ' '.join(datetime_tweet[i].get_attribute('title').split(' · '))\n",
    "#         print(type(date_string))\n",
    "#         print(date_string)\n",
    "#         datetime_obj = datetime.strptime(date_string, '%H:%M %p %b %d, %Y')\n",
    "        \n",
    "        \n",
    "        \n",
    "#         if datetime_obj > (datetime.now() - timedelta(1)):\n",
    "#             tweetdate.append(datetime_obj)\n",
    "#             tweets.append(tweet[i].text)\n",
    "            \n",
    "            \n",
    "#     driver.execute_script(\"window.scrollTo(0, document.body.scrollHeight);\")\n",
    "#     time.sleep(2)"
   ]
  },
  {
   "cell_type": "code",
   "execution_count": null,
   "metadata": {},
   "outputs": [],
   "source": []
  },
  {
   "cell_type": "code",
   "execution_count": null,
   "metadata": {},
   "outputs": [],
   "source": []
  },
  {
   "cell_type": "code",
   "execution_count": null,
   "metadata": {},
   "outputs": [],
   "source": [
    "\n"
   ]
  },
  {
   "cell_type": "code",
   "execution_count": null,
   "metadata": {},
   "outputs": [],
   "source": []
  },
  {
   "cell_type": "code",
   "execution_count": 102,
   "metadata": {},
   "outputs": [
    {
     "data": {
      "text/html": [
       "<div>\n",
       "<style scoped>\n",
       "    .dataframe tbody tr th:only-of-type {\n",
       "        vertical-align: middle;\n",
       "    }\n",
       "\n",
       "    .dataframe tbody tr th {\n",
       "        vertical-align: top;\n",
       "    }\n",
       "\n",
       "    .dataframe thead th {\n",
       "        text-align: right;\n",
       "    }\n",
       "</style>\n",
       "<table border=\"1\" class=\"dataframe\">\n",
       "  <thead>\n",
       "    <tr style=\"text-align: right;\">\n",
       "      <th></th>\n",
       "      <th>tweets</th>\n",
       "    </tr>\n",
       "  </thead>\n",
       "  <tbody>\n",
       "    <tr>\n",
       "      <th>0</th>\n",
       "      <td>The only way to stop the crazed Radical Left, ...</td>\n",
       "    </tr>\n",
       "    <tr>\n",
       "      <th>1</th>\n",
       "      <td>Crazy Nancy Pelosi’s Impeachment Hoax has lift...</td>\n",
       "    </tr>\n",
       "    <tr>\n",
       "      <th>2</th>\n",
       "      <td>Thank you Iowa for the RECORD vote we just rec...</td>\n",
       "    </tr>\n",
       "    <tr>\n",
       "      <th>3</th>\n",
       "      <td>....was given a horrendous report by his super...</td>\n",
       "    </tr>\n",
       "    <tr>\n",
       "      <th>4</th>\n",
       "      <td>Fake News</td>\n",
       "    </tr>\n",
       "    <tr>\n",
       "      <th>5</th>\n",
       "      <td>Not good!</td>\n",
       "    </tr>\n",
       "    <tr>\n",
       "      <th>6</th>\n",
       "      <td>Can’t wait to join</td>\n",
       "    </tr>\n",
       "    <tr>\n",
       "      <th>7</th>\n",
       "      <td>Can’t wait to join</td>\n",
       "    </tr>\n",
       "  </tbody>\n",
       "</table>\n",
       "</div>"
      ],
      "text/plain": [
       "                                              tweets\n",
       "0  The only way to stop the crazed Radical Left, ...\n",
       "1  Crazy Nancy Pelosi’s Impeachment Hoax has lift...\n",
       "2  Thank you Iowa for the RECORD vote we just rec...\n",
       "3  ....was given a horrendous report by his super...\n",
       "4                                         Fake News \n",
       "5                                          Not good!\n",
       "6                                Can’t wait to join \n",
       "7                                Can’t wait to join "
      ]
     },
     "execution_count": 102,
     "metadata": {},
     "output_type": "execute_result"
    }
   ],
   "source": [
    "tweets_df = pd.DataFrame({'tweets': tweets})\n",
    "tweets_df"
   ]
  },
  {
   "cell_type": "code",
   "execution_count": 103,
   "metadata": {},
   "outputs": [],
   "source": [
    "from bs4 import BeautifulSoup as bs\n",
    "import splinter"
   ]
  },
  {
   "cell_type": "code",
   "execution_count": 124,
   "metadata": {},
   "outputs": [
    {
     "data": {
      "text/plain": [
       "'Crazy Nancy Pelosi’s Impeachment Hoax has lifted Republican Congressional Polls (she lost the House once before!), and my Polls, WAY UP, which was expected, but it has had a great effect on Republican Senate races, including North Carolina, Kentucky, Colorado and Arizona. Thanks! Thank you Iowa for the RECORD vote we just received in the Primary. The Dems were 25% down (although their votes are all fried!). ....was given a horrendous report by his superior, the man he reported to, who publicly stated that Vindman had problems with judgement, adhering to the chain of command and leaking information. In other words, “OUT”. Fake News  Not good! Can’t wait to join '"
      ]
     },
     "execution_count": 124,
     "metadata": {},
     "output_type": "execute_result"
    }
   ],
   "source": [
    "temptweet = []\n",
    "x = ' '.join(tweets)\n",
    "x\n",
    "# for tweet in tweets:\n",
    "#     tweetsofday = ''  \n",
    "#     tweetsofday = tweetsofday + str(tweet) + ' '\n",
    "    \n",
    "#     temptweet.append(tweetsofday)"
   ]
  },
  {
   "cell_type": "code",
   "execution_count": 122,
   "metadata": {},
   "outputs": [
    {
     "data": {
      "text/plain": [
       "['Crazy Nancy Pelosi’s Impeachment Hoax has lifted Republican Congressional Polls (she lost the House once before!), and my Polls, WAY UP, which was expected, but it has had a great effect on Republican Senate races, including North Carolina, Kentucky, Colorado and Arizona. Thanks! ',\n",
       " 'Thank you Iowa for the RECORD vote we just received in the Primary. The Dems were 25% down (although their votes are all fried!). ',\n",
       " '....was given a horrendous report by his superior, the man he reported to, who publicly stated that Vindman had problems with judgement, adhering to the chain of command and leaking information. In other words, “OUT”. ',\n",
       " 'Fake News  ',\n",
       " 'Not good! ',\n",
       " 'Can’t wait to join  ']"
      ]
     },
     "execution_count": 122,
     "metadata": {},
     "output_type": "execute_result"
    }
   ],
   "source": [
    "temptweet"
   ]
  },
  {
   "cell_type": "code",
   "execution_count": 107,
   "metadata": {},
   "outputs": [
    {
     "data": {
      "text/plain": [
       "<8x64 sparse matrix of type '<class 'numpy.float64'>'\n",
       "\twith 69 stored elements in Compressed Sparse Row format>"
      ]
     },
     "execution_count": 107,
     "metadata": {},
     "output_type": "execute_result"
    }
   ],
   "source": [
    "from sklearn.feature_extraction.text import TfidfVectorizer\n",
    "vectorizer = TfidfVectorizer(stop_words='english')\n",
    "newtweets = vectorizer.fit_transform(tweets)\n",
    "newtweets"
   ]
  },
  {
   "cell_type": "code",
   "execution_count": 94,
   "metadata": {},
   "outputs": [],
   "source": [
    "# cleaned_tweets = []\n",
    "\n",
    "# for index, row in tweets_df.iterrows():\n",
    "#     # Here we are filtering out all the words that contains link\n",
    "#     words_without_links = [word for word in row.tidy_tweets.split() if 'http' not in word]\n",
    "#     cleaned_tweets.append(' '.join(words_without_links))\n",
    "\n",
    "# tweets_df['tidy_tweets'] = cleaned_tweets"
   ]
  },
  {
   "cell_type": "code",
   "execution_count": 108,
   "metadata": {},
   "outputs": [],
   "source": [
    "# tweets_df"
   ]
  },
  {
   "cell_type": "code",
   "execution_count": null,
   "metadata": {},
   "outputs": [],
   "source": []
  },
  {
   "cell_type": "code",
   "execution_count": 109,
   "metadata": {},
   "outputs": [],
   "source": [
    "# tweets_df['absolute_tidy_tweets'] = tweets_df['tidy_tweets'].str.replace(\"[^a-zA-Z# ]\", \"\")\n",
    "# tweets_df.head(25)"
   ]
  },
  {
   "cell_type": "code",
   "execution_count": 110,
   "metadata": {},
   "outputs": [],
   "source": [
    "# # Replace image link with the word picture\n",
    "# tweets_df['absolute_tidy_tweets'] = tweets_df['absolute_tidy_tweets'].str.replace(\"pictwittercom\", \"\")\n",
    "# tweets_df.head(25)"
   ]
  },
  {
   "cell_type": "code",
   "execution_count": null,
   "metadata": {},
   "outputs": [],
   "source": []
  }
 ],
 "metadata": {
  "kernelspec": {
   "display_name": "Python 3",
   "language": "python",
   "name": "python3"
  },
  "language_info": {
   "codemirror_mode": {
    "name": "ipython",
    "version": 3
   },
   "file_extension": ".py",
   "mimetype": "text/x-python",
   "name": "python",
   "nbconvert_exporter": "python",
   "pygments_lexer": "ipython3",
   "version": "3.7.3"
  }
 },
 "nbformat": 4,
 "nbformat_minor": 2
}
